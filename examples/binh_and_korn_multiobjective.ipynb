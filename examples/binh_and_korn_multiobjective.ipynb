{
 "cells": [
  {
   "cell_type": "markdown",
   "id": "df25a30b",
   "metadata": {},
   "source": [
    "# Binh and Korn function multi-objective optimization (min).\n",
    "\n",
    "Minimize the equations given by:\n",
    "\n",
    "\\begin{cases}\n",
    "      f_{1}\\left(x,y\\right) = 4x^{2} + 4y^{2}, \\\\\n",
    "      f_{2}\\left(x,y\\right) = \\left(x - 5\\right)^{2} + \\left(y - 5\\right)^{2} \\\\\n",
    "\\end{cases}\n",
    "\n",
    "subject to:\n",
    "\n",
    "\\begin{cases}\n",
    "      g_{1}\\left(x,y\\right) = \\left(x - 5\\right)^{2} + y^{2} \\leq 25, \\\\\n",
    "      g_{2}\\left(x,y\\right) = \\left(x - 8\\right)^{2} + \\left(y + 3\\right)^{2} \\geq 7.7 \\\\\n",
    "\\end{cases}\n",
    "\n",
    "where:\n",
    "\n",
    "\\begin{cases}\n",
    "      0\\le x \\le 5, \\\\\n",
    "      0\\le y \\le 3. \\\\\n",
    "\\end{cases}\n",
    "\n",
    "The Pareto-optimal solutions are constituted by solutions:\n",
    "    $ x=y ∈ [0.0, 3.0] \\text{  and  } x ∈ [3.0, 5.0], y=3.0.$"
   ]
  },
  {
   "cell_type": "markdown",
   "id": "bb448d0a",
   "metadata": {},
   "source": [
    "### First we import python libraries and set up the directory of our code."
   ]
  },
  {
   "cell_type": "code",
   "execution_count": 1,
   "id": "a7e3adb4",
   "metadata": {},
   "outputs": [],
   "source": [
    "import os, sys\n",
    "import numpy as np\n",
    "from math import fsum\n",
    "import matplotlib.pyplot as plt\n",
    "\n",
    "PROJECT_DIR = os.path.abspath('../code/')\n",
    "sys.path.append(PROJECT_DIR)"
   ]
  },
  {
   "cell_type": "markdown",
   "id": "cbab465f",
   "metadata": {},
   "source": [
    "### Here we import all our custom GA code."
   ]
  },
  {
   "cell_type": "code",
   "execution_count": 2,
   "id": "247088c6",
   "metadata": {},
   "outputs": [],
   "source": [
    "# Import main classes.\n",
    "from pygenalgo.genome.gene import Gene\n",
    "from pygenalgo.genome.chromosome import Chromosome\n",
    "from pygenalgo.engines.standard_ga import StandardGA\n",
    "\n",
    "# Import Selection Operator(s).\n",
    "from pygenalgo.operators.selection.linear_rank_selector import LinearRankSelector\n",
    "\n",
    "# Import Crossover Operator(s).\n",
    "from pygenalgo.operators.crossover.uniform_crossover import UniformCrossover\n",
    "\n",
    "# Import Mutation Operator(s).\n",
    "from pygenalgo.operators.mutation.random_mutator import RandomMutator"
   ]
  },
  {
   "cell_type": "markdown",
   "id": "e91fb6e2",
   "metadata": {},
   "source": [
    "### Define the sphere function, which plays also the role of the 'fitness' function.\n",
    "\n",
    "In addition, we define the '_func' which takes the role of the 'random()' method of the Genes. Every time we\n",
    "want to 'mutate' a gene this function will be called that returns 'valid', but random values for the gene."
   ]
  },
  {
   "cell_type": "code",
   "execution_count": 3,
   "id": "be1afc07",
   "metadata": {},
   "outputs": [],
   "source": [
    "# Multi-objective function.\n",
    "def fun_Binh_Korn(individual: Chromosome, f_min: bool = True):\n",
    "    \n",
    "    # Set the penalty coefficient.\n",
    "    p_c = 0.5\n",
    "    \n",
    "    # Extract gene values as 'x' and 'y', for parsimony.\n",
    "    x, y = individual[0].datum, individual[1].datum\n",
    "    \n",
    "    # Compute each objective function.\n",
    "    f1 = 4.0 * (x**2 + y**2)\n",
    "    f2 = (x - 5.0)**2 + (y - 5.0)**2\n",
    "    \n",
    "    # Compute the constraints.\n",
    "    g1 = max(0.0, (x - 5.0)**2 + y**2 - 25.0)**2\n",
    "    g2 = min(0.0, (x - 8.0)**2 + (y + 2.0)**2 - 7.7)**2\n",
    "    \n",
    "    # Compute the final value.\n",
    "    f_val = np.mean([f1 + p_c*g1,\n",
    "                     f2 + p_c*g2])\n",
    "    \n",
    "    # Return the negative (to account for minimization).\n",
    "    return -f_val if f_min else f_val\n",
    "# _end_def_\n",
    "\n",
    "# Random function: ~Ux(0.0, 5.0).\n",
    "_func_x = lambda: np.random.uniform(0.0, 5.001)\n",
    "\n",
    "# Random function: ~Uy(0.0, 3.0).\n",
    "_func_y = lambda: np.random.uniform(0.0, 3.001)"
   ]
  },
  {
   "cell_type": "markdown",
   "id": "5304ee70",
   "metadata": {},
   "source": [
    "Here we set the GA parameters, such as number of genes, number of chromosomes, etc. Note that in this case each\n",
    "gene has the same random() function (set by '_func'). But if the problem demands otherwise it is easy to set a \n",
    "different random() function for each gene."
   ]
  },
  {
   "cell_type": "code",
   "execution_count": 4,
   "id": "57fb9f33",
   "metadata": {},
   "outputs": [],
   "source": [
    "# Define the number of chromosomes.\n",
    "N = 100\n",
    "\n",
    "# Initial population.\n",
    "population = [Chromosome([Gene(np.random.uniform(0.0, 5.001), _func_x),\n",
    "                          Gene(np.random.uniform(0.0, 3.001), _func_y)], np.nan, True)\n",
    "              for i in range(N)]\n",
    "\n",
    "# Create the StandardGA object that will carry on the optimization.\n",
    "# Note: in this example we have accepted, silently, the default probabilities in the\n",
    "# genetic operators. These can be altered here before passed to the StandardGA constructor.\n",
    "toy_GA = StandardGA(initial_pop=population, fit_func=fun_Binh_Korn, select_op=LinearRankSelector(),\n",
    "                    mutate_op=RandomMutator(), cross_op=UniformCrossover())"
   ]
  },
  {
   "cell_type": "markdown",
   "id": "517084eb",
   "metadata": {},
   "source": [
    "### Optimization process.\n",
    "\n",
    "Here we call the GA object (either directly, or through the method run()). We set a number of parameter, such as the maximum iterations (i.e. epochs), tolerance for the fitness convergences, etc."
   ]
  },
  {
   "cell_type": "code",
   "execution_count": 5,
   "id": "828f50a3",
   "metadata": {},
   "outputs": [
    {
     "name": "stdout",
     "output_type": "stream",
     "text": [
      "Initial Avg. Fitness = -33.7757\n",
      "Final   Avg. Fitness = -20.5468\n",
      "Elapsed time: 73.720 seconds.\n"
     ]
    }
   ],
   "source": [
    "toy_GA.run(epochs=5000, elitism=True, f_tol=1.0e-6, verbose=False)"
   ]
  },
  {
   "cell_type": "code",
   "execution_count": 6,
   "id": "b04ddaf2",
   "metadata": {},
   "outputs": [
    {
     "name": "stdout",
     "output_type": "stream",
     "text": [
      "x=1.00020, y=1.00000\n",
      "\n",
      "f1(x,y) = 8.00162\n",
      "f2(x,y) = 31.99838\n"
     ]
    }
   ],
   "source": [
    "# Extract the optimal values.\n",
    "x, y = toy_GA.best_chromosome()._genome\n",
    "\n",
    "# Compute the final objective functions.\n",
    "f1 = 4.0 * (x.datum**2 + y.datum**2)\n",
    "f2 = (x.datum - 5.0)**2 + (y.datum - 5.0)**2\n",
    "\n",
    "# Print the resutls.\n",
    "print(f\"x={x.datum:.5f}, y={y.datum:.5f}\", end='\\n\\n')\n",
    "print(f\"f1(x,y) = {f1:.5f}\")\n",
    "print(f\"f2(x,y) = {f2:.5f}\")"
   ]
  },
  {
   "cell_type": "markdown",
   "id": "574e346b",
   "metadata": {},
   "source": [
    "**Note that the above solution is indeed in the Pareto-optimal solutions!**"
   ]
  },
  {
   "cell_type": "markdown",
   "id": "c73558d0",
   "metadata": {},
   "source": [
    "### End of file"
   ]
  },
  {
   "cell_type": "code",
   "execution_count": null,
   "id": "e6eacedc",
   "metadata": {},
   "outputs": [],
   "source": []
  }
 ],
 "metadata": {
  "kernelspec": {
   "display_name": "SOMap",
   "language": "python",
   "name": "somap"
  },
  "language_info": {
   "codemirror_mode": {
    "name": "ipython",
    "version": 3
   },
   "file_extension": ".py",
   "mimetype": "text/x-python",
   "name": "python",
   "nbconvert_exporter": "python",
   "pygments_lexer": "ipython3",
   "version": "3.10.13"
  }
 },
 "nbformat": 4,
 "nbformat_minor": 5
}
