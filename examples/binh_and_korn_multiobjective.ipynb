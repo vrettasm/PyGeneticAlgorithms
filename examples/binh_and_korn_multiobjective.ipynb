{
 "cells": [
  {
   "cell_type": "markdown",
   "id": "df25a30b",
   "metadata": {},
   "source": [
    "# Binh and Korn function\n",
    "\n",
    "---\n",
    "Description:\n",
    "\n",
    "- Optimization (min)\n",
    "- Multi-objective (2)\n",
    "- Constraints (2)\n",
    "---\n",
    "\n",
    "\n",
    "The goal is to **minimize** the following equations:\n",
    "\n",
    "\\begin{cases}\n",
    "      f_{1}\\left(x,y\\right) = 4x^{2} + 4y^{2}, \\\\\n",
    "      f_{2}\\left(x,y\\right) = \\left(x - 5\\right)^{2} + \\left(y - 5\\right)^{2} \\\\\n",
    "\\end{cases}\n",
    "\n",
    "subject to constraints:\n",
    "\n",
    "\\begin{cases}\n",
    "      C_{1}\\left(x,y\\right) = \\left(x - 5\\right)^{2} + y^{2} \\leq 25, \\\\\n",
    "      C_{2}\\left(x,y\\right) = \\left(x - 8\\right)^{2} + \\left(y + 3\\right)^{2} \\geq 7.7 \\\\\n",
    "\\end{cases}\n",
    "\n",
    "where:\n",
    "\n",
    "\\begin{cases}\n",
    "      0\\le x \\le 5, \\\\\n",
    "      0\\le y \\le 3. \\\\\n",
    "\\end{cases}\n",
    "\n",
    "The Pareto-optimal solutions are constituted by solutions:\n",
    "    $ x=y ∈ [0.0, 3.0] \\text{  and  } x ∈ [3.0, 5.0], y=3.0.$"
   ]
  },
  {
   "cell_type": "markdown",
   "id": "bb448d0a",
   "metadata": {},
   "source": [
    "### First we import python libraries and set up the directory of our code."
   ]
  },
  {
   "cell_type": "code",
   "execution_count": 3,
   "id": "a7e3adb4",
   "metadata": {},
   "outputs": [],
   "source": [
    "import os, sys\n",
    "import numpy as np\n",
    "from math import fsum\n",
    "\n",
    "PROJECT_DIR = os.path.abspath('..')\n",
    "sys.path.append(PROJECT_DIR)"
   ]
  },
  {
   "cell_type": "markdown",
   "id": "cbab465f",
   "metadata": {},
   "source": [
    "### Here we import all our custom GA code."
   ]
  },
  {
   "cell_type": "code",
   "execution_count": 5,
   "id": "247088c6",
   "metadata": {},
   "outputs": [],
   "source": [
    "# Import main classes.\n",
    "from pygenalgo.genome.gene import Gene\n",
    "from pygenalgo.genome.chromosome import Chromosome\n",
    "from pygenalgo.engines.standard_ga import StandardGA\n",
    "\n",
    "# Import Selection Operator(s).\n",
    "from pygenalgo.operators.selection.linear_rank_selector import LinearRankSelector\n",
    "\n",
    "# Import Crossover Operator(s).\n",
    "from pygenalgo.operators.crossover.uniform_crossover import UniformCrossover\n",
    "\n",
    "# Import Mutation Operator(s).\n",
    "from pygenalgo.operators.mutation.random_mutator import RandomMutator"
   ]
  },
  {
   "cell_type": "markdown",
   "id": "e91fb6e2",
   "metadata": {},
   "source": [
    "### Define the multi-objective function, which plays also the role of the 'fitness' function.\n",
    "\n",
    "In addition, we define the 'rand_fx', 'rand_fy' which take the role of the 'random()' method of the Genes.\n",
    "Every time we want to 'mutate' a gene this function will be called and assign a 'valid', but random value\n",
    "for the gene."
   ]
  },
  {
   "cell_type": "code",
   "execution_count": 7,
   "id": "be1afc07",
   "metadata": {},
   "outputs": [],
   "source": [
    "# Multi-objective function.\n",
    "def fun_Binh_Korn(individual: Chromosome, f_min: bool = True):\n",
    "    \n",
    "    # Set the penalty coefficient.\n",
    "    p_c = 0.5\n",
    "    \n",
    "    # Extract the data values as 'x' and 'y', for parsimony.\n",
    "    x, y = [gene.value for gene in individual.genome]\n",
    "    \n",
    "    # Compute each objective function.\n",
    "    f1 = 4.0 * (x**2 + y**2)\n",
    "    f2 = (x - 5.0)**2 + (y - 5.0)**2\n",
    "    \n",
    "    # Compute the constraints.\n",
    "    C1 = max(0.0, (x - 5.0)**2 + y**2 - 25.0)**2\n",
    "    C2 = min(0.0, (x - 8.0)**2 + (y + 2.0)**2 - 7.7)**2\n",
    "    \n",
    "    # Compute the final value.\n",
    "    f_val = fsum([0.5*f1, 0.5*f2, p_c*C1, p_c*C2])\n",
    "    \n",
    "    # Return the negative (to account for minimization).\n",
    "    return -f_val if f_min else f_val\n",
    "# _end_def_\n",
    "\n",
    "# Random functions:\n",
    "rand_fx = lambda: np.random.uniform(0.0, 5.0)\n",
    "rand_fy = lambda: np.random.uniform(0.0, 3.0)"
   ]
  },
  {
   "cell_type": "markdown",
   "id": "5304ee70",
   "metadata": {},
   "source": [
    "Here we set the GA parameters, such as number of genes, number of chromosomes, etc. Note that in this case each\n",
    "gene has different random() function (set by 'rand_fx' and 'rand_fy'), because they are valid in different ranges\n",
    "according to the problem definition."
   ]
  },
  {
   "cell_type": "code",
   "execution_count": 9,
   "id": "57fb9f33",
   "metadata": {},
   "outputs": [],
   "source": [
    "# Define the number of chromosomes.\n",
    "N = 100\n",
    "\n",
    "# Initial population.\n",
    "population = [Chromosome([Gene(np.random.uniform(0.0, 5.0), rand_fx),\n",
    "                          Gene(np.random.uniform(0.0, 3.0), rand_fy)], np.nan, True)\n",
    "              for _ in range(N)]\n",
    "\n",
    "# Create the StandardGA object that will carry on the optimization.\n",
    "test_GA = StandardGA(initial_pop=population, fit_func=fun_Binh_Korn,\n",
    "                     select_op=LinearRankSelector(),\n",
    "                     mutate_op=RandomMutator(),\n",
    "                     crossx_op=UniformCrossover())"
   ]
  },
  {
   "cell_type": "markdown",
   "id": "517084eb",
   "metadata": {},
   "source": [
    "### Optimization process.\n",
    "\n",
    "Here we call the GA object (either directly, or through the method run()). We set a number of parameter, such as the maximum iterations (i.e. epochs), tolerance for the fitness convergences, etc."
   ]
  },
  {
   "cell_type": "code",
   "execution_count": 11,
   "id": "828f50a3",
   "metadata": {},
   "outputs": [
    {
     "name": "stdout",
     "output_type": "stream",
     "text": [
      "Initial Avg. Fitness = -33.2080.\n",
      "Final   Avg. Fitness = -29.8295.\n",
      "Elapsed time: 0.752 seconds.\n"
     ]
    }
   ],
   "source": [
    "test_GA(epochs=500, elitism=True, f_tol=1.0e-6, verbose=False)"
   ]
  },
  {
   "cell_type": "code",
   "execution_count": 12,
   "id": "b04ddaf2",
   "metadata": {},
   "outputs": [
    {
     "name": "stdout",
     "output_type": "stream",
     "text": [
      "x=1.02992, y=0.99747\n",
      "\n",
      "f1(x, y) = 8.22275\n",
      "f2(x, y) = 31.78176\n"
     ]
    }
   ],
   "source": [
    "# Extract the data values as 'x' and 'y', for parsimony.\n",
    "x, y = [gene.value for gene in test_GA.best_chromosome().genome]\n",
    "\n",
    "# Compute the final objective functions.\n",
    "f1 = 4.0 * (x**2 + y**2)\n",
    "f2 = (x - 5.0)**2 + (y - 5.0)**2\n",
    "\n",
    "# Print the resutls.\n",
    "print(f\"x={x:.5f}, y={y:.5f}\", end='\\n\\n')\n",
    "print(f\"f1(x, y) = {f1:.5f}\")\n",
    "print(f\"f2(x, y) = {f2:.5f}\")"
   ]
  },
  {
   "cell_type": "markdown",
   "id": "574e346b",
   "metadata": {},
   "source": [
    "**Note that the above solution is indeed in the Pareto-optimal solutions!**"
   ]
  },
  {
   "cell_type": "markdown",
   "id": "c73558d0",
   "metadata": {},
   "source": [
    "### End of file"
   ]
  },
  {
   "cell_type": "code",
   "execution_count": null,
   "id": "8a827a6d-d800-4319-8d39-3ce246b3b723",
   "metadata": {},
   "outputs": [],
   "source": []
  }
 ],
 "metadata": {
  "kernelspec": {
   "display_name": "venv_tf",
   "language": "python",
   "name": "venv_tf"
  },
  "language_info": {
   "codemirror_mode": {
    "name": "ipython",
    "version": 3
   },
   "file_extension": ".py",
   "mimetype": "text/x-python",
   "name": "python",
   "nbconvert_exporter": "python",
   "pygments_lexer": "ipython3",
   "version": "3.10.13"
  }
 },
 "nbformat": 4,
 "nbformat_minor": 5
}
