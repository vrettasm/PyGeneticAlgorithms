{
 "cells": [
  {
   "cell_type": "markdown",
   "id": "f53534bc",
   "metadata": {},
   "source": [
    "# Easom function\n",
    "\n",
    "---\n",
    "Description:\n",
    "\n",
    "- Optimization (min)\n",
    "- Single-objective\n",
    "- Constraints (no)\n",
    "---\n",
    "\n",
    "The general equation is given by:\n",
    "\n",
    "- $f(x, y) = -\\cos(x)\\cos(y)\\exp\\{ -((x-\\pi)^2 + (y-\\pi)^2) \\}$,\n",
    "\n",
    "with  $-100 \\le x, y \\le +100$, and global minimum found at: $f(\\pi, \\pi) = -1.0$."
   ]
  },
  {
   "cell_type": "markdown",
   "id": "c735767e",
   "metadata": {},
   "source": [
    "### First we import python libraries and set up the directory of our code."
   ]
  },
  {
   "cell_type": "code",
   "execution_count": 1,
   "id": "b4f4089f",
   "metadata": {},
   "outputs": [],
   "source": [
    "import os, sys\n",
    "import numpy as np\n",
    "from math import fsum, isclose\n",
    "\n",
    "PROJECT_DIR = os.path.abspath('..')\n",
    "sys.path.append(PROJECT_DIR)"
   ]
  },
  {
   "cell_type": "markdown",
   "id": "c0fddc80",
   "metadata": {},
   "source": [
    "### Here we import all our custom GA code."
   ]
  },
  {
   "cell_type": "code",
   "execution_count": 2,
   "id": "3b519b27",
   "metadata": {},
   "outputs": [],
   "source": [
    "# Import main classes.\n",
    "from pygenalgo.genome.gene import Gene\n",
    "from pygenalgo.genome.chromosome import Chromosome\n",
    "from pygenalgo.engines.island_model_ga import IslandModelGA\n",
    "\n",
    "# Import Selection Operator(s).\n",
    "from pygenalgo.operators.selection.linear_rank_selector import LinearRankSelector\n",
    "\n",
    "# Import Crossover Operator(s).\n",
    "from pygenalgo.operators.crossover.uniform_crossover import UniformCrossover\n",
    "\n",
    "# Import Mutation Operator(s).\n",
    "from pygenalgo.operators.mutation.gaussian_mutator import GaussianMutator\n",
    "\n",
    "# Import Migration Operator(s).\n",
    "from pygenalgo.operators.migration.clockwise_migration import ClockwiseMigration"
   ]
  },
  {
   "cell_type": "markdown",
   "id": "c024e710",
   "metadata": {},
   "source": [
    "### Define the Easom function, which plays also the role of the 'fitness' function.\n",
    "\n",
    "In addition, we define the 'boundary_xy' which takes the role of the 'random()' method of the Genes. Every time\n",
    "we want to 'mutate' a gene this function will be called and assign a 'valid', but random value for the gene. Here we also define a \"check_validity\" function that plays the role of checking the genes values and flaging those with invalid values. This example demonstrates how one can use the \"correction=True\" option."
   ]
  },
  {
   "cell_type": "code",
   "execution_count": 3,
   "id": "9c4bcc29",
   "metadata": {},
   "outputs": [],
   "source": [
    "# Checks the genes for correct ranges.\n",
    "def check_validity(chromosome: Chromosome) -> bool:\n",
    "\n",
    "    # Initial flag set to True.\n",
    "    is_valid = True\n",
    "    \n",
    "    # Check if the gene values are out of range.\n",
    "    for gene in chromosome.genome:\n",
    "\n",
    "        # This range is problem specific.\n",
    "        if gene.value < -100.0 or gene.value > +100.0:\n",
    "            \n",
    "            # Invalidate the gene.\n",
    "            gene.is_valid = False\n",
    "\n",
    "            # If one gene is invalid then the\n",
    "            # whole chromosome is invalid too.\n",
    "            is_valid = False\n",
    "        # _end_if_\n",
    "\n",
    "    # _end_for_\n",
    "\n",
    "    return is_valid\n",
    "# _end_def_\n",
    "\n",
    "# Easom function.\n",
    "def fun_Easom(chromosome, f_min: bool = True):\n",
    "\n",
    "    # Check if the chromosome has valid genes.\n",
    "    is_valid = check_validity(chromosome)\n",
    "    \n",
    "    # Extract the data values as 'x' and 'y', for parsimony.\n",
    "    x, y = chromosome.values()\n",
    "    \n",
    "    # Calculate the function value.\n",
    "    f_val = -np.cos(x) * np.cos(y) * np.exp(-((x - np.pi)**2 + (y - np.pi)**2))\n",
    "\n",
    "    # Condition for termination.\n",
    "    # NOTE: if the chromosome has invalid genes we can't consider it as good solution.\n",
    "    solution_found = isclose(f_val, -1.0, rel_tol=1.0e-5) if is_valid else False\n",
    "\n",
    "    # Assign the fitness value (check for minimization).\n",
    "    fit_value = -f_val if f_min else f_val\n",
    "    \n",
    "    # Return the solution tuple.\n",
    "    return fit_value, solution_found\n",
    "# _end_def_"
   ]
  },
  {
   "cell_type": "markdown",
   "id": "a79ebb8b",
   "metadata": {},
   "source": [
    "Here we set the GA parameters, such as number of genes, number of chromosomes, etc."
   ]
  },
  {
   "cell_type": "code",
   "execution_count": 4,
   "id": "cbbcae38",
   "metadata": {},
   "outputs": [],
   "source": [
    "# Random number generator.\n",
    "rng = np.random.default_rng()\n",
    "\n",
    "# Random boundary function: ~U(-100, +100).\n",
    "boundary_xy = lambda: rng.uniform(-100.0, 100.0)\n",
    "\n",
    "# Define the number of chromosomes.\n",
    "N = 200\n",
    "\n",
    "# Draw random samples for the initial points.\n",
    "xy_init = rng.uniform(-100.0, +100.0, size=(N, 2))\n",
    "\n",
    "# Initial population.\n",
    "population = [Chromosome([Gene(xy_init[i, 0], boundary_xy),\n",
    "                          Gene(xy_init[i, 1], boundary_xy)], np.nan, True)\n",
    "              for i in range(N)]\n",
    "\n",
    "# Create the IslandModelGA object that will carry on the optimization.\n",
    "test_GA = IslandModelGA(initial_pop=population,\n",
    "                        fit_func=fun_Easom, num_islands=4,\n",
    "                        select_op=LinearRankSelector(),\n",
    "                        mutate_op=GaussianMutator(),\n",
    "                        crossx_op=UniformCrossover(),\n",
    "                        migrate_op=ClockwiseMigration())"
   ]
  },
  {
   "cell_type": "markdown",
   "id": "5cd42cdb",
   "metadata": {},
   "source": [
    "### Optimization process.\n",
    "\n",
    "Here we call the GA object (either directly, or through the method run()). We set a number of parameter, such as the maximum iterations (i.e. epochs), tolerance for the fitness convergences, etc."
   ]
  },
  {
   "cell_type": "code",
   "execution_count": 5,
   "id": "3b340ab3",
   "metadata": {
    "scrolled": true
   },
   "outputs": [
    {
     "name": "stdout",
     "output_type": "stream",
     "text": [
      "Parallel evolution in progress with 4 islands ...\n",
      "Final Avg. Fitness = 0.4558.\n",
      "Elapsed time: 1.176 seconds.\n"
     ]
    }
   ],
   "source": [
    "test_GA(epochs=1500, elitism=True, f_tol=1.0e-6, allow_migration=True, correction=True, adapt_probs=True)"
   ]
  },
  {
   "cell_type": "code",
   "execution_count": 6,
   "id": "5acf66f6",
   "metadata": {},
   "outputs": [
    {
     "name": "stdout",
     "output_type": "stream",
     "text": [
      "Minimum Found: -1.00000\n",
      "\n",
      "x0 = 3.14058\n",
      "x1 = 3.14120\n"
     ]
    }
   ],
   "source": [
    "# Extract the optimal solution from the GA.\n",
    "optimal_solution = test_GA.best_chromosome()\n",
    "\n",
    "# Extract the fitness value from the optimal solution.\n",
    "optimal_fit, _ = fun_Easom(optimal_solution, f_min=False)\n",
    "\n",
    "# Display the (final) optimal value.\n",
    "print(f\"Minimum Found: {optimal_fit:.5f}\\n\")\n",
    "\n",
    "# Display each gene value separately.\n",
    "for i, xi in enumerate(optimal_solution.values()):\n",
    "    print(f\"x{i} = {xi:.5f}\")\n",
    "# _end_for_\n",
    "\n",
    "# True minimum: f(\\pi, \\pi) = -1.0"
   ]
  },
  {
   "cell_type": "markdown",
   "id": "00012604",
   "metadata": {},
   "source": [
    "### End of file"
   ]
  },
  {
   "cell_type": "code",
   "execution_count": null,
   "id": "bad63488",
   "metadata": {},
   "outputs": [],
   "source": []
  }
 ],
 "metadata": {
  "kernelspec": {
   "display_name": "venv_tf",
   "language": "python",
   "name": "venv_tf"
  },
  "language_info": {
   "codemirror_mode": {
    "name": "ipython",
    "version": 3
   },
   "file_extension": ".py",
   "mimetype": "text/x-python",
   "name": "python",
   "nbconvert_exporter": "python",
   "pygments_lexer": "ipython3",
   "version": "3.10.13"
  }
 },
 "nbformat": 4,
 "nbformat_minor": 5
}
