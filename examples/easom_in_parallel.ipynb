{
 "cells": [
  {
   "cell_type": "markdown",
   "id": "df25a30b",
   "metadata": {},
   "source": [
    "# Easom optimization (min).\n",
    "\n",
    "The general equation of sphere is given by:\n",
    "\n",
    "$f(x, y) = -\\cos(x)\\cos(y)\\exp\\{ -((x-\\pi)^2 + (y-\\pi)^2) \\}$,\n",
    "\n",
    "with  $-100 \\le x, y \\le +100$, and global minimum found at: $f(\\pi, \\pi) = -1.0$."
   ]
  },
  {
   "cell_type": "markdown",
   "id": "bb448d0a",
   "metadata": {},
   "source": [
    "### First we import python libraries and set up the directory of our code."
   ]
  },
  {
   "cell_type": "code",
   "execution_count": 1,
   "id": "a7e3adb4",
   "metadata": {},
   "outputs": [],
   "source": [
    "import os, sys\n",
    "import numpy as np\n",
    "from math import fsum\n",
    "import matplotlib.pyplot as plt\n",
    "\n",
    "PROJECT_DIR = os.path.abspath('../code')\n",
    "sys.path.append(PROJECT_DIR)"
   ]
  },
  {
   "cell_type": "markdown",
   "id": "cbab465f",
   "metadata": {},
   "source": [
    "### Here we import all our custom GA code."
   ]
  },
  {
   "cell_type": "code",
   "execution_count": 2,
   "id": "247088c6",
   "metadata": {},
   "outputs": [],
   "source": [
    "# Import main classes.\n",
    "from src.genome.gene import Gene\n",
    "from src.genome.chromosome import Chromosome\n",
    "from src.engines.standard_ga import StandardGA\n",
    "from src.engines.island_model_ga import IslandModelGA\n",
    "\n",
    "# Import Selection Operator(s).\n",
    "from src.operators.selection.linear_rank_selector import LinearRankSelector\n",
    "\n",
    "# Import Crossover Operator(s).\n",
    "from src.operators.crossover.uniform_crossover import UniformCrossover\n",
    "\n",
    "# Import Mutation Operator(s).\n",
    "from src.operators.mutation.random_mutator import RandomMutator\n",
    "\n",
    "# Import Migration Operator(s).\n",
    "from src.operators.migration.clockwise_migration import ClockwiseMigration"
   ]
  },
  {
   "cell_type": "markdown",
   "id": "e91fb6e2",
   "metadata": {},
   "source": [
    "### Define the Easom function, which plays also the role of the 'fitness' function.\n",
    "\n",
    "In addition, we define the '_func' which takes the role of the 'random()' method of the Genes. Every time we\n",
    "want to 'mutate' a gene this function will be called that returns 'valid', but random values for the gene."
   ]
  },
  {
   "cell_type": "code",
   "execution_count": 3,
   "id": "be1afc07",
   "metadata": {},
   "outputs": [],
   "source": [
    "# Easom function.\n",
    "def fun_Easom(chromosome, f_min: bool = True):\n",
    "    \n",
    "    # Extract gene values as 'x' and 'y', for parsimony.\n",
    "    x, y = chromosome[0].datum, chromosome[1].datum\n",
    "    \n",
    "    # Calculate the function value.\n",
    "    f_val = -np.cos(x) * np.cos(y) * np.exp(-((x - np.pi)**2 + (y - np.pi)**2))\n",
    "    \n",
    "    # Return the negative (to account for minimization).\n",
    "    return -f_val if f_min else f_val\n",
    "# _end_def_\n",
    "\n",
    "# Random function ~U(-100, +100).\n",
    "_func = lambda: np.random.uniform(-100.0, 100.0)"
   ]
  },
  {
   "cell_type": "markdown",
   "id": "5304ee70",
   "metadata": {},
   "source": [
    "Here we set the GA parameters, such as number of genes, number of chromosomes, etc. Note that in this case each\n",
    "gene has the same random() function (set by '_func'). But if the problem demands otherwise it is easy to set a \n",
    "different random() function for each gene."
   ]
  },
  {
   "cell_type": "code",
   "execution_count": 4,
   "id": "57fb9f33",
   "metadata": {},
   "outputs": [],
   "source": [
    "# Define the number of chromosomes.\n",
    "N = 300\n",
    "\n",
    "# Initial population.\n",
    "# It is important to note that the initial population is randomly generated with valid values.\n",
    "population = [Chromosome([Gene(np.random.uniform(-5.0, +5.0), _func),\n",
    "                          Gene(np.random.uniform(-5.0, +5.0), _func)], np.nan, True)\n",
    "              for i in range(N)]\n",
    "\n",
    "# Create the IslandModelGA object that will carry on the optimization.\n",
    "toy_GA = IslandModelGA(initial_pop=population, fit_func=fun_Easom, num_islands=5,\n",
    "                       select_op=LinearRankSelector(), mutate_op=RandomMutator(),\n",
    "                       cross_op=UniformCrossover(), migrate_op=ClockwiseMigration())"
   ]
  },
  {
   "cell_type": "markdown",
   "id": "517084eb",
   "metadata": {},
   "source": [
    "### Optimization process.\n",
    "\n",
    "Here we call the GA object (either directly, or through the method run()). We set a number of parameter, such as the maximum iterations (i.e. epochs), tolerance for the fitness convergences, etc."
   ]
  },
  {
   "cell_type": "code",
   "execution_count": 5,
   "id": "828f50a3",
   "metadata": {
    "scrolled": true
   },
   "outputs": [
    {
     "name": "stdout",
     "output_type": "stream",
     "text": [
      "\n",
      "Current period 1 / 10:\n",
      "\n",
      "Best Fitness in island 0 is:= 0.99174\n",
      "Best Fitness in island 1 is:= 0.99147\n",
      "Best Fitness in island 2 is:= 0.95030\n",
      "Best Fitness in island 3 is:= 0.99792\n",
      "Best Fitness in island 4 is:= 0.99726\n",
      "\n",
      "Current period 2 / 10:\n",
      "\n",
      "Best Fitness in island 0 is:= 0.99726\n",
      "Best Fitness in island 1 is:= 0.99899\n",
      "Best Fitness in island 2 is:= 0.99460\n",
      "Best Fitness in island 3 is:= 0.99792\n",
      "Best Fitness in island 4 is:= 0.99859\n",
      "\n",
      "Current period 3 / 10:\n",
      "\n",
      "Best Fitness in island 0 is:= 0.99859\n",
      "Best Fitness in island 1 is:= 0.99899\n",
      "Best Fitness in island 2 is:= 0.99906\n",
      "Best Fitness in island 3 is:= 0.99792\n",
      "Best Fitness in island 4 is:= 0.99859\n",
      "\n",
      "Current period 4 / 10:\n",
      "\n",
      "Best Fitness in island 0 is:= 0.99859\n",
      "Best Fitness in island 1 is:= 0.99899\n",
      "Best Fitness in island 2 is:= 0.99906\n",
      "Best Fitness in island 3 is:= 0.99985\n",
      "Best Fitness in island 4 is:= 0.99978\n",
      "\n",
      "Current period 5 / 10:\n",
      "\n",
      "Best Fitness in island 0 is:= 0.99859\n",
      "Best Fitness in island 1 is:= 0.99996\n",
      "Best Fitness in island 2 is:= 0.99969\n",
      "Best Fitness in island 3 is:= 0.99985\n",
      "Best Fitness in island 4 is:= 0.99996\n",
      "\n",
      "Current period 6 / 10:\n",
      "\n",
      "Best Fitness in island 0 is:= 0.99996\n",
      "Best Fitness in island 1 is:= 0.99996\n",
      "Best Fitness in island 2 is:= 0.99996\n",
      "Best Fitness in island 3 is:= 0.99985\n",
      "Best Fitness in island 4 is:= 0.99996\n",
      "\n",
      "Current period 7 / 10:\n",
      "\n",
      "Best Fitness in island 0 is:= 0.99998\n",
      "Best Fitness in island 1 is:= 0.99996\n",
      "Best Fitness in island 2 is:= 0.99996\n",
      "Best Fitness in island 3 is:= 0.99996\n",
      "Best Fitness in island 4 is:= 0.99996\n",
      "\n",
      "Current period 8 / 10:\n",
      "\n",
      "Best Fitness in island 0 is:= 0.99998\n",
      "Best Fitness in island 1 is:= 0.99998\n",
      "Best Fitness in island 2 is:= 0.99996\n",
      "Best Fitness in island 3 is:= 0.99996\n",
      "Best Fitness in island 4 is:= 0.99996\n",
      "\n",
      "Current period 9 / 10:\n",
      "\n",
      "Best Fitness in island 0 is:= 0.99998\n",
      "Best Fitness in island 1 is:= 0.99998\n",
      "Best Fitness in island 2 is:= 0.99998\n",
      "Best Fitness in island 3 is:= 0.99996\n",
      "Best Fitness in island 4 is:= 0.99996\n",
      "\n",
      "Current period 10 / 10:\n",
      "\n",
      "Best Fitness in island 0 is:= 0.99998\n",
      "Best Fitness in island 1 is:= 0.99998\n",
      "Best Fitness in island 2 is:= 0.99998\n",
      "Best Fitness in island 3 is:= 0.99998\n",
      "Best Fitness in island 4 is:= 0.99996\n",
      "Final Avg. Fitness = 0.9155, Spread = 0.2767\n",
      "Elapsed time: 136.624 seconds.\n"
     ]
    }
   ],
   "source": [
    "toy_GA.run(epochs=5000, elitism=True, f_tol=1.0e-6, allow_migration=True, n_periods=10, verbose=True)"
   ]
  },
  {
   "cell_type": "code",
   "execution_count": 6,
   "id": "b04ddaf2",
   "metadata": {},
   "outputs": [
    {
     "name": "stdout",
     "output_type": "stream",
     "text": [
      "Best Fitness: -0.99998\n",
      "\n",
      "x0 = 3.13879\n",
      "x1 = 3.13998\n"
     ]
    }
   ],
   "source": [
    "# Display the (final) optimal value.\n",
    "print(f\"Best Fitness: {fun_Easom(toy_GA.best_chromosome(), f_min=False):.5f}\\n\")\n",
    "\n",
    "# Display each gene value separately.\n",
    "for i, xi in enumerate(toy_GA.best_chromosome()._genome):\n",
    "    print(f\"x{i} = {xi.datum:.5f}\")\n",
    "# _end_for_\n",
    "\n",
    "# True minimum: f(\\pi, \\pi) = -1.0"
   ]
  },
  {
   "cell_type": "markdown",
   "id": "c73558d0",
   "metadata": {},
   "source": [
    "### End of file"
   ]
  },
  {
   "cell_type": "code",
   "execution_count": null,
   "id": "2ade8307",
   "metadata": {},
   "outputs": [],
   "source": []
  }
 ],
 "metadata": {
  "kernelspec": {
   "display_name": "SOMap",
   "language": "python",
   "name": "somap"
  },
  "language_info": {
   "codemirror_mode": {
    "name": "ipython",
    "version": 3
   },
   "file_extension": ".py",
   "mimetype": "text/x-python",
   "name": "python",
   "nbconvert_exporter": "python",
   "pygments_lexer": "ipython3",
   "version": "3.10.13"
  }
 },
 "nbformat": 4,
 "nbformat_minor": 5
}
