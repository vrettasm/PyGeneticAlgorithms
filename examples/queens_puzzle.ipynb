{
 "cells": [
  {
   "cell_type": "markdown",
   "id": "2f7ef678",
   "metadata": {},
   "source": [
    "# 'N' queens puzzle\n",
    "---\n",
    "Description:\n",
    "\n",
    "- Optimization (combinatorial)\n",
    "- Single-objective\n",
    "- Constraints (yes)\n",
    "---\n",
    "\n",
    "The 'N' queens puzzle is the problem of placing eight chess queens on an N×N chessboard so that no two queens\n",
    "threaten each other; thus, a solution requires that no two queens share the same row, column, or diagonal. \n",
    "\n",
    "An example for N=8 can be found here: https://en.wikipedia.org/wiki/Eight_queens_puzzle"
   ]
  },
  {
   "cell_type": "markdown",
   "id": "ce4a881d",
   "metadata": {},
   "source": [
    "### First we import python libraries and set up the directory of our code."
   ]
  },
  {
   "cell_type": "code",
   "execution_count": 3,
   "id": "45fa9e23",
   "metadata": {},
   "outputs": [],
   "source": [
    "import numpy as np\n",
    "import os, sys, copy\n",
    "import matplotlib.pyplot as plt\n",
    "from collections import namedtuple\n",
    "\n",
    "PROJECT_DIR = os.path.abspath('..')\n",
    "sys.path.append(PROJECT_DIR)"
   ]
  },
  {
   "cell_type": "markdown",
   "id": "b288c9a0",
   "metadata": {},
   "source": [
    "### Here we import all our custom GA code."
   ]
  },
  {
   "cell_type": "code",
   "execution_count": 5,
   "id": "57be36b2",
   "metadata": {},
   "outputs": [],
   "source": [
    "# Import main classes.\n",
    "from pygenalgo.genome.gene import Gene\n",
    "from pygenalgo.genome.chromosome import Chromosome\n",
    "from pygenalgo.engines.island_model_ga import IslandModelGA\n",
    "\n",
    "# Import Selection Operator(s).\n",
    "from pygenalgo.operators.selection.linear_rank_selector import LinearRankSelector\n",
    "\n",
    "# Import Crossover Operator(s).\n",
    "from pygenalgo.operators.crossover.single_point_crossover import SinglePointCrossover\n",
    "\n",
    "# Import Mutation Operator(s).\n",
    "from pygenalgo.operators.mutation.swap_mutator import SwapMutator\n",
    "\n",
    "# Import Migration Operator(s).\n",
    "from pygenalgo.operators.migration.clockwise_migration import ClockwiseMigration"
   ]
  },
  {
   "cell_type": "code",
   "execution_count": 6,
   "id": "513a4202",
   "metadata": {},
   "outputs": [],
   "source": [
    "# Define the fitness function.\n",
    "def fun_Queens(individual: Chromosome, n_queen: int = 8, f_min: bool = True):\n",
    "    \"\"\"\n",
    "    This function counts the number of violations in the positions of the queens\n",
    "    on the chessboard. We check horizontaly, vertically and diagonally.\n",
    "    \"\"\"\n",
    "\n",
    "    # Reshape the chromosome into a 2D array.\n",
    "    chess_board = np.reshape([g.value for g in individual.genome],\n",
    "                             (n_queen, n_queen))\n",
    "    \n",
    "    # Sum the entries row-wise.\n",
    "    sum_row = np.sum(chess_board, axis=0)\n",
    "\n",
    "    # Sum the entries column-wise.\n",
    "    sum_col = np.sum(chess_board, axis=1)\n",
    "\n",
    "    # Compute limits of the diagonal test.\n",
    "    low = -n_queen + 2\n",
    "    high = n_queen - 1\n",
    "\n",
    "    # Sum the entries diagonally.\n",
    "    sum_diag = []\n",
    "    for k in range(low, high):\n",
    "        sum_diag.append(sum(np.diag(chess_board, k)))\n",
    "    # _end_for_\n",
    "\n",
    "    # We flip to count the violations in the anti-diagonal way.\n",
    "    flip_arr = np.flip(chess_board, axis=1)\n",
    "    sum_flip = []\n",
    "    \n",
    "    # Sum the entries anti-diagonally.\n",
    "    for k in range(low, high):\n",
    "        sum_flip.append(sum(np.diag(flip_arr, k)))\n",
    "    # _end_for_\n",
    "\n",
    "    # Count the total violations.\n",
    "    f_val = 0.0\n",
    "\n",
    "    for i, j in zip(sum_row, sum_col):\n",
    "        f_val += max(i - 1, 0)\n",
    "        f_val += max(j - 1, 0)\n",
    "    # _end_for_\n",
    "    \n",
    "    for k, l in zip(sum_diag, sum_flip):\n",
    "        f_val += max(k - 1, 0)\n",
    "        f_val += max(l - 1, 0)\n",
    "    # _end_for_\n",
    "\n",
    "    # Condition for termination.\n",
    "    solution_found = f_val == 0\n",
    "\n",
    "    # Assign the fitness value (check for minimization).\n",
    "    fit_value = -f_val if f_min else f_val\n",
    "    \n",
    "    # Return the solution tuple.\n",
    "    return fit_value, solution_found\n",
    "# _end_def_"
   ]
  },
  {
   "cell_type": "markdown",
   "id": "4ab10028",
   "metadata": {},
   "source": [
    "## Important note\n",
    "\n",
    "Similar to the TSP problem, here we would require special crossover operator for permutations, in order to avoid creating \n",
    "invalid offsprings. Otherwise the number of queens on the board could be higher (or less) than 'N'.\n",
    "\n",
    "The way we can bypass this hard constraint here, with our current implementation, is to set the crossover operator (any of \n",
    "them) with zero probability (i.e. probability=0.0). At the same time, to ensure that the new offsprings will be modified we \n",
    "set the mutation probability to 0.8 (i.e 80%). The mutation operators that are suitable for these types of problems are the: \n",
    "SwapMutator and ShuffleMutator."
   ]
  },
  {
   "cell_type": "code",
   "execution_count": 8,
   "id": "c3d4914c",
   "metadata": {},
   "outputs": [],
   "source": [
    "# Set a random generator.\n",
    "rng = np.random.default_rng()\n",
    "\n",
    "# Random function: Return a random (0, 1).\n",
    "rand_fc = lambda: rng.integers(0, 1, endpoint=True)\n",
    "\n",
    "# The number of queens can be parameterized.\n",
    "n_queen = 8\n",
    "\n",
    "# Make sure they are at least '4'.\n",
    "n_queen = max(n_queen, 4)\n",
    "\n",
    "# Define the number of chromosomes.\n",
    "N = 200\n",
    "\n",
    "# Initial population.\n",
    "population = []\n",
    "\n",
    "for i in range(N):\n",
    "    \n",
    "    arr = np.zeros(n_queen*n_queen)\n",
    "    \n",
    "    arr[np.random.permutation(n_queen*n_queen)[:n_queen]] = 1.0\n",
    "    \n",
    "    population.append(Chromosome([Gene(c, rand_fc) for c in arr.tolist()],\n",
    "                                 np.nan, True))\n",
    "# _end_for_\n",
    "\n",
    "# Create the IslandModelGA object that will carry on the optimization.\n",
    "test_GA = IslandModelGA(initial_pop=population,\n",
    "                        fit_func=lambda x: fun_Queens(x, n_queen=n_queen),\n",
    "                        num_islands=4,\n",
    "                        select_op=LinearRankSelector(),\n",
    "                        mutate_op=SwapMutator(0.8),\n",
    "                        crossx_op=SinglePointCrossover(0.0),\n",
    "                        migrate_op=ClockwiseMigration())"
   ]
  },
  {
   "cell_type": "markdown",
   "id": "cc815143",
   "metadata": {},
   "source": [
    "## Plot a random initial configuration."
   ]
  },
  {
   "cell_type": "code",
   "execution_count": 10,
   "id": "26c44cb1",
   "metadata": {},
   "outputs": [
    {
     "data": {
      "image/png": "[encoded data removed]",
      "text/plain": [
       "<Figure size 640x480 with 1 Axes>"
      ]
     },
     "metadata": {},
     "output_type": "display_data"
    }
   ],
   "source": [
    "fig = plt.figure()\n",
    "ax = fig.add_subplot(111)\n",
    "\n",
    "arr = [g.value for g in population[0].genome]\n",
    "\n",
    "x_coord, y_coord = np.nonzero(np.reshape(arr, (n_queen, n_queen)))\n",
    "\n",
    "for i, (x, y) in enumerate(zip(x_coord, y_coord), start=1):\n",
    "    ax.plot(x+0.5, y+0.5, 'o')\n",
    "    ax.annotate(f'Q{i}', xy=(x+0.3, y+0.1))\n",
    "# _end_for_\n",
    "\n",
    "ax.grid()\n",
    "\n",
    "ax.set_xlim([0, n_queen])\n",
    "ax.set_ylim([0, n_queen])\n",
    "\n",
    "ax.set(xticks=range(0, n_queen, 1),\n",
    "       yticks=range(0, n_queen, 1))\n",
    "\n",
    "plt.title(\"Queens[0]\")\n",
    "\n",
    "plt.show()"
   ]
  },
  {
   "cell_type": "code",
   "execution_count": 11,
   "id": "94a67e0d",
   "metadata": {},
   "outputs": [
    {
     "name": "stdout",
     "output_type": "stream",
     "text": [
      "Parallel evolution in progress with 4 islands ...\n",
      "Island population 0, finished in 27 iterations.\n",
      "Island population 1, finished in 44 iterations.\n",
      "Island population 2, finished in 274 iterations.\n",
      "Final Avg. Fitness = -2.0300.\n",
      "Elapsed time: 14.399 seconds.\n"
     ]
    }
   ],
   "source": [
    "test_GA(epochs=500, elitism=True, allow_migration=False, verbose=True)"
   ]
  },
  {
   "cell_type": "markdown",
   "id": "428e21ec",
   "metadata": {},
   "source": [
    "### Display the final (optimal) solution."
   ]
  },
  {
   "cell_type": "code",
   "execution_count": 13,
   "id": "d726bcf5",
   "metadata": {},
   "outputs": [
    {
     "name": "stdout",
     "output_type": "stream",
     "text": [
      "Optimal configuration found: 0.00000\n",
      "\n",
      "[[0. 0. 0. 0. 1. 0. 0. 0.]\n",
      " [0. 0. 0. 0. 0. 0. 1. 0.]\n",
      " [1. 0. 0. 0. 0. 0. 0. 0.]\n",
      " [0. 0. 0. 1. 0. 0. 0. 0.]\n",
      " [0. 1. 0. 0. 0. 0. 0. 0.]\n",
      " [0. 0. 0. 0. 0. 0. 0. 1.]\n",
      " [0. 0. 0. 0. 0. 1. 0. 0.]\n",
      " [0. 0. 1. 0. 0. 0. 0. 0.]]\n"
     ]
    }
   ],
   "source": [
    "# Extract the optimal solution from the GA.\n",
    "optimal_solution = test_GA.best_chromosome()\n",
    "\n",
    "# Extract the fitness value from the optimal solution.\n",
    "optimal_fit, _ = fun_Queens(optimal_solution, n_queen=n_queen, f_min=False)\n",
    "\n",
    "# Display the (final) optimal value.\n",
    "print(f\"Optimal configuration found: {optimal_fit:.5f}\\n\")\n",
    "\n",
    "# Display the positions of the queens.\n",
    "sol_chess_board = np.reshape([g.value for g in optimal_solution.genome], (n_queen, n_queen))\n",
    "print(sol_chess_board)\n",
    "\n",
    "# NOTE: The absolute minimum is 0.0."
   ]
  },
  {
   "cell_type": "markdown",
   "id": "f30200a4",
   "metadata": {},
   "source": [
    "## Plot the optimal solution."
   ]
  },
  {
   "cell_type": "code",
   "execution_count": 15,
   "id": "1f8f97ad",
   "metadata": {},
   "outputs": [
    {
     "data": {
      "image/png": "[encoded data removed]",
      "text/plain": [
       "<Figure size 640x480 with 1 Axes>"
      ]
     },
     "metadata": {},
     "output_type": "display_data"
    }
   ],
   "source": [
    "fig = plt.figure()\n",
    "ax = fig.add_subplot(111)\n",
    "\n",
    "x_coord, y_coord = np.nonzero(sol_chess_board)\n",
    "\n",
    "for i, (x, y) in enumerate(zip(x_coord, y_coord), start=1):\n",
    "    ax.plot(x+0.5, y+0.5, 'o')\n",
    "    ax.annotate(f'Q{i}', xy=(x+0.3, y+0.1))\n",
    "# _end_for_\n",
    "\n",
    "ax.grid()\n",
    "\n",
    "ax.set_xlim([0, n_queen])\n",
    "ax.set_ylim([0, n_queen])\n",
    "\n",
    "ax.set(xticks=range(0, n_queen, 1),\n",
    "       yticks=range(0, n_queen, 1))\n",
    "\n",
    "plt.title(f\"Optimal Queens-{n_queen}\")\n",
    "\n",
    "plt.show()"
   ]
  },
  {
   "cell_type": "markdown",
   "id": "dd1453fc",
   "metadata": {},
   "source": [
    "### End of file"
   ]
  },
  {
   "cell_type": "code",
   "execution_count": null,
   "id": "2f7d755f",
   "metadata": {},
   "outputs": [],
   "source": []
  }
 ],
 "metadata": {
  "kernelspec": {
   "display_name": "Python [conda env:base] *",
   "language": "python",
   "name": "conda-base-py"
  },
  "language_info": {
   "codemirror_mode": {
    "name": "ipython",
    "version": 3
   },
   "file_extension": ".py",
   "mimetype": "text/x-python",
   "name": "python",
   "nbconvert_exporter": "python",
   "pygments_lexer": "ipython3",
   "version": "3.12.7"
  }
 },
 "nbformat": 4,
 "nbformat_minor": 5
}
