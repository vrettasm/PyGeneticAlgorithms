{
 "cells": [
  {
   "cell_type": "code",
   "execution_count": 1,
   "id": "a7e3adb4",
   "metadata": {},
   "outputs": [],
   "source": [
    "import os, sys\n",
    "import numpy as np\n",
    "from math import fsum\n",
    "import matplotlib.pyplot as plt\n",
    "\n",
    "PROJECT_DIR = os.path.abspath('../code')\n",
    "sys.path.append(PROJECT_DIR)"
   ]
  },
  {
   "cell_type": "code",
   "execution_count": 2,
   "id": "247088c6",
   "metadata": {},
   "outputs": [],
   "source": [
    "# Import main classes.\n",
    "from src.genome.gene import Gene\n",
    "from src.genome.chromosome import Chromosome\n",
    "from src.engines.standard_ga import StandardGA\n",
    "\n",
    "# Import Selection Operators.\n",
    "from src.operators.selection.tournament_selector import TournamentSelector\n",
    "from src.operators.selection.linear_rank_selector import LinearRankSelector\n",
    "\n",
    "# Import Crossover Operators.\n",
    "from src.operators.crossover.uniform_crossover import UniformCrossover\n",
    "from src.operators.crossover.single_point_crossover import SinglePointCrossover\n",
    "\n",
    "# Import Mutation Operators.\n",
    "from src.operators.mutation.swap_mutator import SwapMutator\n",
    "from src.operators.mutation.random_mutator import RandomMutator"
   ]
  },
  {
   "cell_type": "markdown",
   "id": "df25a30b",
   "metadata": {},
   "source": [
    "## Booth optimization"
   ]
  },
  {
   "cell_type": "code",
   "execution_count": 3,
   "id": "be1afc07",
   "metadata": {},
   "outputs": [],
   "source": [
    "# Booth function.\n",
    "def fun_Booth(_chromosome):\n",
    "    \n",
    "    # Extract the gene values as 'x' and 'y'.\n",
    "    x, y = _chromosome[0].datum, _chromosome[1].datum\n",
    "    \n",
    "    # Compute the Booth function at (x, y).\n",
    "    f_val = (x + 2.0*y - 7.0)**2 + (2.0*x + y - 5.0)**2\n",
    "    \n",
    "    # Return the negative (to account for minimization).\n",
    "    return -f_val\n",
    "# _end_def_\n",
    "\n",
    "# Random function ~U(-10, +10)\n",
    "_func = lambda: np.random.uniform(-10.0, +10.001)"
   ]
  },
  {
   "cell_type": "code",
   "execution_count": 4,
   "id": "57fb9f33",
   "metadata": {},
   "outputs": [],
   "source": [
    "# Define the number of chromosomes.\n",
    "N = 100\n",
    "\n",
    "# Initial population.\n",
    "population = [Chromosome([Gene(np.random.uniform(-10.0, +10.0), _func),\n",
    "                          Gene(np.random.uniform(-10.0, +10.0), _func)], np.nan, True)\n",
    "              for i in range(N)]\n",
    "\n",
    "# Set the fitness function.\n",
    "fun_optim = fun_Booth\n",
    "\n",
    "# Create the StandardGA.\n",
    "toy_GA = StandardGA(initial_pop=population, fit_func=fun_optim,\n",
    "                    select_op=LinearRankSelector(),\n",
    "                    mutate_op=RandomMutator(0.1),\n",
    "                    cross_op=UniformCrossover())"
   ]
  },
  {
   "cell_type": "code",
   "execution_count": 5,
   "id": "828f50a3",
   "metadata": {},
   "outputs": [
    {
     "name": "stdout",
     "output_type": "stream",
     "text": [
      "Initial Avg. Fitness = -327.4026\n",
      "Final Avg. Fitness = -2.8935\n",
      "Elapsed time: 14.505 seconds.\n"
     ]
    }
   ],
   "source": [
    "toy_GA.run(epochs=2500, elitism=True, f_tol=1.0e-6, verbose=False)"
   ]
  },
  {
   "cell_type": "code",
   "execution_count": 6,
   "id": "b04ddaf2",
   "metadata": {},
   "outputs": [
    {
     "data": {
      "text/plain": [
       "(-3.550863621818493e-06,\n",
       " [Gene(datum=0.9985964461215922, _func=<function <lambda> at 0x11e52f760>, valid=True),\n",
       "  Gene(datum=3.0010914445659775, _func=<function <lambda> at 0x11e52f760>, valid=True)])"
      ]
     },
     "execution_count": 6,
     "metadata": {},
     "output_type": "execute_result"
    }
   ],
   "source": [
    "toy_GA.best_chromosome().fitness, toy_GA.best_chromosome()._genome"
   ]
  },
  {
   "cell_type": "code",
   "execution_count": 7,
   "id": "50fb6ecb",
   "metadata": {},
   "outputs": [
    {
     "name": "stdout",
     "output_type": "stream",
     "text": [
      " UniformCrossover: (4803778080)\n",
      " _probability: 0.9\n",
      " _rng: Generator(PCG64)\n",
      " _counter: 125000\n",
      "\n",
      " LinearRankSelector: (4803478368)\n",
      " _probability: 1.0\n",
      " _rng: Generator(PCG64)\n",
      " _counter: 2500\n",
      "\n",
      " RandomMutator: (4803482448)\n",
      " _probability: 0.1\n",
      " _rng: Generator(PCG64)\n",
      " _counter: 25041\n",
      "\n"
     ]
    }
   ],
   "source": [
    "toy_GA.print_operator_stats()"
   ]
  },
  {
   "cell_type": "code",
   "execution_count": 8,
   "id": "e5163ed5",
   "metadata": {},
   "outputs": [
    {
     "data": {
      "image/png": "[encoded data removed]",
      "text/plain": [
       "<Figure size 640x480 with 1 Axes>"
      ]
     },
     "metadata": {},
     "output_type": "display_data"
    }
   ],
   "source": [
    "plt.errorbar(x=range(len(toy_GA.stats['avg'])),\n",
    "             y=toy_GA.stats['avg'], yerr=toy_GA.stats['std'])\n",
    "\n",
    "plt.grid(True)\n",
    "plt.title(\"Booth-GA\")\n",
    "plt.xlabel(\"Epoch\")\n",
    "plt.ylabel(\"$mean~fitness \\pm std$\");"
   ]
  },
  {
   "cell_type": "code",
   "execution_count": null,
   "id": "78b35acd",
   "metadata": {},
   "outputs": [],
   "source": []
  }
 ],
 "metadata": {
  "kernelspec": {
   "display_name": "SOMap",
   "language": "python",
   "name": "somap"
  },
  "language_info": {
   "codemirror_mode": {
    "name": "ipython",
    "version": 3
   },
   "file_extension": ".py",
   "mimetype": "text/x-python",
   "name": "python",
   "nbconvert_exporter": "python",
   "pygments_lexer": "ipython3",
   "version": "3.10.13"
  }
 },
 "nbformat": 4,
 "nbformat_minor": 5
}
