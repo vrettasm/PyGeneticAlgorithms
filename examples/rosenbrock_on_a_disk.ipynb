{
 "cells": [
  {
   "cell_type": "markdown",
   "id": "51ab3b69",
   "metadata": {},
   "source": [
    "#  Rosenbrock function optimization (with constraints).\n",
    "\n",
    "The general equation is given by:\n",
    "\n",
    "$f(x, y) = (1 - x)^2 + 100(y - x^2)^2$, with $-1.5 \\le x \\le +1.5$ and $-1.5 \\le y \\le +1.5$. The problem here is that we are trying to minimize this function subject to the following constraint: $x^2 + y^2 \\le 2$. To do this we apply the [Penalty method](https://en.wikipedia.org/wiki/Penalty_method). Within this setting the global minimum is found at $f(1.0, 1.0) = 0.0$."
   ]
  },
  {
   "cell_type": "markdown",
   "id": "c98af3bd",
   "metadata": {},
   "source": [
    "### First we import python libraries and set up the directory of our code."
   ]
  },
  {
   "cell_type": "code",
   "execution_count": 3,
   "id": "a7e3adb4",
   "metadata": {},
   "outputs": [],
   "source": [
    "import os, sys\n",
    "import numpy as np\n",
    "from math import fsum\n",
    "import matplotlib.pyplot as plt\n",
    "\n",
    "PROJECT_DIR = os.path.abspath('../code')\n",
    "sys.path.append(PROJECT_DIR)"
   ]
  },
  {
   "cell_type": "markdown",
   "id": "44f267f1",
   "metadata": {},
   "source": [
    "### Here we import all our custom GA code."
   ]
  },
  {
   "cell_type": "code",
   "execution_count": 5,
   "id": "247088c6",
   "metadata": {},
   "outputs": [],
   "source": [
    "# Import main classes.\n",
    "from pygenalgo.genome.gene import Gene\n",
    "from pygenalgo.genome.chromosome import Chromosome\n",
    "from pygenalgo.engines.standard_ga import StandardGA\n",
    "\n",
    "# Import Selection Operator(s).\n",
    "from pygenalgo.operators.selection.linear_rank_selector import LinearRankSelector\n",
    "\n",
    "# Import Crossover Operator(s).\n",
    "from pygenalgo.operators.crossover.uniform_crossover import UniformCrossover\n",
    "\n",
    "# Import Mutation Operator(s).\n",
    "from pygenalgo.operators.mutation.random_mutator import RandomMutator"
   ]
  },
  {
   "cell_type": "markdown",
   "id": "df25a30b",
   "metadata": {},
   "source": [
    "### Define the Rosebrock function, which plays also the role of the 'fitness' function.\n",
    "\n",
    "In addition, we define the '_func' which takes the role of the 'random()' method of the Genes. Every time we\n",
    "want to 'mutate' a gene this function will be called that returns 'valid', but random values for the gene."
   ]
  },
  {
   "cell_type": "code",
   "execution_count": 7,
   "id": "be1afc07",
   "metadata": {},
   "outputs": [],
   "source": [
    "# Rosenbrock function.\n",
    "def fun_Rosenbrock(individual: Chromosome, f_min: bool = True):\n",
    "    \n",
    "    # Penalty coefficient.\n",
    "    p_c = 0.5\n",
    "    \n",
    "    # Extract genes from the chromosome.\n",
    "    gene_x, gene_y = individual.genome\n",
    "\n",
    "    # Extract the data values as 'x' and 'y', for parsimony.\n",
    "    x, y = gene_x.datum, gene_y.datum\n",
    "    \n",
    "    # Compute the function value.\n",
    "    f_val = (1.0 - x)**2 + 100*(y - x**2)**2\n",
    "    \n",
    "    # Compute the constraint.\n",
    "    f_const = p_c*max(0.0, x**2 + y**2 - 2.0)**2\n",
    "    \n",
    "    # NOTE: the constraint is added with the penalty coefficient.\n",
    "    return -(f_val + f_const) if f_min else f_val\n",
    "# _end_def_\n",
    "\n",
    "# Random function ~U(-1.5, +1.5).\n",
    "_func = lambda: np.random.uniform(-1.5, +1.5001)"
   ]
  },
  {
   "cell_type": "markdown",
   "id": "16282edb",
   "metadata": {},
   "source": [
    "Here we set the GA parameters, such as number of genes, number of chromosomes, etc. Note that in this case each\n",
    "gene has the same random() function (set by '_func'). But if the problem demands otherwise it is easy to set a \n",
    "different random() function for each gene."
   ]
  },
  {
   "cell_type": "code",
   "execution_count": 9,
   "id": "57fb9f33",
   "metadata": {},
   "outputs": [],
   "source": [
    "# Define the number of chromosomes.\n",
    "N = 100\n",
    "\n",
    "# Initial population.\n",
    "# It is important to note that the initial population is randomly generated with valid values.\n",
    "population = [Chromosome([Gene(np.random.normal(), _func),\n",
    "                          Gene(np.random.normal(), _func)], np.nan, True)\n",
    "              for i in range(N)]\n",
    "\n",
    "# Create the StandardGA object that will carry on the optimization.\n",
    "toy_GA = StandardGA(initial_pop=population,\n",
    "                    fit_func=fun_Rosenbrock,\n",
    "                    select_op=LinearRankSelector(),\n",
    "                    mutate_op=RandomMutator(0.2),\n",
    "                    cross_op=UniformCrossover())"
   ]
  },
  {
   "cell_type": "markdown",
   "id": "30b9bb1e",
   "metadata": {},
   "source": [
    "### Optimization process.\n",
    "\n",
    "Here we call the GA object (either directly, or through the method run()). We set a number of parameter,\n",
    "such as the maximum iterations (i.e. epochs), tolerance for the fitness convergences, etc."
   ]
  },
  {
   "cell_type": "code",
   "execution_count": 11,
   "id": "828f50a3",
   "metadata": {},
   "outputs": [
    {
     "name": "stdout",
     "output_type": "stream",
     "text": [
      "Initial Avg. Fitness = -366.8279\n",
      "Final   Avg. Fitness = -22.0061\n",
      "Elapsed time: 85.096 seconds.\n"
     ]
    }
   ],
   "source": [
    "toy_GA(epochs=10000, elitism=True, f_tol=1.0e-6, verbose=False)"
   ]
  },
  {
   "cell_type": "code",
   "execution_count": 25,
   "id": "b04ddaf2",
   "metadata": {},
   "outputs": [
    {
     "name": "stdout",
     "output_type": "stream",
     "text": [
      "Minimum Found: 0.00000\n",
      "\n",
      "x0 = 0.99789\n",
      "x1 = 0.99578\n"
     ]
    }
   ],
   "source": [
    "# Extract the optimal solution from the GA.\n",
    "optimal_solution = toy_GA.best_chromosome()\n",
    "\n",
    "# Display the (final) optimal value.\n",
    "print(f\"Minimum Found: {fun_Rosenbrock(optimal_solution, f_min=False):.5f}\\n\")\n",
    "\n",
    "# Display each gene value separately.\n",
    "for i, xi in enumerate(optimal_solution.genome):\n",
    "    print(f\"x{i} = {xi.datum:.5f}\")\n",
    "# _end_for_\n",
    "\n",
    "# True minimum: f(1.0, 1.0) = 0.0"
   ]
  },
  {
   "cell_type": "code",
   "execution_count": 27,
   "id": "50fb6ecb",
   "metadata": {},
   "outputs": [
    {
     "name": "stdout",
     "output_type": "stream",
     "text": [
      " LinearRankSelector: (140581479378400)\n",
      " _probability: 1.0\n",
      " _counter: 10000\n",
      " _lock: <unlocked _thread.lock object at 0x7fdbad532dc0>\n",
      "\n",
      " UniformCrossover: (140581482343904)\n",
      " _probability: 0.9\n",
      " _counter: 449691\n",
      " _lock: <unlocked _thread.lock object at 0x7fdbad243880>\n",
      "\n",
      " RandomMutator: (140581482347264)\n",
      " _probability: 0.2\n",
      " _counter: 200035\n",
      " _lock: <unlocked _thread.lock object at 0x7fdbad533100>\n",
      "\n"
     ]
    }
   ],
   "source": [
    "# If we want we can also print some operator statistics.\n",
    "toy_GA.print_operator_stats()"
   ]
  },
  {
   "cell_type": "code",
   "execution_count": 14,
   "id": "e5163ed5",
   "metadata": {},
   "outputs": [
    {
     "data": {
      "image/png": "[encoded data removed]",
      "text/plain": [
       "<Figure size 640x480 with 1 Axes>"
      ]
     },
     "metadata": {},
     "output_type": "display_data"
    }
   ],
   "source": [
    "# Plot the average (population) fitness along with its spread (std)\n",
    "# as function of the epochs.\n",
    "plt.errorbar(x=range(len(toy_GA.stats['avg'])),\n",
    "             y=toy_GA.stats['avg'], yerr=toy_GA.stats['std'])\n",
    "\n",
    "plt.grid(True)\n",
    "plt.title(\"Rosenbrock-GA\")\n",
    "plt.xlabel(\"Epoch\")\n",
    "plt.ylabel(\"$Mean~Fitness \\pm Std$\");"
   ]
  },
  {
   "cell_type": "markdown",
   "id": "7cd88729",
   "metadata": {},
   "source": [
    "### End of file"
   ]
  },
  {
   "cell_type": "code",
   "execution_count": null,
   "id": "faa43670",
   "metadata": {},
   "outputs": [],
   "source": []
  }
 ],
 "metadata": {
  "kernelspec": {
   "display_name": "venv_tf",
   "language": "python",
   "name": "venv_tf"
  },
  "language_info": {
   "codemirror_mode": {
    "name": "ipython",
    "version": 3
   },
   "file_extension": ".py",
   "mimetype": "text/x-python",
   "name": "python",
   "nbconvert_exporter": "python",
   "pygments_lexer": "ipython3",
   "version": "3.10.13"
  }
 },
 "nbformat": 4,
 "nbformat_minor": 5
}
