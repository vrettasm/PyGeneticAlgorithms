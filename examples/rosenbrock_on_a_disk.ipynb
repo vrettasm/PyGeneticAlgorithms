{
 "cells": [
  {
   "cell_type": "markdown",
   "metadata": {},
   "source": [
    "#  Rosenbrock function\n",
    "---\n",
    "Description:\n",
    "\n",
    "- Optimization (min)\n",
    "- Single-objective\n",
    "- Constraints (1)\n",
    "---\n",
    "\n",
    "The general equation is given by:\n",
    "\n",
    "- $f(x, y) = (1 - x)^2 + 100(y - x^2)^2$, with $-1.5 \\le x \\le +1.5$ and $-1.5 \\le y \\le +1.5$.\n",
    "\n",
    "The problem here is that we are trying to minimize this function subject to the following constraint:\n",
    "\n",
    "- $x^2 + y^2 \\le 2$.\n",
    "\n",
    "To do this we apply the [Penalty method](https://en.wikipedia.org/wiki/Penalty_method). Within this setting the global minimum is found at:\n",
    "\n",
    "$\\hat{f}(1.0, 1.0) = 0.0$."
   ]
  },
  {
   "cell_type": "markdown",
   "metadata": {},
   "source": [
    "### First we import python libraries and set up the directory of our code."
   ]
  },
  {
   "cell_type": "code",
   "execution_count": 1,
   "metadata": {},
   "outputs": [],
   "source": [
    "import os, sys\n",
    "import numpy as np\n",
    "\n",
    "PROJECT_DIR = os.path.abspath('..')\n",
    "sys.path.append(PROJECT_DIR)"
   ]
  },
  {
   "cell_type": "markdown",
   "metadata": {},
   "source": [
    "### Here we import all our custom GA code."
   ]
  },
  {
   "cell_type": "code",
   "execution_count": 2,
   "metadata": {},
   "outputs": [],
   "source": [
    "# Import main classes.\n",
    "from pygenalgo.genome.gene import Gene\n",
    "from pygenalgo.genome.chromosome import Chromosome\n",
    "from pygenalgo.engines.standard_ga import StandardGA\n",
    "\n",
    "# Import Selection Operator(s).\n",
    "from pygenalgo.operators.selection.linear_rank_selector import LinearRankSelector\n",
    "\n",
    "# Import Crossover Operator(s).\n",
    "from pygenalgo.operators.crossover.uniform_crossover import UniformCrossover\n",
    "\n",
    "# Import Mutation Operator(s).\n",
    "from pygenalgo.operators.mutation.meta_mutator import MetaMutator"
   ]
  },
  {
   "cell_type": "markdown",
   "metadata": {},
   "source": [
    "### Define the Rosebrock function, which plays also the role of the 'fitness' function.\n",
    "\n",
    "In addition, we define the 'rand_fx' which takes the role of the 'random()' method of the Genes. Every time we\n",
    "want to 'mutate' a gene this function will be called that returns 'valid', but random values for the gene."
   ]
  },
  {
   "cell_type": "code",
   "execution_count": 3,
   "metadata": {},
   "outputs": [],
   "source": [
    "# Rosenbrock function.\n",
    "def fun_Rosenbrock(individual: Chromosome, f_min: bool = True):\n",
    "    \n",
    "    # Penalty coefficient.\n",
    "    rho = 5.0\n",
    "    \n",
    "    # Extract the data values as 'x' and 'y', for parsimony.\n",
    "    x, y = [gene.value for gene in individual.genome]\n",
    "    \n",
    "    # Compute the function value.\n",
    "    f_val = (1.0 - x)**2 + 100.0*(y - x**2)**2\n",
    "    \n",
    "    # Compute the constraint.\n",
    "    f_const = rho*max(0.0, x**2 + y**2 - 2.0)**2\n",
    "\n",
    "    # Condition for termination.\n",
    "    solution_found = np.isclose(f_val, 0.0, rtol=1.0e-4)\n",
    "\n",
    "    # Assign the fitness value (check for minimization).\n",
    "    fit_value = -(f_val + f_const) if f_min else f_val\n",
    "    \n",
    "     # NOTE: the constraint is added with the penalty coefficient.\n",
    "    return fit_value, solution_found\n",
    "# _end_def_\n",
    "\n",
    "# Random function: ~U(-1.5, +1.5).\n",
    "rand_fx = lambda: np.random.uniform(-1.5, +1.5)\n",
    "rand_fy = lambda: np.random.uniform(-1.5, +1.5)"
   ]
  },
  {
   "cell_type": "markdown",
   "metadata": {},
   "source": [
    "Here we set the GA parameters, such as number of genes, number of chromosomes, etc. Note that in this case each\n",
    "gene has the same random() function (set by 'rand_fx'). But if the problem demands otherwise it is easy to set a \n",
    "different random() function for each gene."
   ]
  },
  {
   "cell_type": "code",
   "execution_count": 4,
   "metadata": {},
   "outputs": [],
   "source": [
    "# Define the number of chromosomes.\n",
    "N = 100\n",
    "\n",
    "# Initial population.\n",
    "population = [Chromosome([Gene(np.random.normal(), rand_fx),\n",
    "                          Gene(np.random.normal(), rand_fy)], np.nan, True)\n",
    "              for _ in range(N)]\n",
    "\n",
    "# Create the StandardGA object that will carry on the optimization.\n",
    "test_GA = StandardGA(initial_pop=population,\n",
    "                     fit_func=fun_Rosenbrock,\n",
    "                     select_op=LinearRankSelector(),\n",
    "                     mutate_op=MetaMutator(),\n",
    "                     crossx_op=UniformCrossover())"
   ]
  },
  {
   "cell_type": "markdown",
   "metadata": {},
   "source": [
    "### Optimization process.\n",
    "\n",
    "Here we call the GA object (either directly, or through the method run()). We set a number of parameter,\n",
    "such as the maximum iterations (i.e. epochs), tolerance for the fitness convergences, etc."
   ]
  },
  {
   "cell_type": "code",
   "execution_count": 5,
   "metadata": {},
   "outputs": [
    {
     "name": "stdout",
     "output_type": "stream",
     "text": [
      "Initial Avg. Fitness = -352.8507.\n",
      "Final   Avg. Fitness = -30.0246.\n",
      "Elapsed time: 110.041 seconds.\n"
     ]
    }
   ],
   "source": [
    "test_GA(epochs=5000, elitism=True, adapt_probs=True)"
   ]
  },
  {
   "cell_type": "code",
   "execution_count": 6,
   "metadata": {},
   "outputs": [
    {
     "name": "stdout",
     "output_type": "stream",
     "text": [
      "Minimum Found: 0.00000\n",
      "\n",
      "x0 = 1.00003\n",
      "x1 = 1.00003\n"
     ]
    }
   ],
   "source": [
    "# Extract the optimal solution from the GA.\n",
    "optimal_solution = test_GA.best_chromosome()\n",
    "\n",
    "# Extract the fitness value from the optimal solution.\n",
    "optimal_fit, _ = fun_Rosenbrock(optimal_solution, f_min=False)\n",
    "\n",
    "# Display the (final) optimal value.\n",
    "print(f\"Minimum Found: {optimal_fit:.5f}\\n\")\n",
    "\n",
    "# Display each gene value separately.\n",
    "for i, xi in enumerate(optimal_solution.genome):\n",
    "    print(f\"x{i} = {xi.value:.5f}\")\n",
    "# _end_for_\n",
    "\n",
    "# True minimum: f(1.0, 1.0) = 0.0"
   ]
  },
  {
   "cell_type": "markdown",
   "metadata": {},
   "source": [
    "### End of file"
   ]
  }
 ],
 "metadata": {
  "kernelspec": {
   "display_name": "SOMap",
   "language": "python",
   "name": "somap"
  },
  "language_info": {
   "codemirror_mode": {
    "name": "ipython",
    "version": 3
   },
   "file_extension": ".py",
   "mimetype": "text/x-python",
   "name": "python",
   "nbconvert_exporter": "python",
   "pygments_lexer": "ipython3",
   "version": "3.10.13"
  }
 },
 "nbformat": 4,
 "nbformat_minor": 5
}
