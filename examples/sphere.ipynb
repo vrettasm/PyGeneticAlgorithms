{
 "cells": [
  {
   "cell_type": "code",
   "execution_count": 1,
   "id": "a7e3adb4",
   "metadata": {},
   "outputs": [],
   "source": [
    "import os, sys\n",
    "import numpy as np\n",
    "from math import fsum\n",
    "import matplotlib.pyplot as plt\n",
    "\n",
    "PROJECT_DIR = os.path.abspath('../code')\n",
    "sys.path.append(PROJECT_DIR)"
   ]
  },
  {
   "cell_type": "code",
   "execution_count": 2,
   "id": "247088c6",
   "metadata": {},
   "outputs": [],
   "source": [
    "# Import main classes.\n",
    "from src.genome.gene import Gene\n",
    "from src.genome.chromosome import Chromosome\n",
    "from src.engines.standard_ga import StandardGA\n",
    "\n",
    "# Import Selection Operators.\n",
    "from src.operators.selection.tournament_selector import TournamentSelector\n",
    "from src.operators.selection.linear_rank_selector import LinearRankSelector\n",
    "\n",
    "# Import Crossover Operators.\n",
    "from src.operators.crossover.uniform_crossover import UniformCrossover\n",
    "from src.operators.crossover.single_point_crossover import SinglePointCrossover\n",
    "\n",
    "# Import Mutation Operators.\n",
    "from src.operators.mutation.swap_mutator import SwapMutator\n",
    "from src.operators.mutation.random_mutator import RandomMutator"
   ]
  },
  {
   "cell_type": "markdown",
   "id": "df25a30b",
   "metadata": {},
   "source": [
    "## Sphere optimization"
   ]
  },
  {
   "cell_type": "code",
   "execution_count": 3,
   "id": "be1afc07",
   "metadata": {},
   "outputs": [],
   "source": [
    "# Shpere function.\n",
    "def fun_Sphere(_chromosome):\n",
    "    \n",
    "    # Return the negative (to account for minimization).\n",
    "    return -fsum([xi.datum**2 for xi in _chromosome])\n",
    "# _end_def_\n",
    "\n",
    "# Random function ~N(0,1).\n",
    "_func = lambda: np.random.normal()"
   ]
  },
  {
   "cell_type": "code",
   "execution_count": 4,
   "id": "57fb9f33",
   "metadata": {},
   "outputs": [],
   "source": [
    "# Define the number of genes.\n",
    "M = 10\n",
    "\n",
    "# Define the number of chromosomes.\n",
    "N = 100\n",
    "\n",
    "# Initial population.\n",
    "population = [Chromosome([Gene(np.random.uniform(-2.0, +2.0), _func) for j in range(M)], np.nan, True)\n",
    "              for i in range(N)]\n",
    "\n",
    "# Set the fitness function.\n",
    "fun_optim = fun_Sphere\n",
    "\n",
    "# Create the StandardGA.\n",
    "toy_GA = StandardGA(initial_pop=population, fit_func=fun_optim,\n",
    "                    select_op=LinearRankSelector(),\n",
    "                    mutate_op=RandomMutator(0.1),\n",
    "                    cross_op=UniformCrossover())"
   ]
  },
  {
   "cell_type": "code",
   "execution_count": 5,
   "id": "828f50a3",
   "metadata": {},
   "outputs": [
    {
     "name": "stdout",
     "output_type": "stream",
     "text": [
      "Initial Avg. Fitness = -13.1872\n",
      "Final Avg. Fitness = -0.0127\n",
      "Elapsed time: 19.436 seconds.\n"
     ]
    }
   ],
   "source": [
    "toy_GA.run(epochs=1000, elitism=True, f_tol=1.0e-6, verbose=False)"
   ]
  },
  {
   "cell_type": "code",
   "execution_count": 6,
   "id": "b04ddaf2",
   "metadata": {},
   "outputs": [
    {
     "data": {
      "text/plain": [
       "(-6.477606007109025e-05,\n",
       " [Gene(datum=0.001628618734880177, _func=<function <lambda> at 0x11e253640>, valid=True),\n",
       "  Gene(datum=0.0012813863272279006, _func=<function <lambda> at 0x11e253640>, valid=True),\n",
       "  Gene(datum=-0.00018292913890368713, _func=<function <lambda> at 0x11e253640>, valid=True),\n",
       "  Gene(datum=0.006297527524583482, _func=<function <lambda> at 0x11e253640>, valid=True),\n",
       "  Gene(datum=0.0004684773495371944, _func=<function <lambda> at 0x11e253640>, valid=True),\n",
       "  Gene(datum=-0.0011663738495202964, _func=<function <lambda> at 0x11e253640>, valid=True),\n",
       "  Gene(datum=0.0020664179148717093, _func=<function <lambda> at 0x11e253640>, valid=True),\n",
       "  Gene(datum=-0.0007851542552002852, _func=<function <lambda> at 0x11e253640>, valid=True),\n",
       "  Gene(datum=0.0007222572426977851, _func=<function <lambda> at 0x11e253640>, valid=True),\n",
       "  Gene(datum=-0.003715008676069125, _func=<function <lambda> at 0x11e253640>, valid=True)])"
      ]
     },
     "execution_count": 6,
     "metadata": {},
     "output_type": "execute_result"
    }
   ],
   "source": [
    "toy_GA.best_chromosome().fitness, toy_GA.best_chromosome()._genome"
   ]
  },
  {
   "cell_type": "code",
   "execution_count": 7,
   "id": "50fb6ecb",
   "metadata": {},
   "outputs": [
    {
     "name": "stdout",
     "output_type": "stream",
     "text": [
      " UniformCrossover: (4800785328)\n",
      " _probability: 0.9\n",
      " _rng: Generator(PCG64)\n",
      " _counter: 50000\n",
      "\n",
      " LinearRankSelector: (4800785568)\n",
      " _probability: 1.0\n",
      " _rng: Generator(PCG64)\n",
      " _counter: 1000\n",
      "\n",
      " RandomMutator: (4800498400)\n",
      " _probability: 0.1\n",
      " _rng: Generator(PCG64)\n",
      " _counter: 10069\n",
      "\n"
     ]
    }
   ],
   "source": [
    "toy_GA.print_operator_stats()"
   ]
  },
  {
   "cell_type": "code",
   "execution_count": 8,
   "id": "e5163ed5",
   "metadata": {},
   "outputs": [
    {
     "data": {
      "image/png": "[encoded data removed]",
      "text/plain": [
       "<Figure size 640x480 with 1 Axes>"
      ]
     },
     "metadata": {},
     "output_type": "display_data"
    }
   ],
   "source": [
    "plt.errorbar(x=range(len(toy_GA.stats['avg'])),\n",
    "             y=toy_GA.stats['avg'], yerr=toy_GA.stats['std'])\n",
    "\n",
    "plt.grid(True)\n",
    "plt.title(\"Sphere-GA\")\n",
    "plt.xlabel(\"Epoch\")\n",
    "plt.ylabel(\"Fitness\");"
   ]
  },
  {
   "cell_type": "code",
   "execution_count": null,
   "id": "78b35acd",
   "metadata": {},
   "outputs": [],
   "source": []
  }
 ],
 "metadata": {
  "kernelspec": {
   "display_name": "SOMap",
   "language": "python",
   "name": "somap"
  },
  "language_info": {
   "codemirror_mode": {
    "name": "ipython",
    "version": 3
   },
   "file_extension": ".py",
   "mimetype": "text/x-python",
   "name": "python",
   "nbconvert_exporter": "python",
   "pygments_lexer": "ipython3",
   "version": "3.10.13"
  }
 },
 "nbformat": 4,
 "nbformat_minor": 5
}
