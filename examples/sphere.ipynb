{
 "cells": [
  {
   "cell_type": "markdown",
   "id": "df25a30b",
   "metadata": {},
   "source": [
    "# Sphere function\n",
    "---\n",
    "Description:\n",
    "\n",
    "- Optimization (min)\n",
    "- Single-objective\n",
    "- Constraints (no)\n",
    "---\n",
    "\n",
    "The general equation is given by:\n",
    "\n",
    "- $f(\\mathbf{x}) = \\sum_{i=1}^{M} x^2_i$, with  $-\\infty \\le x_i \\le +\\infty$,\n",
    "\n",
    "and global minimum found at:\n",
    "\n",
    "- $f(x_1, x_2, ..., x_M) = f(0, 0, ..., 0) = 0$."
   ]
  },
  {
   "cell_type": "markdown",
   "id": "bb448d0a",
   "metadata": {},
   "source": [
    "### First we import python libraries and set up the directory of our code."
   ]
  },
  {
   "cell_type": "code",
   "execution_count": 3,
   "id": "a7e3adb4",
   "metadata": {},
   "outputs": [],
   "source": [
    "import os, sys\n",
    "import numpy as np\n",
    "from math import fsum\n",
    "\n",
    "PROJECT_DIR = os.path.abspath('..')\n",
    "sys.path.append(PROJECT_DIR)"
   ]
  },
  {
   "cell_type": "markdown",
   "id": "cbab465f",
   "metadata": {},
   "source": [
    "### Here we import all our custom GA code."
   ]
  },
  {
   "cell_type": "code",
   "execution_count": 5,
   "id": "247088c6",
   "metadata": {},
   "outputs": [],
   "source": [
    "# Import main classes.\n",
    "from pygenalgo.genome.gene import Gene\n",
    "from pygenalgo.genome.chromosome import Chromosome\n",
    "from pygenalgo.engines.standard_ga import StandardGA\n",
    "\n",
    "# Import Selection Operator(s).\n",
    "from pygenalgo.operators.selection.linear_rank_selector import LinearRankSelector\n",
    "\n",
    "# Import Crossover Operator(s).\n",
    "from pygenalgo.operators.crossover.uniform_crossover import UniformCrossover\n",
    "\n",
    "# Import Mutation Operator(s).\n",
    "from pygenalgo.operators.mutation.random_mutator import RandomMutator"
   ]
  },
  {
   "cell_type": "markdown",
   "id": "e91fb6e2",
   "metadata": {},
   "source": [
    "### Define the sphere function, which plays also the role of the 'fitness' function.\n",
    "\n",
    "In addition, we define the 'rand_fx' which takes the role of the 'random()' method of the Genes. Every time\n",
    "we want to 'mutate' a gene this function will be called that returns 'valid', but random values for the gene."
   ]
  },
  {
   "cell_type": "code",
   "execution_count": 7,
   "id": "be1afc07",
   "metadata": {},
   "outputs": [],
   "source": [
    "# Sphere function.\n",
    "def fun_Sphere(individual: Chromosome, f_min: bool = True):\n",
    "    \n",
    "    # Compute the shpere function.\n",
    "    f_val = fsum([xi.value**2 for xi in individual])\n",
    "    \n",
    "    # Return the negative (to account for minimization).\n",
    "    return -f_val if f_min else f_val\n",
    "# _end_def_\n",
    "\n",
    "# Random function: ~N(0,1).\n",
    "# Since 'xi' are allowed to take any real value in [-inf, +inf], by setting this\n",
    "# to the Normal(0, 1) essentially we can get both negative and positive values.\n",
    "rand_fx = lambda: np.random.normal()"
   ]
  },
  {
   "cell_type": "markdown",
   "id": "5304ee70",
   "metadata": {},
   "source": [
    "Here we set the GA parameters, such as number of genes, number of chromosomes, etc. Note that in this case each\n",
    "gene has the same random() function (set by '_func'). But if the problem demands otherwise it is easy to set a \n",
    "different random() function for each gene."
   ]
  },
  {
   "cell_type": "code",
   "execution_count": 9,
   "id": "57fb9f33",
   "metadata": {},
   "outputs": [],
   "source": [
    "# Define the number of genes.\n",
    "M = 5\n",
    "\n",
    "# Define the number of chromosomes.\n",
    "N = 100\n",
    "\n",
    "# Initial population.\n",
    "# It is important to note that the initial population is randomly generated with valid values.\n",
    "population = [Chromosome([Gene(np.random.uniform(-10.0, +10.0), rand_fx)\n",
    "                          for _ in range(M)], np.nan, True)\n",
    "              for _ in range(N)]\n",
    "\n",
    "# Create the StandardGA object that will carry on the optimization.\n",
    "toy_GA = StandardGA(initial_pop=population,\n",
    "                    fit_func=fun_Sphere,\n",
    "                    select_op=LinearRankSelector(),\n",
    "                    mutate_op=RandomMutator(),\n",
    "                    cross_op=UniformCrossover())"
   ]
  },
  {
   "cell_type": "markdown",
   "id": "517084eb",
   "metadata": {},
   "source": [
    "### Optimization process.\n",
    "\n",
    "Here we call the GA object (either directly, or through the method run()). We set a number of parameter, such as the maximum iterations (i.e. epochs), tolerance for the fitness convergences, etc."
   ]
  },
  {
   "cell_type": "code",
   "execution_count": 11,
   "id": "828f50a3",
   "metadata": {},
   "outputs": [
    {
     "name": "stdout",
     "output_type": "stream",
     "text": [
      "Initial Avg. Fitness = -164.8269.\n",
      "Final   Avg. Fitness = -0.1107.\n",
      "Elapsed time: 5.140 seconds.\n"
     ]
    }
   ],
   "source": [
    "toy_GA(epochs=500, f_tol=1.0e-5, elitism=True, verbose=False)"
   ]
  },
  {
   "cell_type": "code",
   "execution_count": 12,
   "id": "b04ddaf2",
   "metadata": {},
   "outputs": [
    {
     "name": "stdout",
     "output_type": "stream",
     "text": [
      "Minimum Found: 0.00003\n",
      "\n",
      "x0 =   0.002938\n",
      "x1 =   0.002529\n",
      "x2 =  -0.002021\n",
      "x3 =  -0.000153\n",
      "x4 =   0.002435\n"
     ]
    }
   ],
   "source": [
    "# Extract the optimal solution from the GA.\n",
    "optimal_solution = toy_GA.best_chromosome()\n",
    "\n",
    "# Display the (final) optimal value.\n",
    "print(f\"Minimum Found: {fun_Sphere(optimal_solution, f_min=False):.5f}\\n\")\n",
    "\n",
    "# Display each gene value separately.\n",
    "for i, xi in enumerate(optimal_solution.genome):\n",
    "    print(f\"x{i} = {xi.value:>10.6f}\")\n",
    "# _end_for_\n",
    "\n",
    "# True minimum: f(0.0, 0.0, ..., 0.0) = 0.0"
   ]
  },
  {
   "cell_type": "markdown",
   "id": "574e346b",
   "metadata": {},
   "source": [
    "**Note that the above solution is indeed very close to the absolute minimum!**"
   ]
  },
  {
   "cell_type": "code",
   "execution_count": 14,
   "id": "50fb6ecb",
   "metadata": {},
   "outputs": [
    {
     "name": "stdout",
     "output_type": "stream",
     "text": [
      " LinearRankSelector: (140631991771248)\n",
      " _probability: 1.0\n",
      " _counter: 500\n",
      " _lock: <unlocked _thread.lock object at 0x7fe76feaaf00>\n",
      "\n",
      " UniformCrossover: (140631991764688)\n",
      " _probability: 0.9\n",
      " _counter: 22456\n",
      " _lock: <unlocked _thread.lock object at 0x7fe76feab240>\n",
      "\n",
      " RandomMutator: (140631991562016)\n",
      " _probability: 0.1\n",
      " _counter: 5027\n",
      " _lock: <unlocked _thread.lock object at 0x7fe76feab1c0>\n",
      "\n"
     ]
    }
   ],
   "source": [
    "# If we want we can also print some operator statistics.\n",
    "toy_GA.print_operator_stats()"
   ]
  },
  {
   "cell_type": "markdown",
   "id": "c73558d0",
   "metadata": {},
   "source": [
    "### End of file"
   ]
  },
  {
   "cell_type": "code",
   "execution_count": null,
   "id": "776ddc97-d923-43f9-97b3-859c41c60a89",
   "metadata": {},
   "outputs": [],
   "source": []
  }
 ],
 "metadata": {
  "kernelspec": {
   "display_name": "venv_tf",
   "language": "python",
   "name": "venv_tf"
  },
  "language_info": {
   "codemirror_mode": {
    "name": "ipython",
    "version": 3
   },
   "file_extension": ".py",
   "mimetype": "text/x-python",
   "name": "python",
   "nbconvert_exporter": "python",
   "pygments_lexer": "ipython3",
   "version": "3.10.13"
  }
 },
 "nbformat": 4,
 "nbformat_minor": 5
}
