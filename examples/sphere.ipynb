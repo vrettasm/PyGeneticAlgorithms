{
 "cells": [
  {
   "cell_type": "markdown",
   "id": "0674f36b",
   "metadata": {},
   "source": [
    "# Sphere function\n",
    "---\n",
    "Description:\n",
    "\n",
    "- Optimization (min)\n",
    "- Single-objective\n",
    "- Constraints (no)\n",
    "---\n",
    "\n",
    "The general equation is given by:\n",
    "\n",
    "- $f(\\mathbf{x}) = \\sum_{i=1}^{M} x^2_i$, with  $-\\infty \\le x_i \\le +\\infty$,\n",
    "\n",
    "and global minimum found at:\n",
    "\n",
    "- $f(x_1, x_2, ..., x_M) = f(0, 0, ..., 0) = 0$."
   ]
  },
  {
   "cell_type": "markdown",
   "id": "1df8693d",
   "metadata": {},
   "source": [
    "### First we import python libraries and set up the directory of our code."
   ]
  },
  {
   "cell_type": "code",
   "execution_count": 10,
   "id": "caafb31a",
   "metadata": {},
   "outputs": [],
   "source": [
    "import os, sys\n",
    "import numpy as np\n",
    "from math import fsum, isclose\n",
    "from matplotlib import pyplot as plt\n",
    "import cProfile, pstats\n",
    "\n",
    "PROJECT_DIR = os.path.abspath('..')\n",
    "sys.path.append(PROJECT_DIR)"
   ]
  },
  {
   "cell_type": "markdown",
   "id": "a7a86ded",
   "metadata": {},
   "source": [
    "### Here we import all our custom GA code."
   ]
  },
  {
   "cell_type": "code",
   "execution_count": 11,
   "id": "a6cbbbdb",
   "metadata": {},
   "outputs": [],
   "source": [
    "# Import main classes.\n",
    "from pygenalgo.genome.gene import Gene\n",
    "from pygenalgo.genome.chromosome import Chromosome\n",
    "from pygenalgo.engines.standard_ga import StandardGA\n",
    "\n",
    "# Import Selection Operator(s).\n",
    "from pygenalgo.operators.selection.linear_rank_selector import LinearRankSelector\n",
    "\n",
    "# Import Crossover Operator(s).\n",
    "from pygenalgo.operators.crossover.uniform_crossover import UniformCrossover\n",
    "\n",
    "# Import Mutation Operator(s).\n",
    "from pygenalgo.operators.mutation.random_mutator import RandomMutator"
   ]
  },
  {
   "cell_type": "markdown",
   "id": "1380ce0e",
   "metadata": {},
   "source": [
    "### Define the sphere function, which plays also the role of the 'fitness' function.\n",
    "\n",
    "In addition, we define the 'boundary_x' which takes the role of the 'random()' method of the Genes. Every time\n",
    "we want to 'mutate' a gene this function will be called that returns 'valid', but random values for the gene."
   ]
  },
  {
   "cell_type": "code",
   "execution_count": 12,
   "id": "b78fde19",
   "metadata": {},
   "outputs": [],
   "source": [
    "# Sphere function.\n",
    "def fun_Sphere(individual: Chromosome, f_min: bool = True):\n",
    "    \n",
    "    # Compute the shpere function.\n",
    "    f_val = fsum([xi.value**2 for xi in individual])\n",
    "\n",
    "    # Condition for termination.\n",
    "    solution_found = isclose(f_val, 0.0, rel_tol=1.0e-6)\n",
    "\n",
    "    # Assign the fitness value (check for minimization).\n",
    "    fit_value = -f_val if f_min else f_val\n",
    "    \n",
    "    # Return the solution tuple.\n",
    "    return fit_value, solution_found\n",
    "# _end_def_"
   ]
  },
  {
   "cell_type": "markdown",
   "id": "5bbe0da8",
   "metadata": {},
   "source": [
    "Here we set the GA parameters, such as number of genes, number of chromosomes, etc. Note that in this case each\n",
    "gene has the same random() function (set by 'boundary_x'). But if the problem demands otherwise it is easy to set a \n",
    "different random() function for each gene."
   ]
  },
  {
   "cell_type": "code",
   "execution_count": 13,
   "id": "ad20502b",
   "metadata": {},
   "outputs": [],
   "source": [
    "# Random number generator.\n",
    "rng = np.random.default_rng()\n",
    "\n",
    "# Random function: ~N(0,1).\n",
    "# Since 'xi' are allowed to take any real value in [-inf, +inf], by setting this\n",
    "# to the Normal(0, 1) essentially we can get both negative and positive values.\n",
    "boundary_x = lambda: rng.normal()\n",
    "\n",
    "# Define the number of genes.\n",
    "M = 5\n",
    "\n",
    "# Define the number of chromosomes.\n",
    "N = 100\n",
    "\n",
    "# Sample the initial points randomly.\n",
    "x0_init = rng.uniform(-10.0, +10.0, size=(N, M))\n",
    "\n",
    "# Initial population.\n",
    "population = [Chromosome([Gene(x0_init[i, j], boundary_x)\n",
    "                          for j in range(M)], np.nan, True)\n",
    "              for i in range(N)]\n",
    "\n",
    "# Create the StandardGA object that will carry on the optimization.\n",
    "test_GA = StandardGA(initial_pop=population,\n",
    "                     fit_func=fun_Sphere,\n",
    "                     select_op=LinearRankSelector(),\n",
    "                     mutate_op=RandomMutator(),\n",
    "                     crossx_op=UniformCrossover())"
   ]
  },
  {
   "cell_type": "markdown",
   "id": "ed9f7598",
   "metadata": {},
   "source": [
    "### Optimization process.\n",
    "\n",
    "Here we call the GA object (either directly, or through the method run()). We set a number of parameter, such as the maximum iterations (i.e. epochs), tolerance for the fitness convergences, etc."
   ]
  },
  {
   "cell_type": "code",
   "execution_count": 14,
   "id": "9624e41b",
   "metadata": {},
   "outputs": [
    {
     "name": "stdout",
     "output_type": "stream",
     "text": [
      "Initial Avg. Fitness = -164.1573.\n",
      "Final   Avg. Fitness = -0.3816.\n",
      "Elapsed time: 12.670 seconds.\n"
     ]
    }
   ],
   "source": [
    "# cProfile.run('test_GA(epochs=1000, f_tol=1.0e-8, elitism=True, adapt_probs=True)', 'output.prof')\n",
    "test_GA(epochs=1000, f_tol=1.0e-8, elitism=True, adapt_probs=True)"
   ]
  },
  {
   "cell_type": "code",
   "execution_count": 15,
   "id": "b0543241",
   "metadata": {},
   "outputs": [
    {
     "name": "stdout",
     "output_type": "stream",
     "text": [
      "Minimum Found: 0.00000\n",
      "\n",
      "x1 =  -0.000064\n",
      "x2 =  -0.000445\n",
      "x3 =  -0.000319\n",
      "x4 =   0.000314\n",
      "x5 =   0.001403\n"
     ]
    }
   ],
   "source": [
    "# Extract the optimal solution from the GA.\n",
    "optimal_solution = test_GA.best_chromosome()\n",
    "\n",
    "# Extract the fitness value from the optimal solution.\n",
    "optimal_fit, _ = fun_Sphere(optimal_solution, f_min=False)\n",
    "\n",
    "# Display the (final) optimal value.\n",
    "print(f\"Minimum Found: {optimal_fit:.5f}\\n\")\n",
    "\n",
    "# Display each gene value separately.\n",
    "for i, xi in enumerate(optimal_solution.genome, start=1):\n",
    "    print(f\"x{i} = {xi.value:>10.6f}\")\n",
    "# _end_for_\n",
    "\n",
    "# True minimum: f(0.0, 0.0, ..., 0.0) = 0.0"
   ]
  },
  {
   "cell_type": "markdown",
   "id": "788b16a0",
   "metadata": {},
   "source": [
    "**Note that the above solution is indeed very close to the absolute minimum!**"
   ]
  },
  {
   "cell_type": "code",
   "execution_count": 16,
   "id": "11707c8c-dbfd-4bc3-a40d-195ae93ab5a8",
   "metadata": {},
   "outputs": [
    {
     "data": {
      "image/png": "[encoded data removed]",
      "text/plain": [
       "<Figure size 640x480 with 1 Axes>"
      ]
     },
     "metadata": {},
     "output_type": "display_data"
    }
   ],
   "source": [
    "plt.plot(test_GA.stats[\"prob_crossx\"],\n",
    "         'ro:', markersize=5, label=\"crossover\")\n",
    "plt.plot(test_GA.stats[\"prob_mutate\"],\n",
    "         'bd:', markersize=5, label=\"mutation\")\n",
    "\n",
    "plt.xlabel(\"Epochs\")\n",
    "plt.ylabel(\"Probability\")\n",
    "\n",
    "plt.legend()\n",
    "plt.grid()"
   ]
  },
  {
   "cell_type": "code",
   "execution_count": 17,
   "id": "2dd81df3-6aa0-4198-9ffd-dc69f23db23c",
   "metadata": {},
   "outputs": [],
   "source": [
    "# p = pstats.Stats('output.prof')"
   ]
  },
  {
   "cell_type": "code",
   "execution_count": 18,
   "id": "bd818365-5aa5-4c14-b829-46beaff943fe",
   "metadata": {},
   "outputs": [],
   "source": [
    "# p.sort_stats('cumtime').print_stats(20)"
   ]
  },
  {
   "cell_type": "markdown",
   "id": "91c249a0",
   "metadata": {},
   "source": [
    "### End of file"
   ]
  },
  {
   "cell_type": "code",
   "execution_count": null,
   "id": "ae7be181-82f8-48a9-a34b-728f707b503c",
   "metadata": {},
   "outputs": [],
   "source": []
  }
 ],
 "metadata": {
  "kernelspec": {
   "display_name": "venv_tf",
   "language": "python",
   "name": "venv_tf"
  },
  "language_info": {
   "codemirror_mode": {
    "name": "ipython",
    "version": 3
   },
   "file_extension": ".py",
   "mimetype": "text/x-python",
   "name": "python",
   "nbconvert_exporter": "python",
   "pygments_lexer": "ipython3",
   "version": "3.10.13"
  }
 },
 "nbformat": 4,
 "nbformat_minor": 5
}
