{
 "cells": [
  {
   "cell_type": "code",
   "execution_count": 1,
   "id": "a7e3adb4",
   "metadata": {},
   "outputs": [],
   "source": [
    "import os, sys\n",
    "import numpy as np\n",
    "from math import fsum\n",
    "import matplotlib.pyplot as plt\n",
    "\n",
    "PROJECT_DIR = os.path.abspath('../code')\n",
    "sys.path.append(PROJECT_DIR)"
   ]
  },
  {
   "cell_type": "code",
   "execution_count": 2,
   "id": "247088c6",
   "metadata": {},
   "outputs": [],
   "source": [
    "# Import main classes.\n",
    "from src.genome.gene import Gene\n",
    "from src.genome.chromosome import Chromosome\n",
    "from src.engines.standard_ga import StandardGA\n",
    "\n",
    "# Import Selection Operators.\n",
    "from src.operators.selection.tournament_selector import TournamentSelector\n",
    "from src.operators.selection.linear_rank_selector import LinearRankSelector\n",
    "\n",
    "# Import Crossover Operators.\n",
    "from src.operators.crossover.uniform_crossover import UniformCrossover\n",
    "from src.operators.crossover.single_point_crossover import SinglePointCrossover\n",
    "\n",
    "# Import Mutation Operators.\n",
    "from src.operators.mutation.swap_mutator import SwapMutator\n",
    "from src.operators.mutation.random_mutator import RandomMutator"
   ]
  },
  {
   "cell_type": "markdown",
   "id": "df25a30b",
   "metadata": {},
   "source": [
    "## Sphere optimization"
   ]
  },
  {
   "cell_type": "code",
   "execution_count": 3,
   "id": "be1afc07",
   "metadata": {},
   "outputs": [],
   "source": [
    "# Shpere function.\n",
    "def fun_Sphere(_chromosome):\n",
    "    \n",
    "    # Return the negative (to account for minimization).\n",
    "    return -fsum([xi.datum**2 for xi in _chromosome])\n",
    "# _end_def_\n",
    "\n",
    "# Random function ~N(0,1).\n",
    "_func = lambda: np.random.normal()"
   ]
  },
  {
   "cell_type": "code",
   "execution_count": 26,
   "id": "57fb9f33",
   "metadata": {},
   "outputs": [],
   "source": [
    "# Define the number of genes.\n",
    "M = 40\n",
    "\n",
    "# Define the number of chromosomes.\n",
    "N = 130\n",
    "\n",
    "# Initial population.\n",
    "population = [Chromosome([Gene(np.random.uniform(-2.0, +2.0), _func) for j in range(M)], np.nan, True)\n",
    "              for i in range(N)]\n",
    "\n",
    "# Set the fitness function.\n",
    "fun_optim = fun_Sphere\n",
    "\n",
    "# Create the StandardGA.\n",
    "toy_GA = StandardGA(initial_pop=population, fit_func=fun_optim,\n",
    "                    select_op=LinearRankSelector(),\n",
    "                    mutate_op=RandomMutator(0.1),\n",
    "                    cross_op=UniformCrossover())"
   ]
  },
  {
   "cell_type": "code",
   "execution_count": 27,
   "id": "828f50a3",
   "metadata": {},
   "outputs": [
    {
     "name": "stdout",
     "output_type": "stream",
     "text": [
      "Initial Avg. Fitness = -54.1574\n",
      "Final   Avg. Fitness = -0.1222\n",
      "Elapsed time: 104.604 seconds.\n"
     ]
    }
   ],
   "source": [
    "toy_GA.run(epochs=1000, elitism=True, f_tol=1.0e-6, verbose=False)"
   ]
  },
  {
   "cell_type": "code",
   "execution_count": 28,
   "id": "b04ddaf2",
   "metadata": {},
   "outputs": [
    {
     "name": "stdout",
     "output_type": "stream",
     "text": [
      "Best Fitness: -0.00573\n",
      "\n",
      "x0 = -0.03386\n",
      "x1 = -0.01907\n",
      "x2 = -0.00803\n",
      "x3 = -0.01471\n",
      "x4 = 0.00006\n",
      "x5 = -0.00419\n",
      "x6 = -0.00772\n",
      "x7 = 0.00122\n",
      "x8 = -0.00513\n",
      "x9 = -0.00042\n",
      "x10 = -0.00238\n",
      "x11 = 0.02286\n",
      "x12 = 0.00058\n",
      "x13 = 0.00787\n",
      "x14 = 0.02274\n",
      "x15 = -0.00621\n",
      "x16 = 0.00309\n",
      "x17 = 0.01040\n",
      "x18 = 0.00424\n",
      "x19 = 0.01200\n",
      "x20 = -0.01839\n",
      "x21 = -0.00885\n",
      "x22 = 0.01164\n",
      "x23 = 0.00320\n",
      "x24 = -0.02579\n",
      "x25 = 0.00530\n",
      "x26 = -0.00092\n",
      "x27 = -0.01505\n",
      "x28 = 0.01693\n",
      "x29 = 0.00045\n",
      "x30 = 0.00294\n",
      "x31 = -0.01823\n",
      "x32 = -0.00448\n",
      "x33 = -0.00788\n",
      "x34 = 0.00996\n",
      "x35 = -0.00892\n",
      "x36 = 0.00366\n",
      "x37 = -0.00250\n",
      "x38 = 0.00401\n",
      "x39 = 0.00034\n"
     ]
    }
   ],
   "source": [
    "print(f\"Best Fitness: {toy_GA.best_chromosome().fitness:.5f}\\n\")\n",
    "\n",
    "for i, xi in enumerate(toy_GA.best_chromosome()._genome):\n",
    "    print(f\"x{i} = {xi.datum:.5f}\")"
   ]
  },
  {
   "cell_type": "code",
   "execution_count": 29,
   "id": "50fb6ecb",
   "metadata": {},
   "outputs": [
    {
     "name": "stdout",
     "output_type": "stream",
     "text": [
      " UniformCrossover: (4922655584)\n",
      " _probability: 0.9\n",
      " _rng: Generator(PCG64)\n",
      " _counter: 65000\n",
      "\n",
      " LinearRankSelector: (4930200864)\n",
      " _probability: 1.0\n",
      " _rng: Generator(PCG64)\n",
      " _counter: 1000\n",
      "\n",
      " RandomMutator: (4923135840)\n",
      " _probability: 0.1\n",
      " _rng: Generator(PCG64)\n",
      " _counter: 13133\n",
      "\n"
     ]
    }
   ],
   "source": [
    "toy_GA.print_operator_stats()"
   ]
  },
  {
   "cell_type": "code",
   "execution_count": 30,
   "id": "e5163ed5",
   "metadata": {},
   "outputs": [
    {
     "data": {
      "image/png": "[encoded data removed]",
      "text/plain": [
       "<Figure size 640x480 with 1 Axes>"
      ]
     },
     "metadata": {},
     "output_type": "display_data"
    }
   ],
   "source": [
    "plt.errorbar(x=range(len(toy_GA.stats['avg'])),\n",
    "             y=toy_GA.stats['avg'], yerr=toy_GA.stats['std'], fmt='--s')\n",
    "\n",
    "plt.grid(True)\n",
    "plt.title(\"Sphere-GA\")\n",
    "plt.xlabel(\"Epoch\")\n",
    "plt.ylabel(\"Fitness\");"
   ]
  },
  {
   "cell_type": "code",
   "execution_count": null,
   "id": "78b35acd",
   "metadata": {},
   "outputs": [],
   "source": []
  },
  {
   "cell_type": "code",
   "execution_count": null,
   "id": "0976e638",
   "metadata": {},
   "outputs": [],
   "source": []
  }
 ],
 "metadata": {
  "kernelspec": {
   "display_name": "SOMap",
   "language": "python",
   "name": "somap"
  },
  "language_info": {
   "codemirror_mode": {
    "name": "ipython",
    "version": 3
   },
   "file_extension": ".py",
   "mimetype": "text/x-python",
   "name": "python",
   "nbconvert_exporter": "python",
   "pygments_lexer": "ipython3",
   "version": "3.10.13"
  }
 },
 "nbformat": 4,
 "nbformat_minor": 5
}
