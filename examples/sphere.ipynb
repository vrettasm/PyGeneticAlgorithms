{
 "cells": [
  {
   "cell_type": "markdown",
   "id": "df25a30b",
   "metadata": {},
   "source": [
    "# Sphere function optimization (min).\n",
    "\n",
    "The general equation is given by:\n",
    "\n",
    "$f(\\mathbf{x}) = \\sum_{i=1}^{M} x^2_i$,  with  $-\\infty \\le x_i \\le +\\infty$,\n",
    "and global minimum found at: $f(x_1, x_2, ..., x_M) = f(0, 0, ..., 0) = 0$."
   ]
  },
  {
   "cell_type": "markdown",
   "id": "bb448d0a",
   "metadata": {},
   "source": [
    "### First we import python libraries and set up the directory of our code."
   ]
  },
  {
   "cell_type": "code",
   "execution_count": 3,
   "id": "a7e3adb4",
   "metadata": {},
   "outputs": [],
   "source": [
    "import os, sys\n",
    "import numpy as np\n",
    "from math import fsum\n",
    "import matplotlib.pyplot as plt\n",
    "\n",
    "PROJECT_DIR = os.path.abspath('../code')\n",
    "sys.path.append(PROJECT_DIR)"
   ]
  },
  {
   "cell_type": "markdown",
   "id": "cbab465f",
   "metadata": {},
   "source": [
    "### Here we import all our custom GA code."
   ]
  },
  {
   "cell_type": "code",
   "execution_count": 5,
   "id": "247088c6",
   "metadata": {},
   "outputs": [],
   "source": [
    "# Import main classes.\n",
    "from src.genome.gene import Gene\n",
    "from src.genome.chromosome import Chromosome\n",
    "from src.engines.standard_ga import StandardGA\n",
    "\n",
    "# Import Selection Operator(s).\n",
    "from src.operators.selection.linear_rank_selector import LinearRankSelector\n",
    "\n",
    "# Import Crossover Operator(s).\n",
    "from src.operators.crossover.uniform_crossover import UniformCrossover\n",
    "\n",
    "# Import Mutation Operator(s).\n",
    "from src.operators.mutation.random_mutator import RandomMutator"
   ]
  },
  {
   "cell_type": "markdown",
   "id": "e91fb6e2",
   "metadata": {},
   "source": [
    "### Define the sphere function, which plays also the role of the 'fitness' function.\n",
    "\n",
    "In addition, we define the '_func' which takes the role of the 'random()' method of the Genes. Every time we\n",
    "want to 'mutate' a gene this function will be called that returns 'valid', but random values for the gene."
   ]
  },
  {
   "cell_type": "code",
   "execution_count": 7,
   "id": "be1afc07",
   "metadata": {},
   "outputs": [],
   "source": [
    "# Sphere function.\n",
    "def fun_Sphere(chromosome, f_min: bool = True):\n",
    "    \n",
    "    # Compute the shpere function.\n",
    "    f_val = fsum([xi.datum**2 for xi in chromosome])\n",
    "    \n",
    "    # Return the negative (to account for minimization).\n",
    "    return -f_val if f_min else f_val\n",
    "# _end_def_\n",
    "\n",
    "# Random function ~N(0,1).\n",
    "# Since 'xi' are allowed to take any real value in [-inf, +inf], by setting this\n",
    "# to the Normal(0, 1) essentially we can get both negative and positive values.\n",
    "_func = lambda: np.random.normal()"
   ]
  },
  {
   "cell_type": "markdown",
   "id": "5304ee70",
   "metadata": {},
   "source": [
    "Here we set the GA parameters, such as number of genes, number of chromosomes, etc. Note that in this case each\n",
    "gene has the same random() function (set by '_func'). But if the problem demands otherwise it is easy to set a \n",
    "different random() function for each gene."
   ]
  },
  {
   "cell_type": "code",
   "execution_count": 9,
   "id": "57fb9f33",
   "metadata": {},
   "outputs": [],
   "source": [
    "# Define the number of genes.\n",
    "# In this problem the number of genes can be any positive integer [1, M]\n",
    "M = 10\n",
    "\n",
    "# Define the number of chromosomes.\n",
    "N = 100\n",
    "\n",
    "# Initial population.\n",
    "# It is important to note that the initial population is randomly generated with valid values.\n",
    "population = [Chromosome([Gene(np.random.uniform(-10.0, +10.0), _func) for j in range(M)], np.nan, True)\n",
    "              for i in range(N)]\n",
    "\n",
    "# Create the StandardGA object that will carry on the optimization.\n",
    "# Note: in this example we have accepted, silently, the default probabilities in the\n",
    "# genetic operators. These can be altered here before passed to the StandardGA constructor.\n",
    "toy_GA = StandardGA(initial_pop=population, fit_func=fun_Sphere, select_op=LinearRankSelector(),\n",
    "                    mutate_op=RandomMutator(), cross_op=UniformCrossover())"
   ]
  },
  {
   "cell_type": "markdown",
   "id": "517084eb",
   "metadata": {},
   "source": [
    "### Optimization process.\n",
    "\n",
    "Here we call the GA object (either directly, or through the method run()). We set a number of parameter, such as the maximum iterations (i.e. epochs), tolerance for the fitness convergences, etc."
   ]
  },
  {
   "cell_type": "code",
   "execution_count": 11,
   "id": "828f50a3",
   "metadata": {},
   "outputs": [
    {
     "name": "stdout",
     "output_type": "stream",
     "text": [
      "Initial Avg. Fitness = -347.6641\n",
      "Final   Avg. Fitness = -0.0797\n",
      "Elapsed time: 53.876 seconds.\n"
     ]
    }
   ],
   "source": [
    "toy_GA.run(epochs=2000, elitism=True, f_tol=1.0e-6, verbose=False)"
   ]
  },
  {
   "cell_type": "code",
   "execution_count": 12,
   "id": "b04ddaf2",
   "metadata": {},
   "outputs": [
    {
     "name": "stdout",
     "output_type": "stream",
     "text": [
      "Minimum Found: 0.00001\n",
      "\n",
      "x0 = -0.00153\n",
      "x1 = -0.00052\n",
      "x2 = 0.00042\n",
      "x3 = -0.00111\n",
      "x4 = 0.00044\n",
      "x5 = -0.00016\n",
      "x6 = 0.00005\n",
      "x7 = 0.00029\n",
      "x8 = 0.00049\n",
      "x9 = 0.00125\n"
     ]
    }
   ],
   "source": [
    "# Display the (final) optimal value.\n",
    "print(f\"Minimum Found: {fun_Sphere(toy_GA.best_chromosome(), f_min=False):.5f}\\n\")\n",
    "\n",
    "# Display each gene value separately.\n",
    "for i, xi in enumerate(toy_GA.best_chromosome()._genome):\n",
    "    print(f\"x{i} = {xi.datum:.5f}\")\n",
    "# _end_for_\n",
    "\n",
    "# True minimum: f(0.0, 0.0, ..., 0.0) = 0.0"
   ]
  },
  {
   "cell_type": "markdown",
   "id": "574e346b",
   "metadata": {},
   "source": [
    "**Note that the above solution is indeed very close to the absolute minimum!**"
   ]
  },
  {
   "cell_type": "code",
   "execution_count": 14,
   "id": "50fb6ecb",
   "metadata": {},
   "outputs": [
    {
     "name": "stdout",
     "output_type": "stream",
     "text": [
      " UniformCrossover: (140507827746864)\n",
      " _probability: 0.9\n",
      " _rng: Generator(PCG64)\n",
      " _counter: 90038\n",
      "\n",
      " LinearRankSelector: (140507827748704)\n",
      " _probability: 1.0\n",
      " _rng: Generator(PCG64)\n",
      " _counter: 2000\n",
      "\n",
      " RandomMutator: (140507827746064)\n",
      " _probability: 0.1\n",
      " _rng: Generator(PCG64)\n",
      " _counter: 20239\n",
      "\n"
     ]
    }
   ],
   "source": [
    "# If we want we can also print some operator statistics.\n",
    "toy_GA.print_operator_stats()"
   ]
  },
  {
   "cell_type": "code",
   "execution_count": 15,
   "id": "e5163ed5",
   "metadata": {},
   "outputs": [
    {
     "data": {
      "image/png": "[encoded data removed]",
      "text/plain": [
       "<Figure size 640x480 with 1 Axes>"
      ]
     },
     "metadata": {},
     "output_type": "display_data"
    }
   ],
   "source": [
    "# Plot the average (population) fitness along with its spread (std)\n",
    "# as function of the epochs.\n",
    "plt.errorbar(x=range(len(toy_GA.stats['avg'])),\n",
    "             y=toy_GA.stats['avg'], yerr=toy_GA.stats['std'], fmt='--s')\n",
    "\n",
    "# Set up the lables.\n",
    "plt.grid(True)\n",
    "plt.title(\"Sphere-GA\")\n",
    "plt.xlabel(\"Epoch\")\n",
    "plt.ylabel(\"$Mean~Fitness \\pm Std$\");"
   ]
  },
  {
   "cell_type": "markdown",
   "id": "c73558d0",
   "metadata": {},
   "source": [
    "### End of file"
   ]
  },
  {
   "cell_type": "code",
   "execution_count": null,
   "id": "e6eacedc",
   "metadata": {},
   "outputs": [],
   "source": []
  }
 ],
 "metadata": {
  "kernelspec": {
   "display_name": "venv_tf",
   "language": "python",
   "name": "venv_tf"
  },
  "language_info": {
   "codemirror_mode": {
    "name": "ipython",
    "version": 3
   },
   "file_extension": ".py",
   "mimetype": "text/x-python",
   "name": "python",
   "nbconvert_exporter": "python",
   "pygments_lexer": "ipython3",
   "version": "3.10.13"
  }
 },
 "nbformat": 4,
 "nbformat_minor": 5
}
