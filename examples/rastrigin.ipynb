{
 "cells": [
  {
   "cell_type": "markdown",
   "id": "b7d34226",
   "metadata": {},
   "source": [
    "#  Rastrigin function optimization (max).\n",
    "\n",
    "The general equation is given by:\n",
    "\n",
    "$f(\\mathbf{x}) = An + \\sum_{i=1}^{n} [x_i^2 - A\\cos(2 \\pi x_i)]$, with  $-5.12 \\le x_i \\le +5.12$,\n",
    "and $A = 10$. According to [Rastrigin function](https://en.wikipedia.org/wiki/Rastrigin_function) for a given number of dimensions $n$ the maximum can be found accordingly. To test here the code we set $n=5$, which gives the maximum of $201.7664509$ at coordinates $x_i \\in [\\pm 4.52299366, ..., \\pm 4.52299366]$."
   ]
  },
  {
   "cell_type": "markdown",
   "id": "f9d45533",
   "metadata": {},
   "source": [
    "### First we import python libraries and set up the directory of our code."
   ]
  },
  {
   "cell_type": "code",
   "execution_count": 3,
   "id": "a7e3adb4",
   "metadata": {},
   "outputs": [],
   "source": [
    "import os, sys\n",
    "import numpy as np\n",
    "from math import fsum\n",
    "import matplotlib.pyplot as plt\n",
    "\n",
    "PROJECT_DIR = os.path.abspath('..')\n",
    "sys.path.append(PROJECT_DIR)"
   ]
  },
  {
   "cell_type": "markdown",
   "id": "3d46b773",
   "metadata": {},
   "source": [
    "### Here we import all our custom GA code."
   ]
  },
  {
   "cell_type": "code",
   "execution_count": 5,
   "id": "247088c6",
   "metadata": {},
   "outputs": [],
   "source": [
    "# Import main classes.\n",
    "from pygenalgo.genome.gene import Gene\n",
    "from pygenalgo.genome.chromosome import Chromosome\n",
    "from pygenalgo.engines.standard_ga import StandardGA\n",
    "\n",
    "# Import Selection Operator(s).\n",
    "from pygenalgo.operators.selection.linear_rank_selector import LinearRankSelector\n",
    "\n",
    "# Import Crossover Operator(s).\n",
    "from pygenalgo.operators.crossover.uniform_crossover import UniformCrossover\n",
    "\n",
    "# Import Mutation Operator(s).\n",
    "from pygenalgo.operators.mutation.random_mutator import RandomMutator"
   ]
  },
  {
   "cell_type": "markdown",
   "id": "df25a30b",
   "metadata": {},
   "source": [
    "### Define the Rastrigin function, which plays also the role of the 'fitness' function.\n",
    "\n",
    "In addition, we define the '_func' which takes the role of the 'random()' method of the Genes. Every time we\n",
    "want to 'mutate' a gene this function will be called that returns 'valid', but random values for the gene."
   ]
  },
  {
   "cell_type": "code",
   "execution_count": 7,
   "id": "be1afc07",
   "metadata": {},
   "outputs": [],
   "source": [
    "# Rastrigin function.\n",
    "def fun_Rastrigin(individual: Chromosome, f_min: bool = False):\n",
    "    \n",
    "    # Setup the model parameters.\n",
    "    A, n = 10.0, len(individual)\n",
    "    \n",
    "    # Function value.\n",
    "    f_val = A*n + fsum([xi.datum**2 - A*np.cos(2.0*np.pi*xi.datum) for xi in individual])\n",
    "    \n",
    "    # Return the f_val.\n",
    "    return -f_val if f_min else f_val\n",
    "# _end_def_\n",
    "\n",
    "# Random function ~U(-5.12, +5.12).\n",
    "_func = lambda: np.random.uniform(-5.12, +5.12001)"
   ]
  },
  {
   "cell_type": "markdown",
   "id": "1a71a565",
   "metadata": {},
   "source": [
    "Here we set the GA parameters, such as number of genes, number of chromosomes, etc. Note that in this case each\n",
    "gene has the same random() function (set by '_func'). But if the problem demands otherwise it is easy to set a \n",
    "different random() function for each gene."
   ]
  },
  {
   "cell_type": "code",
   "execution_count": 9,
   "id": "57fb9f33",
   "metadata": {},
   "outputs": [],
   "source": [
    "# Define the number of genes.\n",
    "M = 5\n",
    "\n",
    "# Define the number of chromosomes.\n",
    "N = 100\n",
    "\n",
    "# Initial population.\n",
    "# It is important to note that the initial population is randomly generated with valid values.\n",
    "population = [Chromosome([Gene(np.random.uniform(-5.0, +5.0), _func) for j in range(M)], np.nan, True)\n",
    "              for i in range(N)]\n",
    "\n",
    "# Create the StandardGA object that will carry on the optimization.\n",
    "# Note: in this example we have accepted, silently, the default probabilities in the\n",
    "# genetic operators. These can be altered here before passed to the StandardGA constructor.\n",
    "toy_GA = StandardGA(initial_pop=population,\n",
    "                    fit_func=fun_Rastrigin,\n",
    "                    select_op=LinearRankSelector(),\n",
    "                    mutate_op=RandomMutator(),\n",
    "                    cross_op=UniformCrossover())"
   ]
  },
  {
   "cell_type": "markdown",
   "id": "20983f1f",
   "metadata": {},
   "source": [
    "### Optimization process.\n",
    "\n",
    "Here we call the GA object (either directly, or through the method run()). We set a number of parameter,\n",
    "such as the maximum iterations (i.e. epochs), tolerance for the fitness convergences, etc."
   ]
  },
  {
   "cell_type": "code",
   "execution_count": 11,
   "id": "828f50a3",
   "metadata": {},
   "outputs": [
    {
     "name": "stdout",
     "output_type": "stream",
     "text": [
      "Initial Avg. Fitness = 91.9667\n",
      "Final   Avg. Fitness = 199.7864\n",
      "Elapsed time: 21.300 seconds.\n"
     ]
    }
   ],
   "source": [
    "toy_GA(epochs=2000, elitism=True, f_tol=1.0e-6, verbose=False)"
   ]
  },
  {
   "cell_type": "code",
   "execution_count": 12,
   "id": "b04ddaf2",
   "metadata": {},
   "outputs": [
    {
     "name": "stdout",
     "output_type": "stream",
     "text": [
      "Maximum Found: 201.76583\n",
      "\n",
      "x0 =   4.524440\n",
      "x1 =  -4.522889\n",
      "x2 =  -4.523880\n",
      "x3 =  -4.522893\n",
      "x4 =   4.522435\n"
     ]
    }
   ],
   "source": [
    "# Extract the optimal solution from the GA.\n",
    "optimal_solution = toy_GA.best_chromosome()\n",
    "\n",
    "# Display the (final) optimum value.\n",
    "print(f\"Maximum Found: {fun_Rastrigin(optimal_solution, f_min=False):.5f}\\n\")\n",
    "\n",
    "# Display each gene value separately.\n",
    "for i, xi in enumerate(optimal_solution.genome):\n",
    "    print(f\"x{i} = {xi.datum:>10.6f}\")\n",
    "# _end_for_\n",
    "\n",
    "# True maximum: 201.7664509."
   ]
  },
  {
   "cell_type": "markdown",
   "id": "6d308028",
   "metadata": {},
   "source": [
    "**Note that the above solution is indeed very close to the absolute maximum!**"
   ]
  },
  {
   "cell_type": "code",
   "execution_count": 14,
   "id": "50fb6ecb",
   "metadata": {},
   "outputs": [
    {
     "name": "stdout",
     "output_type": "stream",
     "text": [
      " LinearRankSelector: (140199502244064)\n",
      " _probability: 1.0\n",
      " _counter: 2000\n",
      " _lock: <unlocked _thread.lock object at 0x7f82bdbe2a80>\n",
      "\n",
      " UniformCrossover: (140199505799872)\n",
      " _probability: 0.9\n",
      " _counter: 90053\n",
      " _lock: <unlocked _thread.lock object at 0x7f82bda03880>\n",
      "\n",
      " RandomMutator: (140199505797232)\n",
      " _probability: 0.1\n",
      " _counter: 20056\n",
      " _lock: <unlocked _thread.lock object at 0x7f82bdc064c0>\n",
      "\n"
     ]
    }
   ],
   "source": [
    "# If we want we can also print some operator statistics.\n",
    "toy_GA.print_operator_stats()"
   ]
  },
  {
   "cell_type": "code",
   "execution_count": 15,
   "id": "e5163ed5",
   "metadata": {},
   "outputs": [
    {
     "data": {
      "image/png": "[encoded data removed]",
      "text/plain": [
       "<Figure size 640x480 with 1 Axes>"
      ]
     },
     "metadata": {},
     "output_type": "display_data"
    }
   ],
   "source": [
    "# Plot the average (population) fitness along with its spread (std)\n",
    "# as function of the epochs.\n",
    "plt.errorbar(x=range(len(toy_GA.stats['avg'])),\n",
    "             y=toy_GA.stats['avg'], yerr=toy_GA.stats['std'])\n",
    "\n",
    "plt.grid(True)\n",
    "plt.title(\"Rastrigin-GA\")\n",
    "plt.xlabel(\"Epoch\")\n",
    "plt.ylabel(\"$Mean~Fitness \\pm Std$\");"
   ]
  },
  {
   "cell_type": "markdown",
   "id": "1d59b41c",
   "metadata": {},
   "source": [
    "### End of file"
   ]
  },
  {
   "cell_type": "code",
   "execution_count": null,
   "id": "01019fb4",
   "metadata": {},
   "outputs": [],
   "source": []
  }
 ],
 "metadata": {
  "kernelspec": {
   "display_name": "venv_tf",
   "language": "python",
   "name": "venv_tf"
  },
  "language_info": {
   "codemirror_mode": {
    "name": "ipython",
    "version": 3
   },
   "file_extension": ".py",
   "mimetype": "text/x-python",
   "name": "python",
   "nbconvert_exporter": "python",
   "pygments_lexer": "ipython3",
   "version": "3.10.13"
  }
 },
 "nbformat": 4,
 "nbformat_minor": 5
}
