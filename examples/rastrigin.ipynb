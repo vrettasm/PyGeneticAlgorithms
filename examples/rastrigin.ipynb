{
 "cells": [
  {
   "cell_type": "code",
   "execution_count": 1,
   "id": "a7e3adb4",
   "metadata": {},
   "outputs": [],
   "source": [
    "import os, sys\n",
    "import numpy as np\n",
    "from math import fsum\n",
    "import matplotlib.pyplot as plt\n",
    "\n",
    "PROJECT_DIR = os.path.abspath('../code')\n",
    "sys.path.append(PROJECT_DIR)"
   ]
  },
  {
   "cell_type": "code",
   "execution_count": 2,
   "id": "247088c6",
   "metadata": {},
   "outputs": [],
   "source": [
    "# Import main classes.\n",
    "from src.genome.gene import Gene\n",
    "from src.genome.chromosome import Chromosome\n",
    "from src.engines.standard_ga import StandardGA\n",
    "\n",
    "# Import Selection Operators.\n",
    "from src.operators.selection.tournament_selector import TournamentSelector\n",
    "from src.operators.selection.linear_rank_selector import LinearRankSelector\n",
    "\n",
    "# Import Crossover Operators.\n",
    "from src.operators.crossover.uniform_crossover import UniformCrossover\n",
    "from src.operators.crossover.single_point_crossover import SinglePointCrossover\n",
    "\n",
    "# Import Mutation Operators.\n",
    "from src.operators.mutation.swap_mutator import SwapMutator\n",
    "from src.operators.mutation.random_mutator import RandomMutator"
   ]
  },
  {
   "cell_type": "markdown",
   "id": "df25a30b",
   "metadata": {},
   "source": [
    "## Rastrigin optimization"
   ]
  },
  {
   "cell_type": "code",
   "execution_count": 3,
   "id": "be1afc07",
   "metadata": {},
   "outputs": [],
   "source": [
    "# Rastrigin function.\n",
    "def fun_Rastrigin(_chromosome):\n",
    "    # Setup the model parameters.\n",
    "    A, n = 10.0, len(_chromosome)\n",
    "    \n",
    "    # Function value.\n",
    "    f_val = A*n + fsum([xi.datum**2 - A*np.cos(2.0*np.pi*xi.datum) for xi in _chromosome])\n",
    "    \n",
    "    # Return the negative (if we want to account for minimization).\n",
    "    return f_val\n",
    "# _end_def_\n",
    "\n",
    "# Random function ~U(-5.12, +5.12).\n",
    "_func = lambda: np.random.uniform(-5.12, +5.12001)"
   ]
  },
  {
   "cell_type": "code",
   "execution_count": 9,
   "id": "57fb9f33",
   "metadata": {},
   "outputs": [],
   "source": [
    "# Define the number of genes.\n",
    "M = 5\n",
    "\n",
    "# Define the number of chromosomes.\n",
    "N = 100\n",
    "\n",
    "# Initial population.\n",
    "population = [Chromosome([Gene(np.random.uniform(-5.0, +5.0), _func) for j in range(M)], np.nan, True)\n",
    "              for i in range(N)]\n",
    "\n",
    "# Set the fitness function.\n",
    "fun_optim = fun_Rastrigin\n",
    "\n",
    "# Create the StandardGA.\n",
    "toy_GA = StandardGA(initial_pop=population, fit_func=fun_optim,\n",
    "                    select_op=LinearRankSelector(),\n",
    "                    mutate_op=RandomMutator(0.1),\n",
    "                    cross_op=UniformCrossover())"
   ]
  },
  {
   "cell_type": "code",
   "execution_count": 10,
   "id": "828f50a3",
   "metadata": {},
   "outputs": [
    {
     "name": "stdout",
     "output_type": "stream",
     "text": [
      "Initial Avg. Fitness = 90.7616\n",
      "Final Avg. Fitness = 200.3477\n",
      "Elapsed time: 64.785 seconds.\n"
     ]
    }
   ],
   "source": [
    "toy_GA.run(epochs=5000, elitism=True, f_tol=1.0e-6, verbose=False)"
   ]
  },
  {
   "cell_type": "code",
   "execution_count": 11,
   "id": "b04ddaf2",
   "metadata": {},
   "outputs": [
    {
     "data": {
      "text/plain": [
       "(201.76637988292043,\n",
       " [Gene(datum=4.522910013434948, _func=<function <lambda> at 0x11c61b6d0>, valid=True),\n",
       "  Gene(datum=-4.523401057888986, _func=<function <lambda> at 0x11c61b6d0>, valid=True),\n",
       "  Gene(datum=-4.523165223408554, _func=<function <lambda> at 0x11c61b6d0>, valid=True),\n",
       "  Gene(datum=4.523031900690735, _func=<function <lambda> at 0x11c61b6d0>, valid=True),\n",
       "  Gene(datum=-4.522591258052738, _func=<function <lambda> at 0x11c61b6d0>, valid=True)])"
      ]
     },
     "execution_count": 11,
     "metadata": {},
     "output_type": "execute_result"
    }
   ],
   "source": [
    "toy_GA.best_chromosome().fitness, toy_GA.best_chromosome()._genome"
   ]
  },
  {
   "cell_type": "code",
   "execution_count": 12,
   "id": "50fb6ecb",
   "metadata": {},
   "outputs": [
    {
     "name": "stdout",
     "output_type": "stream",
     "text": [
      " UniformCrossover: (4771193984)\n",
      " _probability: 0.9\n",
      " _rng: Generator(PCG64)\n",
      " _counter: 250000\n",
      "\n",
      " LinearRankSelector: (4760818992)\n",
      " _probability: 1.0\n",
      " _rng: Generator(PCG64)\n",
      " _counter: 5000\n",
      "\n",
      " RandomMutator: (4772184208)\n",
      " _probability: 0.1\n",
      " _rng: Generator(PCG64)\n",
      " _counter: 50158\n",
      "\n"
     ]
    }
   ],
   "source": [
    "toy_GA.print_operator_stats()"
   ]
  },
  {
   "cell_type": "code",
   "execution_count": 13,
   "id": "e5163ed5",
   "metadata": {},
   "outputs": [
    {
     "data": {
      "image/png": "[encoded data removed]",
      "text/plain": [
       "<Figure size 640x480 with 1 Axes>"
      ]
     },
     "metadata": {},
     "output_type": "display_data"
    }
   ],
   "source": [
    "plt.errorbar(x=range(len(toy_GA.stats['avg'])),\n",
    "             y=toy_GA.stats['avg'], yerr=toy_GA.stats['std'])\n",
    "\n",
    "plt.grid(True)\n",
    "plt.title(\"Rastrigin-GA\")\n",
    "plt.xlabel(\"Epoch\")\n",
    "plt.ylabel(\"Fitness\");"
   ]
  },
  {
   "cell_type": "code",
   "execution_count": null,
   "id": "78b35acd",
   "metadata": {},
   "outputs": [],
   "source": []
  }
 ],
 "metadata": {
  "kernelspec": {
   "display_name": "SOMap",
   "language": "python",
   "name": "somap"
  },
  "language_info": {
   "codemirror_mode": {
    "name": "ipython",
    "version": 3
   },
   "file_extension": ".py",
   "mimetype": "text/x-python",
   "name": "python",
   "nbconvert_exporter": "python",
   "pygments_lexer": "ipython3",
   "version": "3.10.13"
  }
 },
 "nbformat": 4,
 "nbformat_minor": 5
}
