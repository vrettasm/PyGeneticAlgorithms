{
 "cells": [
  {
   "cell_type": "markdown",
   "id": "b7d34226",
   "metadata": {},
   "source": [
    "#  Rastrigin function optimization (max).\n",
    "---\n",
    "Description:\n",
    "\n",
    "- Optimization (max)\n",
    "- Single-objective\n",
    "- Constraints (no)\n",
    "---\n",
    "\n",
    "The general equation is given by:\n",
    "\n",
    "$f(\\mathbf{x}) = An + \\sum_{i=1}^{n} [x_i^2 - A\\cos(2 \\pi x_i)]$, with  $-5.12 \\le x_i \\le +5.12$, and $A = 10$.\n",
    "\n",
    "According to [Rastrigin function](https://en.wikipedia.org/wiki/Rastrigin_function) for a given number of dimensions $n$ the maximum can be found accordingly.\n",
    "\n",
    "To test here the code we set $n=5$, which gives the maximum of $201.7664509$ at coordinates $x_i \\in [\\pm 4.52299366, ..., \\pm 4.52299366]$."
   ]
  },
  {
   "cell_type": "markdown",
   "id": "f9d45533",
   "metadata": {},
   "source": [
    "### First we import python libraries and set up the directory of our code."
   ]
  },
  {
   "cell_type": "code",
   "execution_count": 3,
   "id": "a7e3adb4",
   "metadata": {},
   "outputs": [],
   "source": [
    "import os, sys\n",
    "import numpy as np\n",
    "from math import fsum\n",
    "\n",
    "PROJECT_DIR = os.path.abspath('..')\n",
    "sys.path.append(PROJECT_DIR)"
   ]
  },
  {
   "cell_type": "markdown",
   "id": "3d46b773",
   "metadata": {},
   "source": [
    "### Here we import all our custom GA code."
   ]
  },
  {
   "cell_type": "code",
   "execution_count": 5,
   "id": "247088c6",
   "metadata": {},
   "outputs": [],
   "source": [
    "# Import main classes.\n",
    "from pygenalgo.genome.gene import Gene\n",
    "from pygenalgo.genome.chromosome import Chromosome\n",
    "from pygenalgo.engines.standard_ga import StandardGA\n",
    "\n",
    "# Import Selection Operator(s).\n",
    "from pygenalgo.operators.selection.linear_rank_selector import LinearRankSelector\n",
    "\n",
    "# Import Crossover Operator(s).\n",
    "from pygenalgo.operators.crossover.meta_crossover import MetaCrossover\n",
    "\n",
    "# Import Mutation Operator(s).\n",
    "from pygenalgo.operators.mutation.meta_mutator import MetaMutator"
   ]
  },
  {
   "cell_type": "markdown",
   "id": "df25a30b",
   "metadata": {},
   "source": [
    "### Define the Rastrigin function, which plays also the role of the 'fitness' function.\n",
    "\n",
    "In addition, we define the '_func' which takes the role of the 'random()' method of the Genes. Every time we\n",
    "want to 'mutate' a gene this function will be called that returns 'valid', but random values for the gene."
   ]
  },
  {
   "cell_type": "code",
   "execution_count": 7,
   "id": "be1afc07",
   "metadata": {},
   "outputs": [],
   "source": [
    "# Rastrigin function.\n",
    "def fun_Rastrigin(individual: Chromosome, f_min: bool = False):\n",
    "    \n",
    "    # Setup the model parameters.\n",
    "    A, n = 10.0, len(individual)\n",
    "    \n",
    "    # Function value.\n",
    "    f_val = A*n + fsum([xi.value**2 - A*np.cos(2.0*np.pi*xi.value) for xi in individual])\n",
    "    \n",
    "    # Return the f_val.\n",
    "    return -f_val if f_min else f_val\n",
    "# _end_def_\n",
    "\n",
    "# Random function ~U(-5.12, +5.12).\n",
    "rand_fx = lambda: np.random.uniform(-5.12, +5.12)"
   ]
  },
  {
   "cell_type": "markdown",
   "id": "1a71a565",
   "metadata": {},
   "source": [
    "Here we set the GA parameters, such as number of genes, number of chromosomes, etc. Note that in this case each\n",
    "gene has the same random() function (set by 'rand_fx'). But if the problem demands otherwise it is easy to set a \n",
    "different random() function for each gene."
   ]
  },
  {
   "cell_type": "code",
   "execution_count": 9,
   "id": "57fb9f33",
   "metadata": {},
   "outputs": [],
   "source": [
    "# Define the number of genes.\n",
    "M = 5\n",
    "\n",
    "# Define the number of chromosomes.\n",
    "N = 100\n",
    "\n",
    "# Initial population.\n",
    "population = [Chromosome([Gene(np.random.uniform(-5.0, +5.0), rand_fx)\n",
    "                          for _ in range(M)], np.nan, True)\n",
    "              for _ in range(N)]\n",
    "\n",
    "# Create the StandardGA object that will carry on the optimization.\n",
    "toy_GA = StandardGA(initial_pop=population,\n",
    "                    fit_func=fun_Rastrigin,\n",
    "                    select_op=LinearRankSelector(),\n",
    "                    mutate_op=MetaMutator(),\n",
    "                    cross_op=MetaCrossover())"
   ]
  },
  {
   "cell_type": "markdown",
   "id": "20983f1f",
   "metadata": {},
   "source": [
    "### Optimization process.\n",
    "\n",
    "Here we call the GA object (either directly, or through the method run()). We set a number of parameter,\n",
    "such as the maximum iterations (i.e. epochs), tolerance for the fitness convergences, etc."
   ]
  },
  {
   "cell_type": "code",
   "execution_count": 11,
   "id": "828f50a3",
   "metadata": {},
   "outputs": [
    {
     "name": "stdout",
     "output_type": "stream",
     "text": [
      "Initial Avg. Fitness = 92.1843.\n",
      "StandardGA finished in 303 iterations.\n",
      "Final   Avg. Fitness = 201.7663.\n",
      "Elapsed time: 3.463 seconds.\n"
     ]
    }
   ],
   "source": [
    "toy_GA(epochs=1000, elitism=True, f_tol=1.0e-6, verbose=False)"
   ]
  },
  {
   "cell_type": "code",
   "execution_count": 12,
   "id": "b04ddaf2",
   "metadata": {},
   "outputs": [
    {
     "name": "stdout",
     "output_type": "stream",
     "text": [
      "Maximum Found: 201.76630\n",
      "\n",
      "x0 =   4.523381\n",
      "x1 =   4.523381\n",
      "x2 =   4.523381\n",
      "x3 =   4.523381\n",
      "x4 =   4.523381\n"
     ]
    }
   ],
   "source": [
    "# Extract the optimal solution from the GA.\n",
    "optimal_solution = toy_GA.best_chromosome()\n",
    "\n",
    "# Display the (final) optimum value.\n",
    "print(f\"Maximum Found: {fun_Rastrigin(optimal_solution, f_min=False):.5f}\\n\")\n",
    "\n",
    "# Display each gene value separately.\n",
    "for i, xi in enumerate(optimal_solution.genome):\n",
    "    print(f\"x{i} = {xi.value:>10.6f}\")\n",
    "# _end_for_\n",
    "\n",
    "# True maximum: 201.7664509."
   ]
  },
  {
   "cell_type": "markdown",
   "id": "6d308028",
   "metadata": {},
   "source": [
    "**Note that the above solution is indeed very close to the absolute maximum!**"
   ]
  },
  {
   "cell_type": "code",
   "execution_count": 14,
   "id": "50fb6ecb",
   "metadata": {},
   "outputs": [
    {
     "name": "stdout",
     "output_type": "stream",
     "text": [
      " LinearRankSelector: (140360396139440)\n",
      " _probability: 1.0\n",
      " _counter: 303\n",
      " _lock: <unlocked _thread.lock object at 0x7fa8338424c0>\n",
      " _items: None\n",
      "\n",
      " MetaCrossover: (140360409583984)\n",
      " _probability: 0.9\n",
      " _counter: 13586\n",
      " _lock: <unlocked _thread.lock object at 0x7fa8334ee640>\n",
      " _items: (UniformCrossover(1.0), MultiPointCrossover(1.0), SinglePointCrossover(1.0))\n",
      "\n",
      " UniformCrossover: (140360405197792)\n",
      " _probability: 1.0\n",
      " _counter: 4582\n",
      " _lock: <unlocked _thread.lock object at 0x7fa8345b7a80>\n",
      " _items: None\n",
      "\n",
      " MultiPointCrossover: (140360395745104)\n",
      " _probability: 1.0\n",
      " _counter: 4470\n",
      " _lock: <unlocked _thread.lock object at 0x7fa8345b7a40>\n",
      " _items: None\n",
      "\n",
      " SinglePointCrossover: (140360406443776)\n",
      " _probability: 1.0\n",
      " _counter: 4534\n",
      " _lock: <unlocked _thread.lock object at 0x7fa8345b7ac0>\n",
      " _items: None\n",
      "\n",
      " MetaMutator: (140360409584144)\n",
      " _probability: 0.1\n",
      " _counter: 3055\n",
      " _lock: <unlocked _thread.lock object at 0x7fa8345b79c0>\n",
      " _items: (SwapMutator(1.0), RandomMutator(1.0), ShuffleMutator(1.0), InverseMutator(1.0))\n",
      "\n",
      " SwapMutator: (140360387635824)\n",
      " _probability: 1.0\n",
      " _counter: 729\n",
      " _lock: <unlocked _thread.lock object at 0x7fa833100cc0>\n",
      " _items: None\n",
      "\n",
      " RandomMutator: (140360409583664)\n",
      " _probability: 1.0\n",
      " _counter: 765\n",
      " _lock: <unlocked _thread.lock object at 0x7fa83459a5c0>\n",
      " _items: None\n",
      "\n",
      " ShuffleMutator: (140360382574528)\n",
      " _probability: 1.0\n",
      " _counter: 771\n",
      " _lock: <unlocked _thread.lock object at 0x7fa8345b7700>\n",
      " _items: None\n",
      "\n",
      " InverseMutator: (140360409585024)\n",
      " _probability: 1.0\n",
      " _counter: 790\n",
      " _lock: <unlocked _thread.lock object at 0x7fa833868740>\n",
      " _items: None\n",
      "\n"
     ]
    }
   ],
   "source": [
    "# If we want we can also print some operator statistics.\n",
    "toy_GA.print_operator_stats()"
   ]
  },
  {
   "cell_type": "markdown",
   "id": "1d59b41c",
   "metadata": {},
   "source": [
    "### End of file"
   ]
  },
  {
   "cell_type": "code",
   "execution_count": null,
   "id": "01019fb4",
   "metadata": {},
   "outputs": [],
   "source": []
  }
 ],
 "metadata": {
  "kernelspec": {
   "display_name": "venv_tf",
   "language": "python",
   "name": "venv_tf"
  },
  "language_info": {
   "codemirror_mode": {
    "name": "ipython",
    "version": 3
   },
   "file_extension": ".py",
   "mimetype": "text/x-python",
   "name": "python",
   "nbconvert_exporter": "python",
   "pygments_lexer": "ipython3",
   "version": "3.10.13"
  }
 },
 "nbformat": 4,
 "nbformat_minor": 5
}
