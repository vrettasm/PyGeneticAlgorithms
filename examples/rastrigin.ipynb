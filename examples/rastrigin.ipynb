{
 "cells": [
  {
   "cell_type": "markdown",
   "metadata": {},
   "source": [
    "#  Rastrigin function optimization (max).\n",
    "---\n",
    "Description:\n",
    "\n",
    "- Optimization (max)\n",
    "- Single-objective\n",
    "- Constraints (no)\n",
    "---\n",
    "\n",
    "The general equation is given by:\n",
    "\n",
    "$f(\\mathbf{x}) = An + \\sum_{i=1}^{n} [x_i^2 - A\\cos(2 \\pi x_i)]$, with  $-5.12 \\le x_i \\le +5.12$, and $A = 10$.\n",
    "\n",
    "According to [Rastrigin function](https://en.wikipedia.org/wiki/Rastrigin_function) for a given number of dimensions $n$ the maximum can be found accordingly.\n",
    "\n",
    "To test here the code we set $n=5$, which gives the maximum of $201.7664509$ at coordinates $x_i \\in [\\pm 4.52299366, ..., \\pm 4.52299366]$."
   ]
  },
  {
   "cell_type": "markdown",
   "metadata": {},
   "source": [
    "### First we import python libraries and set up the directory of our code."
   ]
  },
  {
   "cell_type": "code",
   "execution_count": 1,
   "metadata": {},
   "outputs": [],
   "source": [
    "import os, sys\n",
    "import numpy as np\n",
    "from math import fsum, isclose\n",
    "\n",
    "PROJECT_DIR = os.path.abspath('..')\n",
    "sys.path.append(PROJECT_DIR)"
   ]
  },
  {
   "cell_type": "markdown",
   "metadata": {},
   "source": [
    "### Here we import all our custom GA code."
   ]
  },
  {
   "cell_type": "code",
   "execution_count": 2,
   "metadata": {},
   "outputs": [],
   "source": [
    "# Import main classes.\n",
    "from pygenalgo.genome.gene import Gene\n",
    "from pygenalgo.genome.chromosome import Chromosome\n",
    "from pygenalgo.engines.standard_ga import StandardGA\n",
    "\n",
    "# Import Selection Operator(s).\n",
    "from pygenalgo.operators.selection.linear_rank_selector import LinearRankSelector\n",
    "\n",
    "# Import Crossover Operator(s).\n",
    "from pygenalgo.operators.crossover.meta_crossover import MetaCrossover\n",
    "\n",
    "# Import Mutation Operator(s).\n",
    "from pygenalgo.operators.mutation.meta_mutator import MetaMutator"
   ]
  },
  {
   "cell_type": "markdown",
   "metadata": {},
   "source": [
    "### Define the Rastrigin function, which plays also the role of the 'fitness' function.\n",
    "\n",
    "In addition, we define the 'boundary_x' which takes the role of the 'random()' method of the Genes. Every time we\n",
    "want to 'mutate' a gene this function will be called and assign a 'valid', but random value to the gene."
   ]
  },
  {
   "cell_type": "code",
   "execution_count": 3,
   "metadata": {},
   "outputs": [],
   "source": [
    "# Rastrigin function.\n",
    "def fun_Rastrigin(individual: Chromosome, f_min: bool = False):\n",
    "    \n",
    "    # Setup the model parameters.\n",
    "    A, n = 10.0, len(individual)\n",
    "    \n",
    "    # Function value.\n",
    "    f_val = A*n + fsum([xi.value**2 - A*np.cos(2.0*np.pi*xi.value) for xi in individual])\n",
    "\n",
    "    # Condition for termination.\n",
    "    solution_found = isclose(f_val, 201.7664509, rel_tol=1.0e-6)\n",
    "\n",
    "    # Assign the fitness value (check for minimization).\n",
    "    fit_value = -f_val if f_min else f_val\n",
    "    \n",
    "    # Return the solution tuple.\n",
    "    return fit_value, solution_found\n",
    "# _end_def_\n",
    "\n",
    "# Random boundary function ~U(-5.12, +5.12).\n",
    "boundary_x = lambda: np.random.uniform(-5.12, +5.12)"
   ]
  },
  {
   "cell_type": "markdown",
   "metadata": {},
   "source": [
    "Here we set the GA parameters, such as number of genes, number of chromosomes, etc. Note that in this case each\n",
    "gene has the same random() function (set by 'boundary_x'). But if the problem demands otherwise it is easy to set a \n",
    "different random() function for each gene."
   ]
  },
  {
   "cell_type": "code",
   "execution_count": 4,
   "metadata": {},
   "outputs": [],
   "source": [
    "# Define the number of genes.\n",
    "M = 5\n",
    "\n",
    "# Define the number of chromosomes.\n",
    "N = 100\n",
    "\n",
    "# Initial population.\n",
    "population = [Chromosome([Gene(np.random.uniform(-5.0, +5.0), boundary_x)\n",
    "                          for _ in range(M)], np.nan, True)\n",
    "              for _ in range(N)]\n",
    "\n",
    "# Create the StandardGA object that will carry on the optimization.\n",
    "test_GA = StandardGA(initial_pop=population,\n",
    "                     fit_func=fun_Rastrigin,\n",
    "                     select_op=LinearRankSelector(),\n",
    "                     mutate_op=MetaMutator(),\n",
    "                     crossx_op=MetaCrossover())"
   ]
  },
  {
   "cell_type": "markdown",
   "metadata": {},
   "source": [
    "### Optimization process.\n",
    "\n",
    "Here we call the GA object (either directly, or through the method run()). We set a number of parameter,\n",
    "such as the maximum iterations (i.e. epochs), tolerance for the fitness convergences, etc."
   ]
  },
  {
   "cell_type": "code",
   "execution_count": 5,
   "metadata": {},
   "outputs": [
    {
     "name": "stdout",
     "output_type": "stream",
     "text": [
      "Initial Avg. Fitness = 89.7403.\n",
      "StandardGA finished in 292 iterations.\n",
      "Final   Avg. Fitness = 194.9732.\n",
      "Elapsed time: 7.659 seconds.\n"
     ]
    }
   ],
   "source": [
    "test_GA(epochs=1000, elitism=True, f_tol=1.0e-8, adapt_probs=True, verbose=False)"
   ]
  },
  {
   "cell_type": "code",
   "execution_count": 6,
   "metadata": {},
   "outputs": [
    {
     "name": "stdout",
     "output_type": "stream",
     "text": [
      "Maximum Found: 201.76626\n",
      "\n",
      "x0 =  -4.522460\n",
      "x1 =   4.522623\n",
      "x2 =   4.522623\n",
      "x3 =  -4.522460\n",
      "x4 =   4.522623\n"
     ]
    }
   ],
   "source": [
    "# Extract the optimal solution from the GA.\n",
    "optimal_solution = test_GA.best_chromosome()\n",
    "\n",
    "# Extract the fitness value from the optimal solution.\n",
    "optimal_fit, _ = fun_Rastrigin(optimal_solution, f_min=False)\n",
    "\n",
    "# Display the (final) optimum value.\n",
    "print(f\"Maximum Found: {optimal_fit:.5f}\\n\")\n",
    "\n",
    "# Display each gene value separately.\n",
    "for i, xi in enumerate(optimal_solution.genome):\n",
    "    print(f\"x{i} = {xi.value:>10.6f}\")\n",
    "# _end_for_\n",
    "\n",
    "# True maximum: 201.7664509."
   ]
  },
  {
   "cell_type": "markdown",
   "metadata": {},
   "source": [
    "**Note that the above solution is indeed very close to the absolute maximum!**"
   ]
  },
  {
   "cell_type": "markdown",
   "metadata": {},
   "source": [
    "### End of file"
   ]
  }
 ],
 "metadata": {
  "kernelspec": {
   "display_name": "SOMap",
   "language": "python",
   "name": "somap"
  },
  "language_info": {
   "codemirror_mode": {
    "name": "ipython",
    "version": 3
   },
   "file_extension": ".py",
   "mimetype": "text/x-python",
   "name": "python",
   "nbconvert_exporter": "python",
   "pygments_lexer": "ipython3",
   "version": "3.10.13"
  }
 },
 "nbformat": 4,
 "nbformat_minor": 5
}
