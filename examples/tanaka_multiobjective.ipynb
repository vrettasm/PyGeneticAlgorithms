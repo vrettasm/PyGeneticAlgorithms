{
 "cells": [
  {
   "cell_type": "markdown",
   "id": "db2bd687",
   "metadata": {},
   "source": [
    "# Tanaka function\n",
    "---\n",
    "Description:\n",
    "\n",
    "- Optimization (min)\n",
    "- Multi-objective (2)\n",
    "- Constraints (2)\n",
    "---\n",
    "\n",
    "The equations are given by:\n",
    "\n",
    "\\begin{cases}\n",
    "      f_{1}\\left(\\mathbf{x}\\right) = x, \\text{ needs to maximize} \\\\\n",
    "      f_{2}\\left(\\mathbf{x}\\right) = y, \\text{ needs to minimize} \\\\\n",
    "\\end{cases}\n",
    "\n",
    "subject to:\n",
    "\n",
    "\\begin{cases}\n",
    "      C_{1}\\left(\\mathbf{x}\\right) = x^{2} + y^{2} - 1 - 0.1\\cos\\left(16 \\arctan(x/y) \\right) \\geq 0, \\\\\n",
    "      C_{2}\\left(\\mathbf{x}\\right) = \\left(x - 0.5\\right)^{2} + \\left(y - 0.5\\right)^{2} \\leq 0.5 \\\\\n",
    "\\end{cases}\n",
    "\n",
    "where:\n",
    "\n",
    "\\begin{cases}\n",
    "      0\\le x \\le \\pi, \\\\\n",
    "      0\\le y \\le \\pi. \\\\\n",
    "\\end{cases}\n",
    "\n",
    "The constrained Pareto-optimal solutions lie on the boundary of the first constraint. Since the constraint function is periodic and the second constraint function must also be satisfied, not all solutions on the boundary of the first constraint are Pareto-optimal. "
   ]
  },
  {
   "cell_type": "markdown",
   "id": "f90c8f08",
   "metadata": {},
   "source": [
    "### First we import python libraries and set up the directory of our code."
   ]
  },
  {
   "cell_type": "code",
   "execution_count": 9,
   "id": "d6602481",
   "metadata": {},
   "outputs": [],
   "source": [
    "import os, sys\n",
    "import numpy as np\n",
    "from math import fsum, isclose\n",
    "from matplotlib import pyplot as plt\n",
    "\n",
    "PROJECT_DIR = os.path.abspath('..')\n",
    "sys.path.append(PROJECT_DIR)"
   ]
  },
  {
   "cell_type": "markdown",
   "id": "9e54eaaf",
   "metadata": {},
   "source": [
    "### Here we import all our custom GA code."
   ]
  },
  {
   "cell_type": "code",
   "execution_count": 2,
   "id": "23610971",
   "metadata": {},
   "outputs": [],
   "source": [
    "# Import main classes.\n",
    "from pygenalgo.genome.gene import Gene\n",
    "from pygenalgo.genome.chromosome import Chromosome\n",
    "from pygenalgo.engines.standard_ga import StandardGA\n",
    "\n",
    "# Import Selection Operator(s).\n",
    "from pygenalgo.operators.selection.linear_rank_selector import LinearRankSelector\n",
    "\n",
    "# Import Crossover Operator(s).\n",
    "from pygenalgo.operators.crossover.uniform_crossover import UniformCrossover\n",
    "\n",
    "# Import Mutation Operator(s).\n",
    "from pygenalgo.operators.mutation.random_mutator import RandomMutator"
   ]
  },
  {
   "cell_type": "markdown",
   "id": "483c9114",
   "metadata": {},
   "source": [
    "### Define the multi-objective function, which plays also the role of the 'fitness' function.\n",
    "\n",
    "In addition, we define the 'rand_fx' which takes the role of the 'random()' method of the Genes. Every \n",
    "time we want to 'mutate' a gene this function will be called that returns 'valid', but random values for \n",
    "the gene."
   ]
  },
  {
   "cell_type": "code",
   "execution_count": 3,
   "id": "d387d2ef",
   "metadata": {},
   "outputs": [],
   "source": [
    "# Multi-objective function.\n",
    "def fun_Tanaka(individual: Chromosome, f_min: bool = True):\n",
    "    \n",
    "    # Set the penalty coefficient.\n",
    "    rho = 15.0\n",
    "    \n",
    "    # Extract genes from the chromosome.\n",
    "    x, y = [gene.value for gene in individual.genome]\n",
    "    \n",
    "    # Compute each objective function.\n",
    "    f1, f2 = x, y\n",
    "    \n",
    "    # Avoid \"division by zero\" errors.\n",
    "    if y == 0.0:\n",
    "        y += 1.0e-6\n",
    "    # _end_if_\n",
    "    \n",
    "    # Compute the constraints.\n",
    "    C1 = min(0.0, x**2 + y**2 - 1.0 - 0.1*np.cos(16.0 * np.arctan(x/y)))**2\n",
    "    C2 = max(0.0, (x - 0.5)**2 + (y - 0.5)**2 - 0.5)**2\n",
    "    \n",
    "    # Compute the final value.\n",
    "    f_val = fsum([0.5*f1, -0.5*f2, rho*(C1 + C2)])\n",
    "\n",
    "    # Condition for termination.\n",
    "    solution_found = False\n",
    "\n",
    "    # Assign the fitness value (check for minimization).\n",
    "    fit_value = -f_val if f_min else f_val\n",
    "    \n",
    "    # Return the solution tuple.\n",
    "    return fit_value, solution_found\n",
    "# _end_def_\n",
    "\n",
    "# Random functions:\n",
    "rand_fx = lambda: np.random.uniform(0.0, np.pi)\n",
    "rand_fy = lambda: np.random.uniform(0.0, np.pi)"
   ]
  },
  {
   "cell_type": "markdown",
   "id": "25d34d7a",
   "metadata": {},
   "source": [
    "Here we set the GA parameters, such as number of genes, number of chromosomes, etc."
   ]
  },
  {
   "cell_type": "code",
   "execution_count": 4,
   "id": "7dc4360b",
   "metadata": {},
   "outputs": [],
   "source": [
    "# Define the number of chromosomes.\n",
    "N = 100\n",
    "\n",
    "# Initial population.\n",
    "population = [Chromosome([Gene(np.random.uniform(0.0, np.pi), rand_fx),\n",
    "                          Gene(np.random.uniform(0.0, np.pi), rand_fy)], np.nan, True)\n",
    "              for _ in range(N)]\n",
    "\n",
    "# Create the StandardGA object that will carry on the optimization.\n",
    "test_GA = StandardGA(initial_pop=population,\n",
    "                     fit_func=fun_Tanaka,\n",
    "                     select_op=LinearRankSelector(),\n",
    "                     mutate_op=RandomMutator(),\n",
    "                     crossx_op=UniformCrossover())"
   ]
  },
  {
   "cell_type": "markdown",
   "id": "6bde5272",
   "metadata": {},
   "source": [
    "### Optimization process.\n",
    "\n",
    "Here we call the GA object (either directly, or through the method run()). We set a number of parameter, such as the maximum iterations (i.e. epochs), tolerance for the fitness convergences, etc."
   ]
  },
  {
   "cell_type": "code",
   "execution_count": 5,
   "id": "e3fc9b64",
   "metadata": {},
   "outputs": [
    {
     "name": "stdout",
     "output_type": "stream",
     "text": [
      "Initial Avg. Fitness = -291.0044.\n",
      "Final   Avg. Fitness = -15.8329.\n",
      "Elapsed time: 9.953 seconds.\n"
     ]
    }
   ],
   "source": [
    "test_GA(epochs=1000, elitism=True, f_tol=1.0e-6, adapt_probs=True)"
   ]
  },
  {
   "cell_type": "code",
   "execution_count": 6,
   "id": "9d1be96c",
   "metadata": {},
   "outputs": [
    {
     "name": "stdout",
     "output_type": "stream",
     "text": [
      "x1=0.03772, x2=1.05490\n",
      "\n",
      "f1(x1, x2) = 0.03772\n",
      "f2(x1, x2) = 1.05490\n"
     ]
    }
   ],
   "source": [
    "x, y = [gene.value for gene in test_GA.best_chromosome().genome]\n",
    "\n",
    "f1_opt, f2_opt = x, y\n",
    "\n",
    "print(f\"x1={x:.5f}, x2={y:.5f}\", end='\\n\\n')\n",
    "print(f\"f1(x1, x2) = {f1_opt:.5f}\")\n",
    "print(f\"f2(x1, x2) = {f2_opt:.5f}\")"
   ]
  },
  {
   "cell_type": "markdown",
   "id": "60701599",
   "metadata": {},
   "source": [
    "### Compute the Pareto Frontier (solutions)."
   ]
  },
  {
   "cell_type": "code",
   "execution_count": 7,
   "id": "319876ff",
   "metadata": {},
   "outputs": [],
   "source": [
    "# Create a list that will hold points that satisfy both constraints.\n",
    "points = []\n",
    "\n",
    "# Generate grid sample on [0, pi].\n",
    "for x in np.linspace(0.0, np.pi, 100):\n",
    "    \n",
    "    for y in np.linspace(0.0, np.pi, 100):\n",
    "        \n",
    "        # Avoid \"division by zero\" errors.\n",
    "        if y == 0.0:\n",
    "            y += np.finfo(float).eps\n",
    "        # _end_if_\n",
    "\n",
    "        # Compute the constraints.\n",
    "        C1 = x**2 + y**2 - 1.0 - 0.1*np.cos(16.0 * np.arctan(x/y)) >= 0.0\n",
    "        C2 = (x - 0.5)**2 + (y - 0.5)**2 <= 0.5\n",
    "\n",
    "        # If both constraints are satisfied.\n",
    "        if C1 and C2:\n",
    "\n",
    "            # Evaluate both functions.\n",
    "            f1, f2 = x, y\n",
    "\n",
    "            # Keep the point in the list.\n",
    "            points.append([f1, f2])\n",
    "        # _end_if_\n",
    "    # _end_if_\n",
    "# _end_for_\n",
    "\n",
    "# Convert list to numpy.\n",
    "points = np.array(points)\n",
    "\n",
    "# Create a list that will hold ONLY the Pareto front points.\n",
    "pareto_points = []\n",
    "\n",
    "# Iterate through every point in the list.\n",
    "for i, (f1, f2) in enumerate(points):\n",
    "\n",
    "    # Initially we set the pareto optimal flag to True.\n",
    "    pareto_optimal = True\n",
    "\n",
    "    # Compare against every other point.\n",
    "    for j, (fx, fy) in enumerate(points):\n",
    "\n",
    "        # Check if this condition is satisfied.\n",
    "        if i != j and fx < f1 and fy < f2:\n",
    "            # We swap the flag value.\n",
    "            pareto_optimal = False\n",
    "            \n",
    "            # We break the internal loop and\n",
    "            # continue to the next point.\n",
    "            break\n",
    "        # _end_if_\n",
    "    \n",
    "    # _end_for_\n",
    "\n",
    "    # If we get here and the flag hasn't changed\n",
    "    # it means the point is on the frontier.\n",
    "    if pareto_optimal:\n",
    "        pareto_points.append([f1, f2])\n",
    "# _end_for_\n",
    "\n",
    "# Convert list to numpy.\n",
    "pareto_points = np.array(pareto_points)"
   ]
  },
  {
   "cell_type": "markdown",
   "id": "8ea2b26e",
   "metadata": {},
   "source": [
    "### Visualize the solution on the Pareto plot."
   ]
  },
  {
   "cell_type": "code",
   "execution_count": 8,
   "id": "a59ef5aa",
   "metadata": {},
   "outputs": [
    {
     "data": {
      "image/png": "[encoded data removed]",
      "text/plain": [
       "<Figure size 1000x600 with 1 Axes>"
      ]
     },
     "metadata": {},
     "output_type": "display_data"
    }
   ],
   "source": [
    "# Create a new figure.\n",
    "plt.figure(figsize=(10, 6))\n",
    "\n",
    "# Plot the Pareto front.\n",
    "plt.plot(pareto_points[:, 0],\n",
    "         pareto_points[:, 1],\n",
    "         'ro', alpha=0.5, label=\"Pareto Frontier\")\n",
    "\n",
    "# Plot all the feasible solutions.\n",
    "plt.scatter(x=points[:, 0],\n",
    "            y=points[:, 1],\n",
    "            s=5, marker='o', label=\"Feasible Solutions\")\n",
    "\n",
    "# Plot the optimal solution from the GA.\n",
    "plt.plot(f1_opt, f2_opt,\n",
    "         'k*', markersize=10, alpha=0.8, label=\"PyGenAlgo optimal\")\n",
    "\n",
    "# Tidy up the plot.\n",
    "plt.title(\"Tanaka\")\n",
    "plt.xlabel(r\"$\\mathbf{f1(x,y)}$\")\n",
    "plt.ylabel(r\"$\\mathbf{f2(x,y)}$\")\n",
    "plt.legend()\n",
    "plt.grid(True)\n",
    "\n",
    "plt.savefig(\"Tanaka_optimal.pdf\", format=\"pdf\", dpi=300)"
   ]
  },
  {
   "cell_type": "markdown",
   "id": "cd476dbe",
   "metadata": {},
   "source": [
    "### End of file"
   ]
  },
  {
   "cell_type": "code",
   "execution_count": null,
   "id": "25bc9adb",
   "metadata": {},
   "outputs": [],
   "source": []
  }
 ],
 "metadata": {
  "kernelspec": {
   "display_name": "Python 3 (ipykernel)",
   "language": "python",
   "name": "python3"
  },
  "language_info": {
   "codemirror_mode": {
    "name": "ipython",
    "version": 3
   },
   "file_extension": ".py",
   "mimetype": "text/x-python",
   "name": "python",
   "nbconvert_exporter": "python",
   "pygments_lexer": "ipython3",
   "version": "3.10.13"
  }
 },
 "nbformat": 4,
 "nbformat_minor": 5
}
