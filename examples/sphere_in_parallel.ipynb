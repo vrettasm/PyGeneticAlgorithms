{
 "cells": [
  {
   "cell_type": "markdown",
   "id": "df25a30b",
   "metadata": {},
   "source": [
    "# Sphere function optimization (using the Island Model).\n",
    "\n",
    "The general equation is given by:\n",
    "\n",
    "$f(\\mathbf{x}) = \\sum_{i=1}^{M} x^2_i$,  with  $-\\infty \\le x_i \\le +\\infty$,\n",
    "and global minimum found at: $f(x_1, x_2, ..., x_M) = f(0, 0, ..., 0) = 0$."
   ]
  },
  {
   "cell_type": "markdown",
   "id": "bb448d0a",
   "metadata": {},
   "source": [
    "### First we import python libraries and set up the directory of our code."
   ]
  },
  {
   "cell_type": "code",
   "execution_count": 3,
   "id": "a7e3adb4",
   "metadata": {},
   "outputs": [],
   "source": [
    "import os, sys\n",
    "import numpy as np\n",
    "from math import fsum\n",
    "import matplotlib.pyplot as plt\n",
    "\n",
    "PROJECT_DIR = os.path.abspath('..')\n",
    "sys.path.append(PROJECT_DIR)"
   ]
  },
  {
   "cell_type": "markdown",
   "id": "cbab465f",
   "metadata": {},
   "source": [
    "### Here we import all our custom GA code."
   ]
  },
  {
   "cell_type": "code",
   "execution_count": 5,
   "id": "247088c6",
   "metadata": {},
   "outputs": [],
   "source": [
    "# Import main classes.\n",
    "from pygenalgo.genome.gene import Gene\n",
    "from pygenalgo.genome.chromosome import Chromosome\n",
    "from pygenalgo.engines.island_model_ga import IslandModelGA\n",
    "\n",
    "# Import Selection Operator(s).\n",
    "from pygenalgo.operators.selection.linear_rank_selector import LinearRankSelector\n",
    "\n",
    "# Import Crossover Operator(s).\n",
    "from pygenalgo.operators.crossover.uniform_crossover import UniformCrossover\n",
    "\n",
    "# Import Mutation Operator(s).\n",
    "from pygenalgo.operators.mutation.random_mutator import RandomMutator\n",
    "\n",
    "# Import Migration Operator(s).\n",
    "from pygenalgo.operators.migration.clockwise_migration import ClockwiseMigration"
   ]
  },
  {
   "cell_type": "markdown",
   "id": "e91fb6e2",
   "metadata": {},
   "source": [
    "### Define the sphere function, which plays also the role of the 'fitness' function.\n",
    "\n",
    "In addition, we define the '_func' which takes the role of the 'random()' method of the Genes. Every time we\n",
    "want to 'mutate' a gene this function will be called that returns 'valid', but random values for the gene."
   ]
  },
  {
   "cell_type": "code",
   "execution_count": 7,
   "id": "be1afc07",
   "metadata": {},
   "outputs": [],
   "source": [
    "# Sphere function.\n",
    "def fun_Sphere(individual: Chromosome, f_min: bool = True):\n",
    "    \n",
    "    # Compute the shpere function.\n",
    "    f_val = fsum([xi.datum**2 for xi in individual])\n",
    "    \n",
    "    # Return the negative (to account for minimization).\n",
    "    return -f_val if f_min else f_val\n",
    "# _end_def_\n",
    "\n",
    "# Random function ~N(0,1).\n",
    "# Since 'xi' are allowed to take any real value in [-inf, +inf], by setting this\n",
    "# to the Normal(0, 1) essentially we can get both negative and positive values.\n",
    "_func = lambda: np.random.normal()"
   ]
  },
  {
   "cell_type": "markdown",
   "id": "5304ee70",
   "metadata": {},
   "source": [
    "Here we set the GA parameters, such as number of genes, number of chromosomes, etc. Note that in this case each\n",
    "gene has the same random() function (set by '_func'). But if the problem demands otherwise it is easy to set a \n",
    "different random() function for each gene."
   ]
  },
  {
   "cell_type": "code",
   "execution_count": 9,
   "id": "57fb9f33",
   "metadata": {},
   "outputs": [],
   "source": [
    "# Define the number of genes.\n",
    "# In this problem the number of genes can be any positive integer [1, M]\n",
    "M = 10\n",
    "\n",
    "# Define the number of chromosomes.\n",
    "N = 400\n",
    "\n",
    "# Initial population.\n",
    "# It is important to note that the initial population is randomly generated with valid values.\n",
    "population = [Chromosome([Gene(np.random.uniform(-10.0, +10.0), _func) for j in range(M)], np.nan, True)\n",
    "              for i in range(N)]\n",
    "\n",
    "# Create the IslandModelGA object that will carry on the optimization.\n",
    "toy_GA = IslandModelGA(initial_pop=population,\n",
    "                       fit_func=fun_Sphere,\n",
    "                       num_islands=5,\n",
    "                       select_op=LinearRankSelector(),\n",
    "                       mutate_op=RandomMutator(),\n",
    "                       cross_op=UniformCrossover(),\n",
    "                       migrate_op=ClockwiseMigration())"
   ]
  },
  {
   "cell_type": "markdown",
   "id": "517084eb",
   "metadata": {},
   "source": [
    "### Optimization process.\n",
    "\n",
    "Here we call the GA object (either directly, or through the method run()). We set a number of parameter, such as the maximum iterations (i.e. epochs), tolerance for the fitness convergences, etc."
   ]
  },
  {
   "cell_type": "code",
   "execution_count": 11,
   "id": "828f50a3",
   "metadata": {
    "scrolled": true
   },
   "outputs": [
    {
     "name": "stdout",
     "output_type": "stream",
     "text": [
      "\n",
      "Current period 1 / 10:\n",
      "\n",
      "Best Fitness in island 0 is:= -0.00081\n",
      "Best Fitness in island 1 is:= -0.00228\n",
      "Best Fitness in island 2 is:= -0.00056\n",
      "Best Fitness in island 3 is:= -0.00276\n",
      "Best Fitness in island 4 is:= -0.00086\n",
      "\n",
      "Current period 2 / 10:\n",
      "\n",
      "Best Fitness in island 0 is:= -0.00014\n",
      "Best Fitness in island 1 is:= -0.00022\n",
      "Best Fitness in island 2 is:= -0.00010\n",
      "Best Fitness in island 3 is:= -0.00004\n",
      "Best Fitness in island 4 is:= -0.00025\n",
      "\n",
      "Current period 3 / 10:\n",
      "\n",
      "Best Fitness in island 0 is:= -0.00006\n",
      "Best Fitness in island 1 is:= -0.00004\n",
      "Best Fitness in island 2 is:= -0.00004\n",
      "Best Fitness in island 3 is:= -0.00002\n",
      "Best Fitness in island 4 is:= -0.00002\n",
      "\n",
      "Current period 4 / 10:\n",
      "\n",
      "Best Fitness in island 0 is:= -0.00001\n",
      "Best Fitness in island 1 is:= -0.00003\n",
      "Best Fitness in island 2 is:= -0.00003\n",
      "Best Fitness in island 3 is:= -0.00002\n",
      "Best Fitness in island 4 is:= -0.00001\n",
      "\n",
      "Current period 5 / 10:\n",
      "\n",
      "Best Fitness in island 0 is:= -0.00001\n",
      "Best Fitness in island 1 is:= -0.00001\n",
      "Best Fitness in island 2 is:= -0.00001\n",
      "Best Fitness in island 3 is:= -0.00001\n",
      "Best Fitness in island 4 is:= -0.00001\n",
      "\n",
      "Current period 6 / 10:\n",
      "\n",
      "Best Fitness in island 0 is:= -0.00001\n",
      "Best Fitness in island 1 is:= -0.00000\n",
      "Best Fitness in island 2 is:= -0.00000\n",
      "Best Fitness in island 3 is:= -0.00001\n",
      "Best Fitness in island 4 is:= -0.00001\n",
      "\n",
      "Current period 7 / 10:\n",
      "\n",
      "Best Fitness in island 0 is:= -0.00000\n",
      "Best Fitness in island 1 is:= -0.00000\n",
      "Best Fitness in island 2 is:= -0.00000\n",
      "Best Fitness in island 3 is:= -0.00001\n",
      "Best Fitness in island 4 is:= -0.00001\n",
      "\n",
      "Current period 8 / 10:\n",
      "\n",
      "Best Fitness in island 0 is:= -0.00000\n",
      "Best Fitness in island 1 is:= -0.00000\n",
      "Best Fitness in island 2 is:= -0.00000\n",
      "Best Fitness in island 3 is:= -0.00000\n",
      "Best Fitness in island 4 is:= -0.00001\n",
      "\n",
      "Current period 9 / 10:\n",
      "\n",
      "Best Fitness in island 0 is:= -0.00000\n",
      "Best Fitness in island 1 is:= -0.00000\n",
      "Best Fitness in island 2 is:= -0.00000\n",
      "Best Fitness in island 3 is:= -0.00000\n",
      "Best Fitness in island 4 is:= -0.00000\n",
      "\n",
      "Current period 10 / 10:\n",
      "\n",
      "Best Fitness in island 0 is:= -0.00000\n",
      "Best Fitness in island 1 is:= -0.00000\n",
      "Best Fitness in island 2 is:= -0.00000\n",
      "Best Fitness in island 3 is:= -0.00000\n",
      "Best Fitness in island 4 is:= -0.00000\n",
      "Final Avg. Fitness = -0.1172, Spread = 0.5968\n",
      "Elapsed time: 73.910 seconds.\n"
     ]
    }
   ],
   "source": [
    "toy_GA(epochs=2500, elitism=True, f_tol=1.0e-6, allow_migration=True, n_periods=10, verbose=True)"
   ]
  },
  {
   "cell_type": "code",
   "execution_count": 12,
   "id": "b04ddaf2",
   "metadata": {},
   "outputs": [
    {
     "name": "stdout",
     "output_type": "stream",
     "text": [
      "Minimum Found: 0.00000\n",
      "\n",
      "x0 =  -0.000139\n",
      "x1 =  -0.000150\n",
      "x2 =   0.000018\n",
      "x3 =  -0.000130\n",
      "x4 =   0.000004\n",
      "x5 =  -0.000305\n",
      "x6 =  -0.000065\n",
      "x7 =   0.000069\n",
      "x8 =   0.000179\n",
      "x9 =   0.000009\n"
     ]
    }
   ],
   "source": [
    "# Extract the optimal solution from the GA.\n",
    "optimal_solution = toy_GA.best_chromosome()\n",
    "\n",
    "# Display the (final) optimal value.\n",
    "print(f\"Minimum Found: {fun_Sphere(optimal_solution, f_min=False):.5f}\\n\")\n",
    "\n",
    "# Display each gene value separately.\n",
    "for i, xi in enumerate(optimal_solution.genome):\n",
    "    print(f\"x{i} = {xi.datum:>10.6f}\")\n",
    "# _end_for_\n",
    "\n",
    "# True minimum: f(0.0, 0.0, ..., 0.0) = 0.0"
   ]
  },
  {
   "cell_type": "markdown",
   "id": "c73558d0",
   "metadata": {},
   "source": [
    "### End of file"
   ]
  },
  {
   "cell_type": "code",
   "execution_count": null,
   "id": "2ea86fc1-f265-4523-8200-ff14d6ff837f",
   "metadata": {},
   "outputs": [],
   "source": []
  }
 ],
 "metadata": {
  "kernelspec": {
   "display_name": "venv_tf",
   "language": "python",
   "name": "venv_tf"
  },
  "language_info": {
   "codemirror_mode": {
    "name": "ipython",
    "version": 3
   },
   "file_extension": ".py",
   "mimetype": "text/x-python",
   "name": "python",
   "nbconvert_exporter": "python",
   "pygments_lexer": "ipython3",
   "version": "3.10.13"
  }
 },
 "nbformat": 4,
 "nbformat_minor": 5
}
