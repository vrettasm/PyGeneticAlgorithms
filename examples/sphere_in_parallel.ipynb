{
 "cells": [
  {
   "cell_type": "markdown",
   "id": "624dee38",
   "metadata": {},
   "source": [
    "# Sphere function\n",
    "---\n",
    "Description:\n",
    "\n",
    "- Optimization (min)\n",
    "- Single-objective\n",
    "- Constraints (no)\n",
    "---\n",
    "\n",
    "The general equation is given by:\n",
    "\n",
    "- $f(\\mathbf{x}) = \\sum_{i=1}^{M} x^2_i$, with  $-\\infty \\le x_i \\le +\\infty$,\n",
    "\n",
    "and global minimum found at:\n",
    "\n",
    "- $f(x_1, x_2, ..., x_M) = f(0, 0, ..., 0) = 0$."
   ]
  },
  {
   "cell_type": "markdown",
   "id": "92cc0fa1",
   "metadata": {},
   "source": [
    "### First we import python libraries and set up the directory of our code."
   ]
  },
  {
   "cell_type": "code",
   "execution_count": 1,
   "id": "bd22aff7",
   "metadata": {},
   "outputs": [],
   "source": [
    "import os, sys\n",
    "import numpy as np\n",
    "from math import fsum, isclose\n",
    "from joblib import wrap_non_picklable_objects\n",
    "\n",
    "PROJECT_DIR = os.path.abspath('..')\n",
    "sys.path.append(PROJECT_DIR)"
   ]
  },
  {
   "cell_type": "markdown",
   "id": "e0175208",
   "metadata": {},
   "source": [
    "### Here we import all our custom GA code."
   ]
  },
  {
   "cell_type": "code",
   "execution_count": 2,
   "id": "a8e4b605",
   "metadata": {},
   "outputs": [],
   "source": [
    "# Import main classes.\n",
    "from pygenalgo.genome.gene import Gene\n",
    "from pygenalgo.genome.chromosome import Chromosome\n",
    "from pygenalgo.engines.island_model_ga import IslandModelGA\n",
    "\n",
    "# Import Selection Operator(s).\n",
    "from pygenalgo.operators.selection.linear_rank_selector import LinearRankSelector\n",
    "\n",
    "# Import Crossover Operator(s).\n",
    "from pygenalgo.operators.crossover.meta_crossover import MetaCrossover\n",
    "\n",
    "# Import Mutation Operator(s).\n",
    "from pygenalgo.operators.mutation.meta_mutator import MetaMutator\n",
    "\n",
    "# Import Migration Operator(s).\n",
    "from pygenalgo.operators.migration.clockwise_migration import ClockwiseMigration"
   ]
  },
  {
   "cell_type": "markdown",
   "id": "5136f3c4",
   "metadata": {},
   "source": [
    "### Define the sphere function, which plays also the role of the 'fitness' function.\n",
    "\n",
    "In addition, we define the 'rand_fx' which takes the role of the 'random()' method of the Genes. Every time we\n",
    "want to 'mutate' a gene this function will be called that returns 'valid', but random values for the gene."
   ]
  },
  {
   "cell_type": "code",
   "execution_count": 3,
   "id": "7cdb6eef",
   "metadata": {},
   "outputs": [],
   "source": [
    "# Sphere function.\n",
    "@wrap_non_picklable_objects\n",
    "def fun_Sphere(individual: Chromosome, f_min: bool = True):\n",
    "    \n",
    "    # Compute the shpere function.\n",
    "    f_val = fsum([xi.value**2 for xi in individual])\n",
    "\n",
    "    # Condition for termination.\n",
    "    solution_found = isclose(f_val, 0.0, rel_tol=1.0e-8)\n",
    "\n",
    "    # Assign the fitness value (check for minimization).\n",
    "    fit_value = -f_val if f_min else f_val\n",
    "    \n",
    "    # Return the solution tuple.\n",
    "    return fit_value, solution_found\n",
    "# _end_def_\n",
    "\n",
    "# Random function: ~N(0,1).\n",
    "# Since 'xi' are allowed to take any real value in [-inf, +inf], by setting this\n",
    "# to the Normal(0, 1) essentially we can get both negative and positive values.\n",
    "boundary_x = lambda: np.random.normal()"
   ]
  },
  {
   "cell_type": "markdown",
   "id": "6c27bb6d",
   "metadata": {},
   "source": [
    "Here we set the GA parameters, such as number of genes, number of chromosomes, etc. Note that in this case each\n",
    "gene has the same random() function (set by 'boundary_x'). But if the problem demands otherwise it is easy to set a \n",
    "different random() function for each gene."
   ]
  },
  {
   "cell_type": "code",
   "execution_count": 4,
   "id": "90ef055d",
   "metadata": {},
   "outputs": [],
   "source": [
    "# Define the number of genes.\n",
    "M = 10\n",
    "\n",
    "# Define the number of chromosomes.\n",
    "N = 400\n",
    "\n",
    "# Draw random samples for the initial points.\n",
    "x_init = np.random.uniform(-10.0, +10.0, size=(N, M))\n",
    "\n",
    "# Initial population.\n",
    "population = [Chromosome([Gene(x_init[i, j], boundary_x)\n",
    "                          for j in range(M)], np.nan, True)\n",
    "              for i in range(N)]\n",
    "\n",
    "# Create the IslandModelGA object that will carry on the optimization.\n",
    "test_GA = IslandModelGA(initial_pop=population,\n",
    "                        fit_func=fun_Sphere, num_islands=4,\n",
    "                        select_op=LinearRankSelector(),\n",
    "                        mutate_op=MetaMutator(0.25),\n",
    "                        crossx_op=MetaCrossover(),\n",
    "                        migrate_op=ClockwiseMigration())"
   ]
  },
  {
   "cell_type": "markdown",
   "id": "d54a657b",
   "metadata": {},
   "source": [
    "### Optimization process.\n",
    "\n",
    "Here we call the GA object (either directly, or through the method run()). We set a number of parameter, such as the maximum iterations (i.e. epochs), tolerance for the fitness convergences, etc."
   ]
  },
  {
   "cell_type": "code",
   "execution_count": 5,
   "id": "37a8c81f",
   "metadata": {
    "scrolled": true
   },
   "outputs": [
    {
     "name": "stdout",
     "output_type": "stream",
     "text": [
      "Parallel evolution in progress with 4 islands ...\n",
      "\n",
      "Current period 1 / 10:\n",
      "\n",
      "Best Fitness in island 0 is:= -0.04339.\n",
      "Best Fitness in island 1 is:= -0.10055.\n",
      "Best Fitness in island 2 is:= -0.05241.\n",
      "Best Fitness in island 3 is:= -0.07127.\n",
      "\n",
      "Current period 2 / 10:\n",
      "\n",
      "Best Fitness in island 0 is:= -0.00100.\n",
      "Best Fitness in island 1 is:= -0.00553.\n",
      "Best Fitness in island 2 is:= -0.00043.\n",
      "Best Fitness in island 3 is:= -0.00051.\n",
      "\n",
      "Current period 3 / 10:\n",
      "\n",
      "Best Fitness in island 0 is:= -0.00032.\n",
      "Best Fitness in island 1 is:= -0.00028.\n",
      "Best Fitness in island 2 is:= -0.00011.\n",
      "Best Fitness in island 3 is:= -0.00011.\n",
      "\n",
      "Current period 4 / 10:\n",
      "\n",
      "Best Fitness in island 0 is:= -0.00002.\n",
      "Best Fitness in island 1 is:= -0.00007.\n",
      "Best Fitness in island 2 is:= -0.00011.\n",
      "Best Fitness in island 3 is:= -0.00011.\n",
      "\n",
      "Current period 5 / 10:\n",
      "\n",
      "Best Fitness in island 0 is:= -0.00001.\n",
      "Best Fitness in island 1 is:= -0.00002.\n",
      "Best Fitness in island 2 is:= -0.00001.\n",
      "Best Fitness in island 3 is:= -0.00011.\n",
      "\n",
      "Current period 6 / 10:\n",
      "\n",
      "Best Fitness in island 0 is:= -0.00001.\n",
      "Best Fitness in island 1 is:= -0.00001.\n",
      "Best Fitness in island 2 is:= -0.00001.\n",
      "Best Fitness in island 3 is:= -0.00001.\n",
      "\n",
      "Current period 7 / 10:\n",
      "\n",
      "Best Fitness in island 0 is:= -0.00001.\n",
      "Best Fitness in island 1 is:= -0.00001.\n",
      "Best Fitness in island 2 is:= -0.00001.\n",
      "Best Fitness in island 3 is:= -0.00001.\n",
      "\n",
      "Current period 8 / 10:\n",
      "\n",
      "Best Fitness in island 0 is:= -0.00001.\n",
      "Best Fitness in island 1 is:= -0.00001.\n",
      "Best Fitness in island 2 is:= -0.00001.\n",
      "Best Fitness in island 3 is:= -0.00001.\n",
      "\n",
      "Current period 9 / 10:\n",
      "\n",
      "Best Fitness in island 0 is:= -0.00001.\n",
      "Best Fitness in island 1 is:= -0.00001.\n",
      "Best Fitness in island 2 is:= -0.00001.\n",
      "Best Fitness in island 3 is:= -0.00001.\n",
      "\n",
      "Current period 10 / 10:\n",
      "\n",
      "Best Fitness in island 0 is:= -0.00001.\n",
      "Best Fitness in island 1 is:= -0.00001.\n",
      "Best Fitness in island 2 is:= -0.00001.\n",
      "Best Fitness in island 3 is:= -0.00001.\n",
      "Final Avg. Fitness = -0.4628, Spread = 1.0340.\n",
      "Elapsed time: 21.498 seconds.\n"
     ]
    }
   ],
   "source": [
    "test_GA(epochs=500, elitism=True, f_tol=1.0e-16, allow_migration=True, n_periods=10, verbose=True)"
   ]
  },
  {
   "cell_type": "code",
   "execution_count": 6,
   "id": "1cfc7756",
   "metadata": {},
   "outputs": [
    {
     "name": "stdout",
     "output_type": "stream",
     "text": [
      "Minimum Found: 0.00001\n",
      "\n",
      "x0 =  -0.000828\n",
      "x1 =  -0.000828\n",
      "x2 =  -0.000818\n",
      "x3 =  -0.000818\n",
      "x4 =  -0.000818\n",
      "x5 =  -0.000818\n",
      "x6 =  -0.000818\n",
      "x7 =  -0.000828\n",
      "x8 =  -0.000828\n",
      "x9 =  -0.000828\n"
     ]
    }
   ],
   "source": [
    "# Extract the optimal solution from the GA.\n",
    "optimal_solution = test_GA.best_chromosome()\n",
    "\n",
    "# Extract the fitness value from the optimal solution.\n",
    "optimal_fit, _ = fun_Sphere(optimal_solution, f_min=False)\n",
    "\n",
    "# Display the (final) optimal value.\n",
    "print(f\"Minimum Found: {optimal_fit:.5f}\\n\")\n",
    "\n",
    "# Display each gene value separately.\n",
    "for i, xi in enumerate(optimal_solution.genome):\n",
    "    print(f\"x{i} = {xi.value:>10.6f}\")\n",
    "# _end_for_\n",
    "\n",
    "# True minimum: f(0.0, 0.0, ..., 0.0) = 0.0"
   ]
  },
  {
   "cell_type": "markdown",
   "id": "9f291b1a",
   "metadata": {},
   "source": [
    "### End of file"
   ]
  },
  {
   "cell_type": "code",
   "execution_count": null,
   "id": "2645e17a",
   "metadata": {},
   "outputs": [],
   "source": []
  }
 ],
 "metadata": {
  "kernelspec": {
   "display_name": "venv_tf",
   "language": "python",
   "name": "venv_tf"
  },
  "language_info": {
   "codemirror_mode": {
    "name": "ipython",
    "version": 3
   },
   "file_extension": ".py",
   "mimetype": "text/x-python",
   "name": "python",
   "nbconvert_exporter": "python",
   "pygments_lexer": "ipython3",
   "version": "3.10.13"
  }
 },
 "nbformat": 4,
 "nbformat_minor": 5
}
