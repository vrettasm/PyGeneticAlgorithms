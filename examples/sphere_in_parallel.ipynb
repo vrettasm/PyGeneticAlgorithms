{
 "cells": [
  {
   "cell_type": "markdown",
   "id": "df25a30b",
   "metadata": {},
   "source": [
    "# Sphere function\n",
    "---\n",
    "Description:\n",
    "\n",
    "- Optimization (min)\n",
    "- Single-objective\n",
    "- Constraints (no)\n",
    "---\n",
    "\n",
    "The general equation is given by:\n",
    "\n",
    "- $f(\\mathbf{x}) = \\sum_{i=1}^{M} x^2_i$, with  $-\\infty \\le x_i \\le +\\infty$,\n",
    "\n",
    "and global minimum found at:\n",
    "\n",
    "- $f(x_1, x_2, ..., x_M) = f(0, 0, ..., 0) = 0$."
   ]
  },
  {
   "cell_type": "markdown",
   "id": "bb448d0a",
   "metadata": {},
   "source": [
    "### First we import python libraries and set up the directory of our code."
   ]
  },
  {
   "cell_type": "code",
   "execution_count": 1,
   "id": "a7e3adb4",
   "metadata": {},
   "outputs": [],
   "source": [
    "import os, sys\n",
    "import numpy as np\n",
    "from math import fsum, isclose\n",
    "\n",
    "PROJECT_DIR = os.path.abspath('..')\n",
    "sys.path.append(PROJECT_DIR)"
   ]
  },
  {
   "cell_type": "markdown",
   "id": "cbab465f",
   "metadata": {},
   "source": [
    "### Here we import all our custom GA code."
   ]
  },
  {
   "cell_type": "code",
   "execution_count": 2,
   "id": "247088c6",
   "metadata": {},
   "outputs": [],
   "source": [
    "# Import main classes.\n",
    "from pygenalgo.genome.gene import Gene\n",
    "from pygenalgo.genome.chromosome import Chromosome\n",
    "from pygenalgo.engines.island_model_ga import IslandModelGA\n",
    "\n",
    "# Import Selection Operator(s).\n",
    "from pygenalgo.operators.selection.linear_rank_selector import LinearRankSelector\n",
    "\n",
    "# Import Crossover Operator(s).\n",
    "from pygenalgo.operators.crossover.meta_crossover import MetaCrossover\n",
    "\n",
    "# Import Mutation Operator(s).\n",
    "from pygenalgo.operators.mutation.meta_mutator import MetaMutator\n",
    "\n",
    "# Import Migration Operator(s).\n",
    "from pygenalgo.operators.migration.clockwise_migration import ClockwiseMigration"
   ]
  },
  {
   "cell_type": "markdown",
   "id": "e91fb6e2",
   "metadata": {},
   "source": [
    "### Define the sphere function, which plays also the role of the 'fitness' function.\n",
    "\n",
    "In addition, we define the 'rand_fx' which takes the role of the 'random()' method of the Genes. Every time we\n",
    "want to 'mutate' a gene this function will be called that returns 'valid', but random values for the gene."
   ]
  },
  {
   "cell_type": "code",
   "execution_count": 3,
   "id": "be1afc07",
   "metadata": {},
   "outputs": [],
   "source": [
    "# Sphere function.\n",
    "def fun_Sphere(individual: Chromosome, f_min: bool = True):\n",
    "    \n",
    "    # Compute the shpere function.\n",
    "    f_val = fsum([xi.value**2 for xi in individual])\n",
    "\n",
    "    # Condition for termination.\n",
    "    solution_found = isclose(f_val, 0.0, rel_tol=1.0e-4)\n",
    "\n",
    "    # Assign the fitness value (check for minimization).\n",
    "    fit_value = -f_val if f_min else f_val\n",
    "    \n",
    "    # Return the solution tuple.\n",
    "    return fit_value, solution_found\n",
    "# _end_def_\n",
    "\n",
    "# Random function: ~N(0,1).\n",
    "# Since 'xi' are allowed to take any real value in [-inf, +inf], by setting this\n",
    "# to the Normal(0, 1) essentially we can get both negative and positive values.\n",
    "rand_fx = lambda: np.random.normal()"
   ]
  },
  {
   "cell_type": "markdown",
   "id": "5304ee70",
   "metadata": {},
   "source": [
    "Here we set the GA parameters, such as number of genes, number of chromosomes, etc. Note that in this case each\n",
    "gene has the same random() function (set by 'rand_fx'). But if the problem demands otherwise it is easy to set a \n",
    "different random() function for each gene."
   ]
  },
  {
   "cell_type": "code",
   "execution_count": 4,
   "id": "57fb9f33",
   "metadata": {},
   "outputs": [],
   "source": [
    "# Define the number of genes.\n",
    "M = 10\n",
    "\n",
    "# Define the number of chromosomes.\n",
    "N = 400\n",
    "\n",
    "# Initial population.\n",
    "# It is important to note that the initial population is randomly generated with valid values.\n",
    "population = [Chromosome([Gene(np.random.uniform(-10.0, +10.0), rand_fx)\n",
    "                          for _ in range(M)], np.nan, True)\n",
    "              for _ in range(N)]\n",
    "\n",
    "# Create the IslandModelGA object that will carry on the optimization.\n",
    "test_GA = IslandModelGA(initial_pop=population,\n",
    "                        fit_func=fun_Sphere, num_islands=4,\n",
    "                        select_op=LinearRankSelector(),\n",
    "                        mutate_op=MetaMutator(0.25),\n",
    "                        crossx_op=MetaCrossover(),\n",
    "                        migrate_op=ClockwiseMigration())"
   ]
  },
  {
   "cell_type": "markdown",
   "id": "517084eb",
   "metadata": {},
   "source": [
    "### Optimization process.\n",
    "\n",
    "Here we call the GA object (either directly, or through the method run()). We set a number of parameter, such as the maximum iterations (i.e. epochs), tolerance for the fitness convergences, etc."
   ]
  },
  {
   "cell_type": "code",
   "execution_count": 5,
   "id": "828f50a3",
   "metadata": {
    "scrolled": true
   },
   "outputs": [
    {
     "name": "stdout",
     "output_type": "stream",
     "text": [
      "\n",
      "Current period 1 / 10:\n",
      "\n",
      "Best Fitness in island 0 is:= -0.10158.\n",
      "Best Fitness in island 1 is:= -0.11408.\n",
      "Best Fitness in island 2 is:= -0.02689.\n",
      "Best Fitness in island 3 is:= -0.02049.\n",
      "\n",
      "Current period 2 / 10:\n",
      "\n",
      "Best Fitness in island 0 is:= -0.00053.\n",
      "Best Fitness in island 1 is:= -0.00086.\n",
      "Best Fitness in island 2 is:= -0.00063.\n",
      "Best Fitness in island 3 is:= -0.00459.\n",
      "\n",
      "Current period 3 / 10:\n",
      "\n",
      "Best Fitness in island 0 is:= -0.00004.\n",
      "Best Fitness in island 1 is:= -0.00006.\n",
      "Best Fitness in island 2 is:= -0.00038.\n",
      "Best Fitness in island 3 is:= -0.00032.\n",
      "\n",
      "Current period 4 / 10:\n",
      "\n",
      "Best Fitness in island 0 is:= -0.00002.\n",
      "Best Fitness in island 1 is:= -0.00001.\n",
      "Best Fitness in island 2 is:= -0.00021.\n",
      "Best Fitness in island 3 is:= -0.00005.\n",
      "\n",
      "Current period 5 / 10:\n",
      "\n",
      "Best Fitness in island 0 is:= -0.00002.\n",
      "Best Fitness in island 1 is:= -0.00001.\n",
      "Best Fitness in island 2 is:= -0.00001.\n",
      "Best Fitness in island 3 is:= -0.00003.\n",
      "\n",
      "Current period 6 / 10:\n",
      "\n",
      "Best Fitness in island 0 is:= -0.00002.\n",
      "Best Fitness in island 1 is:= -0.00001.\n",
      "Best Fitness in island 2 is:= -0.00001.\n",
      "Best Fitness in island 3 is:= -0.00000.\n",
      "\n",
      "Current period 7 / 10:\n",
      "\n",
      "Best Fitness in island 0 is:= -0.00000.\n",
      "Best Fitness in island 1 is:= -0.00001.\n",
      "Best Fitness in island 2 is:= -0.00001.\n",
      "Best Fitness in island 3 is:= -0.00000.\n",
      "\n",
      "Current period 8 / 10:\n",
      "\n",
      "Best Fitness in island 0 is:= -0.00000.\n",
      "Best Fitness in island 1 is:= -0.00000.\n",
      "Best Fitness in island 2 is:= -0.00000.\n",
      "Best Fitness in island 3 is:= -0.00000.\n",
      "\n",
      "Current period 9 / 10:\n",
      "\n",
      "Best Fitness in island 0 is:= -0.00000.\n",
      "Best Fitness in island 1 is:= -0.00000.\n",
      "Best Fitness in island 2 is:= -0.00000.\n",
      "Best Fitness in island 3 is:= -0.00000.\n",
      "\n",
      "Current period 10 / 10:\n",
      "\n",
      "Best Fitness in island 0 is:= -0.00000.\n",
      "Best Fitness in island 1 is:= -0.00000.\n",
      "Best Fitness in island 2 is:= -0.00000.\n",
      "Best Fitness in island 3 is:= -0.00000.\n",
      "Final Avg. Fitness = -0.3671, Spread = 1.0071.\n",
      "Elapsed time: 7.169 seconds.\n"
     ]
    }
   ],
   "source": [
    "test_GA(epochs=500, elitism=True, f_tol=1.0e-16, allow_migration=True, n_periods=10, verbose=True)"
   ]
  },
  {
   "cell_type": "code",
   "execution_count": 6,
   "id": "b04ddaf2",
   "metadata": {},
   "outputs": [
    {
     "name": "stdout",
     "output_type": "stream",
     "text": [
      "Minimum Found: 0.00000\n",
      "\n",
      "x0 =   0.000049\n",
      "x1 =   0.000049\n",
      "x2 =   0.000049\n",
      "x3 =   0.000049\n",
      "x4 =   0.000049\n",
      "x5 =   0.000049\n",
      "x6 =   0.000049\n",
      "x7 =   0.000049\n",
      "x8 =   0.000049\n",
      "x9 =   0.000049\n"
     ]
    }
   ],
   "source": [
    "# Extract the optimal solution from the GA.\n",
    "optimal_solution = test_GA.best_chromosome()\n",
    "\n",
    "# Extract the fitness value from the optimal solution.\n",
    "optimal_fit, _ = fun_Sphere(optimal_solution, f_min=False)\n",
    "\n",
    "# Display the (final) optimal value.\n",
    "print(f\"Minimum Found: {optimal_fit:.5f}\\n\")\n",
    "\n",
    "# Display each gene value separately.\n",
    "for i, xi in enumerate(optimal_solution.genome):\n",
    "    print(f\"x{i} = {xi.value:>10.6f}\")\n",
    "# _end_for_\n",
    "\n",
    "# True minimum: f(0.0, 0.0, ..., 0.0) = 0.0"
   ]
  },
  {
   "cell_type": "markdown",
   "id": "c73558d0",
   "metadata": {},
   "source": [
    "### End of file"
   ]
  },
  {
   "cell_type": "code",
   "execution_count": null,
   "id": "2ea86fc1-f265-4523-8200-ff14d6ff837f",
   "metadata": {},
   "outputs": [],
   "source": []
  }
 ],
 "metadata": {
  "kernelspec": {
   "display_name": "venv_tf",
   "language": "python",
   "name": "venv_tf"
  },
  "language_info": {
   "codemirror_mode": {
    "name": "ipython",
    "version": 3
   },
   "file_extension": ".py",
   "mimetype": "text/x-python",
   "name": "python",
   "nbconvert_exporter": "python",
   "pygments_lexer": "ipython3",
   "version": "3.10.13"
  }
 },
 "nbformat": 4,
 "nbformat_minor": 5
}
