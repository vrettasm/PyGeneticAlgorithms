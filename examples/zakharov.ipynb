{
 "cells": [
  {
   "cell_type": "markdown",
   "id": "ee0308ea",
   "metadata": {},
   "source": [
    "# Zakharov function\n",
    "---\n",
    "Description:\n",
    "\n",
    "- Optimization (min)\n",
    "- Single-objective\n",
    "- Constraints (no)\n",
    "---\n",
    "\n",
    "Minimize the equation given by:\n",
    "\n",
    "- $f\\left(\\mathbf{x}\\right) = \\sum_{i=1}^{d}x_i^2 + \\left(\\sum_{i=1}^{d}0.5ix_i\\right)^2 + \\left(\\sum_{i=1}^{d}0.5ix_i\\right)^4$\n",
    "\n",
    "where: $-10 \\le x_i \\le 10$.\n",
    "\n",
    "Global Minimum:\n",
    "\n",
    "- $f\\left(\\mathbf{\\hat{x}}\\right) = 0$, at $\\mathbf{\\hat{x}} = [0, 0, ..., 0]$"
   ]
  },
  {
   "cell_type": "markdown",
   "id": "2dcd43a5",
   "metadata": {},
   "source": [
    "### First we import python libraries and set up the directory of our code."
   ]
  },
  {
   "cell_type": "code",
   "execution_count": 7,
   "id": "9f5337fa",
   "metadata": {},
   "outputs": [],
   "source": [
    "import os, sys\n",
    "import numpy as np\n",
    "from math import fsum, isclose\n",
    "\n",
    "PROJECT_DIR = os.path.abspath('..')\n",
    "sys.path.append(PROJECT_DIR)"
   ]
  },
  {
   "cell_type": "markdown",
   "id": "6471e748",
   "metadata": {},
   "source": [
    "### Here we import all our custom GA code."
   ]
  },
  {
   "cell_type": "code",
   "execution_count": 8,
   "id": "702802c6",
   "metadata": {},
   "outputs": [],
   "source": [
    "# Import main classes.\n",
    "from pygenalgo.genome.gene import Gene\n",
    "from pygenalgo.genome.chromosome import Chromosome\n",
    "from pygenalgo.engines.standard_ga import StandardGA\n",
    "from pygenalgo.utils.utilities import cost_function\n",
    "\n",
    "# Import Selection Operator(s).\n",
    "from pygenalgo.operators.selection.linear_rank_selector import LinearRankSelector\n",
    "\n",
    "# Import Crossover Operator(s).\n",
    "from pygenalgo.operators.crossover.meta_crossover import MetaCrossover\n",
    "\n",
    "# Import Mutation Operator(s).\n",
    "from pygenalgo.operators.mutation.meta_mutator import MetaMutator"
   ]
  },
  {
   "cell_type": "markdown",
   "id": "557bf0bf",
   "metadata": {},
   "source": [
    "### Define the objective function, which plays also the role of the 'fitness' function.\n",
    "\n",
    "In addition, we define the 'boundary_x' which takes the role of the 'random()' method of the Genes. Every \n",
    "time we want to 'mutate' a gene this function will be called that returns 'valid', but random values for \n",
    "the gene."
   ]
  },
  {
   "cell_type": "code",
   "execution_count": 9,
   "id": "e8e0b20b",
   "metadata": {},
   "outputs": [],
   "source": [
    "# Objective function.\n",
    "@cost_function(minimize=True)\n",
    "def fun_Zakharov(individual: Chromosome):\n",
    "    \n",
    "    # Extract gene values from the chromosome.\n",
    "    x = individual.values()\n",
    "    \n",
    "    # Compute the repeated sum.\n",
    "    sum_xi = 0.5*fsum([i*xi for i, xi in enumerate(x, start=1)])\n",
    "    \n",
    "    # Compute the final value.\n",
    "    f_value = fsum([xi**2 for xi in x]) + sum_xi**2 + sum_xi**4\n",
    "\n",
    "    # Condition for termination.\n",
    "    solution_found = isclose(f_value, 0.0, rel_tol=1.0e-6)\n",
    "    \n",
    "    # Return the solution tuple.\n",
    "    return f_value, solution_found\n",
    "# _end_def_"
   ]
  },
  {
   "cell_type": "markdown",
   "id": "9c5fdb09",
   "metadata": {},
   "source": [
    "Here we set the GA parameters, such as number of genes, number of chromosomes, etc."
   ]
  },
  {
   "cell_type": "code",
   "execution_count": 10,
   "id": "778b1900",
   "metadata": {},
   "outputs": [],
   "source": [
    "# Define the number of optimization variables.\n",
    "M = 8\n",
    "\n",
    "# Define the number of chromosomes.\n",
    "N = 100\n",
    "\n",
    "# Random number generator.\n",
    "rng = np.random.default_rng()\n",
    "\n",
    "# Random boundary function:\n",
    "boundary_x = lambda: rng.uniform(-10.0, 10.0)\n",
    "\n",
    "# Draw random samples for the initial points.\n",
    "x_init = rng.uniform(-10.0, +10.0, size=(N, M))\n",
    "\n",
    "# Initial population.\n",
    "population = [Chromosome([Gene(x_init[i, j], boundary_x)\n",
    "                          for j in range(M)], np.nan, True)\n",
    "              for i in range(N)]\n",
    "\n",
    "# Create the StandardGA object that will carry on the optimization.\n",
    "test_GA = StandardGA(initial_pop=population,\n",
    "                     fit_func=fun_Zakharov,\n",
    "                     select_op=LinearRankSelector(),\n",
    "                     mutate_op=MetaMutator(),\n",
    "                     crossx_op=MetaCrossover())"
   ]
  },
  {
   "cell_type": "markdown",
   "id": "3eee7ef0",
   "metadata": {},
   "source": [
    "### Optimization process.\n",
    "\n",
    "Here we call the GA object (either directly, or through the method run()). We set a number of parameter, such as the maximum iterations (i.e. epochs), tolerance for the fitness convergences, etc."
   ]
  },
  {
   "cell_type": "code",
   "execution_count": 11,
   "id": "a3547eda",
   "metadata": {},
   "outputs": [
    {
     "name": "stdout",
     "output_type": "stream",
     "text": [
      "Initial Avg. Fitness = -8173978.4999\n",
      "Final   Avg. Fitness = -41572.9701\n",
      "Elapsed time: 20.212 seconds.\n"
     ]
    }
   ],
   "source": [
    "test_GA(epochs=1000, elitism=True, f_tol=1.0e-8, adapt_probs=True)"
   ]
  },
  {
   "cell_type": "code",
   "execution_count": 12,
   "id": "cda85345",
   "metadata": {},
   "outputs": [
    {
     "name": "stdout",
     "output_type": "stream",
     "text": [
      "Minimum Found: 0.001108\n",
      "\n",
      "x1 =  -0.008405\n",
      "x2 =  -0.008405\n",
      "x3 =  -0.008405\n",
      "x4 =   0.017944\n",
      "x5 =  -0.008405\n",
      "x6 =  -0.008405\n",
      "x7 =   0.017944\n",
      "x8 =  -0.008405\n"
     ]
    }
   ],
   "source": [
    "# Extract the optimal solution from the GA.\n",
    "optimal_solution = test_GA.best_chromosome()\n",
    "\n",
    "# Extract the fitness value from the optimal solution.\n",
    "optimal_fit = -optimal_solution.fitness\n",
    "\n",
    "# Display the (final) optimal value.\n",
    "print(f\"Minimum Found: {optimal_fit:.6f}\\n\")\n",
    "\n",
    "# Display each gene value separately.\n",
    "for i, xi in enumerate(optimal_solution.values(), start=1):\n",
    "    print(f\"x{i} = {xi:>10.6f}\")\n",
    "# _end_for_"
   ]
  },
  {
   "cell_type": "markdown",
   "id": "d165209d",
   "metadata": {},
   "source": [
    "Global Minimum:\n",
    "$f\\left(\\mathbf{\\hat{x}}\\right) = 0$, at $\\mathbf{\\hat{x}} = [0, 0, ..., 0]$"
   ]
  },
  {
   "cell_type": "markdown",
   "id": "96fdc11a",
   "metadata": {},
   "source": [
    "### End of file"
   ]
  }
 ],
 "metadata": {
  "kernelspec": {
   "display_name": "Python 3 (ipykernel)",
   "language": "python",
   "name": "python3"
  },
  "language_info": {
   "codemirror_mode": {
    "name": "ipython",
    "version": 3
   },
   "file_extension": ".py",
   "mimetype": "text/x-python",
   "name": "python",
   "nbconvert_exporter": "python",
   "pygments_lexer": "ipython3",
   "version": "3.10.18"
  }
 },
 "nbformat": 4,
 "nbformat_minor": 5
}
