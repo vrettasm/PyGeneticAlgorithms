{
 "cells": [
  {
   "cell_type": "markdown",
   "id": "df25a30b",
   "metadata": {},
   "source": [
    "# Zakharov function\n",
    "---\n",
    "Description:\n",
    "\n",
    "- Optimization (min)\n",
    "- Single-objective\n",
    "- Constraints (no)\n",
    "---\n",
    "\n",
    "Minimize the equation given by:\n",
    "\n",
    "- $f\\left(\\mathbf{x}\\right) = \\sum_{i=1}^{d}x_i^2 + \\left(\\sum_{i=1}^{d}0.5ix_i\\right)^2 + \\left(\\sum_{i=1}^{d}0.5ix_i\\right)^4$\n",
    "\n",
    "where: $-10 \\le x_i \\le 10$.\n",
    "\n",
    "Global Minimum:\n",
    "\n",
    "- $f\\left(\\mathbf{\\hat{x}}\\right) = 0$, at $\\mathbf{\\hat{x}} = [0, 0, ..., 0]$"
   ]
  },
  {
   "cell_type": "markdown",
   "id": "bb448d0a",
   "metadata": {},
   "source": [
    "### First we import python libraries and set up the directory of our code."
   ]
  },
  {
   "cell_type": "code",
   "execution_count": 3,
   "id": "a7e3adb4",
   "metadata": {},
   "outputs": [],
   "source": [
    "import os, sys\n",
    "import numpy as np\n",
    "from math import fsum\n",
    "\n",
    "PROJECT_DIR = os.path.abspath('..')\n",
    "sys.path.append(PROJECT_DIR)"
   ]
  },
  {
   "cell_type": "markdown",
   "id": "cbab465f",
   "metadata": {},
   "source": [
    "### Here we import all our custom GA code."
   ]
  },
  {
   "cell_type": "code",
   "execution_count": 5,
   "id": "247088c6",
   "metadata": {},
   "outputs": [],
   "source": [
    "# Import main classes.\n",
    "from pygenalgo.genome.gene import Gene\n",
    "from pygenalgo.genome.chromosome import Chromosome\n",
    "from pygenalgo.engines.standard_ga import StandardGA\n",
    "\n",
    "# Import Selection Operator(s).\n",
    "from pygenalgo.operators.selection.linear_rank_selector import LinearRankSelector\n",
    "\n",
    "# Import Crossover Operator(s).\n",
    "from pygenalgo.operators.crossover.meta_crossover import MetaCrossover\n",
    "\n",
    "# Import Mutation Operator(s).\n",
    "from pygenalgo.operators.mutation.meta_mutator import MetaMutator"
   ]
  },
  {
   "cell_type": "markdown",
   "id": "e91fb6e2",
   "metadata": {},
   "source": [
    "### Define the objective function, which plays also the role of the 'fitness' function.\n",
    "\n",
    "In addition, we define the 'rand_fx' which takes the role of the 'random()' method of the Genes. Every \n",
    "time we want to 'mutate' a gene this function will be called that returns 'valid', but random values for \n",
    "the gene."
   ]
  },
  {
   "cell_type": "code",
   "execution_count": 7,
   "id": "be1afc07",
   "metadata": {},
   "outputs": [],
   "source": [
    "# Objective function.\n",
    "def fun_Zakharov(individual: Chromosome, f_min: bool = True):\n",
    "    \n",
    "    # Extract genes from the chromosome.\n",
    "    x = [gene.value for gene in individual.genome]\n",
    "    \n",
    "    # Compute the repeated sum.\n",
    "    sum_i_xi = 0.5*fsum([i*xi for i, xi in enumerate(x, start=1)])\n",
    "    \n",
    "    # Compute the final value.\n",
    "    f_val = fsum([xi**2 for xi in x]) + sum_i_xi**2 + sum_i_xi**4\n",
    "    \n",
    "    # Return the negative (to account for minimization).\n",
    "    return -f_val if f_min else f_val\n",
    "# _end_def_\n",
    "\n",
    "# Random functions:\n",
    "rand_fx = lambda: np.random.uniform(-10.0, 10.0)"
   ]
  },
  {
   "cell_type": "markdown",
   "id": "5304ee70",
   "metadata": {},
   "source": [
    "Here we set the GA parameters, such as number of genes, number of chromosomes, etc."
   ]
  },
  {
   "cell_type": "code",
   "execution_count": 9,
   "id": "57fb9f33",
   "metadata": {},
   "outputs": [],
   "source": [
    "# Define the number of optimization variables.\n",
    "M = 8\n",
    "\n",
    "# Define the number of chromosomes.\n",
    "N = 100\n",
    "\n",
    "# Initial population.\n",
    "population = [Chromosome([Gene(np.random.uniform(-10.0, 10.0), rand_fx)\n",
    "                          for _ in range(M)], np.nan, True)\n",
    "              for _ in range(N)]\n",
    "\n",
    "# Create the StandardGA object that will carry on the optimization.\n",
    "toy_GA = StandardGA(initial_pop=population,\n",
    "                    fit_func=fun_Zakharov,\n",
    "                    select_op=LinearRankSelector(),\n",
    "                    mutate_op=MetaMutator(0.1),\n",
    "                    cross_op=MetaCrossover(0.9))"
   ]
  },
  {
   "cell_type": "markdown",
   "id": "517084eb",
   "metadata": {},
   "source": [
    "### Optimization process.\n",
    "\n",
    "Here we call the GA object (either directly, or through the method run()). We set a number of parameter, such as the maximum iterations (i.e. epochs), tolerance for the fitness convergences, etc."
   ]
  },
  {
   "cell_type": "code",
   "execution_count": 11,
   "id": "828f50a3",
   "metadata": {},
   "outputs": [
    {
     "name": "stdout",
     "output_type": "stream",
     "text": [
      "Initial Avg. Fitness = -8496062.9372.\n",
      "StandardGA finished in 6317 iterations.\n",
      "Final   Avg. Fitness = -0.0000.\n",
      "Elapsed time: 85.811 seconds.\n"
     ]
    }
   ],
   "source": [
    "toy_GA(epochs=10000, elitism=True, f_tol=1.0e-8)"
   ]
  },
  {
   "cell_type": "code",
   "execution_count": 12,
   "id": "b04ddaf2",
   "metadata": {},
   "outputs": [
    {
     "name": "stdout",
     "output_type": "stream",
     "text": [
      "Minimum Found: 0.00001\n",
      "\n",
      "x1 =   0.000399\n",
      "x2 =   0.000399\n",
      "x3 =   0.000399\n",
      "x4 =   0.000399\n",
      "x5 =   0.000399\n",
      "x6 =  -0.002183\n",
      "x7 =   0.000399\n",
      "x8 =   0.000399\n"
     ]
    }
   ],
   "source": [
    "# Extract the optimal solution from the GA.\n",
    "optimal_solution = toy_GA.best_chromosome()\n",
    "\n",
    "# Display the (final) optimal value.\n",
    "print(f\"Minimum Found: {fun_Zakharov(optimal_solution, f_min=False):.5f}\\n\")\n",
    "\n",
    "# Display each gene value separately.\n",
    "for i, xi in enumerate(optimal_solution.genome, start=1):\n",
    "    print(f\"x{i} = {xi.value:>10.6f}\")\n",
    "# _end_for_"
   ]
  },
  {
   "cell_type": "markdown",
   "id": "574e346b",
   "metadata": {},
   "source": [
    "Global Minimum:\n",
    "$f\\left(\\mathbf{\\hat{x}}\\right) = 0$, at $\\mathbf{\\hat{x}} = [0, 0, ..., 0]$"
   ]
  },
  {
   "cell_type": "markdown",
   "id": "c73558d0",
   "metadata": {},
   "source": [
    "### End of file"
   ]
  }
 ],
 "metadata": {
  "kernelspec": {
   "display_name": "venv_tf",
   "language": "python",
   "name": "venv_tf"
  },
  "language_info": {
   "codemirror_mode": {
    "name": "ipython",
    "version": 3
   },
   "file_extension": ".py",
   "mimetype": "text/x-python",
   "name": "python",
   "nbconvert_exporter": "python",
   "pygments_lexer": "ipython3",
   "version": "3.10.13"
  }
 },
 "nbformat": 4,
 "nbformat_minor": 5
}
