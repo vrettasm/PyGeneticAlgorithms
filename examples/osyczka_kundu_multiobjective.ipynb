{
 "cells": [
  {
   "cell_type": "markdown",
   "id": "df25a30b",
   "metadata": {},
   "source": [
    "# Osyczka and Kundu function multi-objective optimization (min).\n",
    "---\n",
    "Description:\n",
    "\n",
    "- Optimization (min)\n",
    "- Multi-objective (2)\n",
    "- Constraints (6)\n",
    "---\n",
    "\n",
    "Minimize the equations given by:\n",
    "\n",
    "\\begin{cases}\n",
    "      f_{1}\\left(\\mathbf{x}\\right) = -(25(x_1 - 2)^2 + (x_2 - 2)^2 + (x_3 - 1)^2 + (x_4 - 4)^2 + (x_5 - 1)^2), \\\\\n",
    "      f_{2}\\left(\\mathbf{x}\\right) = x_1^2 + x_2^2 + x_3^2 + x_4^2 + x_5^2 + x_6^2, \\\\\n",
    "\\end{cases}\n",
    "\n",
    "subject to:\n",
    "\n",
    "\\begin{cases}\n",
    "      C_{1}\\left(\\mathbf{x}\\right) = (x_1 + x_2 − 2) \\geq 0, \\\\\n",
    "      C_{2}\\left(\\mathbf{x}\\right) = (6 - x_1 − x_2) \\geq 0, \\\\\n",
    "      C_{3}\\left(\\mathbf{x}\\right) = (2 - x_2 + x_1) \\geq 0, \\\\\n",
    "      C_{4}\\left(\\mathbf{x}\\right) = (2 − x_1 + 3x_2) \\geq 0, \\\\\n",
    "      C_{5}\\left(\\mathbf{x}\\right) = (4 − (x_3 − 3)2 − x_4) \\geq 0, \\\\\n",
    "      C_{6}\\left(\\mathbf{x}\\right) = ((x_5 − 3)^2 + x_6−4) \\geq 0, \\\\\n",
    "\\end{cases}\n",
    "\n",
    "where:\n",
    "\n",
    "\\begin{cases}\n",
    "      0\\le x_1, x_2, x_6 \\le 10, \\\\\n",
    "      1\\le x_3, x_5 \\le 5, \\\\\n",
    "      0\\le x_4 \\le 6. \\\\\n",
    "\\end{cases}\n",
    "\n",
    "The Pareto-optimal region is a concatenation of five regions. Every region lies on some of the constraints. However, for the entire Pareto-optimal region, $\\hat{x}_4=\\hat{x}_6=0$."
   ]
  },
  {
   "cell_type": "markdown",
   "id": "bb448d0a",
   "metadata": {},
   "source": [
    "### First we import python libraries and set up the directory of our code."
   ]
  },
  {
   "cell_type": "code",
   "execution_count": 3,
   "id": "a7e3adb4",
   "metadata": {},
   "outputs": [],
   "source": [
    "import os, sys\n",
    "import numpy as np\n",
    "from math import fsum\n",
    "\n",
    "PROJECT_DIR = os.path.abspath('..')\n",
    "sys.path.append(PROJECT_DIR)"
   ]
  },
  {
   "cell_type": "markdown",
   "id": "cbab465f",
   "metadata": {},
   "source": [
    "### Here we import all our custom GA code."
   ]
  },
  {
   "cell_type": "code",
   "execution_count": 5,
   "id": "247088c6",
   "metadata": {},
   "outputs": [],
   "source": [
    "# Import main classes.\n",
    "from pygenalgo.genome.gene import Gene\n",
    "from pygenalgo.genome.chromosome import Chromosome\n",
    "from pygenalgo.engines.island_model_ga import IslandModelGA\n",
    "\n",
    "# Import Selection Operator(s).\n",
    "from pygenalgo.operators.selection.linear_rank_selector import LinearRankSelector\n",
    "\n",
    "# Import Crossover Operator(s).\n",
    "from pygenalgo.operators.crossover.uniform_crossover import UniformCrossover\n",
    "\n",
    "# Import Mutation Operator(s).\n",
    "from pygenalgo.operators.mutation.random_mutator import RandomMutator\n",
    "\n",
    "# Import Migration Operator(s).\n",
    "from pygenalgo.operators.migration.clockwise_migration import ClockwiseMigration"
   ]
  },
  {
   "cell_type": "markdown",
   "id": "e91fb6e2",
   "metadata": {},
   "source": [
    "### Define the multi-objective function, which plays also the role of the 'fitness' function.\n",
    "\n",
    "In addition, we define a 'rand_fx', for each variable, which takes the role of the 'random()' method\n",
    "of the Genes, using the required range."
   ]
  },
  {
   "cell_type": "code",
   "execution_count": 7,
   "id": "be1afc07",
   "metadata": {},
   "outputs": [],
   "source": [
    "# Multi-objective function.\n",
    "def fun_OSY(individual: Chromosome, f_min: bool = True):\n",
    "    \n",
    "    # Extract the gene values.\n",
    "    x = [gene.value for gene in individual.genome]\n",
    "        \n",
    "    # Compute each objective function.\n",
    "    f1 = -(25.0*(x[0] - 2.0)**2 +\n",
    "                (x[1] - 2.0)**2 +\n",
    "                (x[2] - 1.0)**2 +\n",
    "                (x[3] - 4.0)**2 +\n",
    "                (x[4] - 1.0)**2)\n",
    "    \n",
    "    f2 = fsum([i**2 for i in x])\n",
    "    \n",
    "    # Compute the constraints.\n",
    "    C1 = min(0.0, (x[0] + x[1] - 2.0))**2\n",
    "    C2 = min(0.0, (6.0 - x[0] - x[1]))**2\n",
    "    C3 = min(0.0, (2.0 + x[0] - x[1]))**2\n",
    "    C4 = min(0.0, (2.0 - x[0] + 3.0*x[1]))**2\n",
    "    C5 = min(0.0, (4.0 - (x[2] - 3.0)**2 - x[3]))**2\n",
    "    C6 = min(0.0, ((x[4] - 3.0)**2 + x[5] - 4.0))**2\n",
    "    \n",
    "    # Compute the final value.\n",
    "    f_val = fsum([0.35*f1, 0.65*f2, C1, C2, C3, C4, C5, C6])\n",
    "    \n",
    "    # Return the negative (to account for minimization).\n",
    "    return -f_val if f_min else f_val\n",
    "# _end_def_\n",
    "\n",
    "# Random functions (one for each variable):\n",
    "rand_fx1 = lambda: np.random.uniform(0.0, 10.0)\n",
    "rand_fx2 = lambda: np.random.uniform(0.0, 10.0)\n",
    "rand_fx3 = lambda: np.random.uniform(1.0,  5.0)\n",
    "rand_fx4 = lambda: np.random.uniform(0.0,  6.0)\n",
    "rand_fx5 = lambda: np.random.uniform(1.0,  5.0)\n",
    "rand_fx6 = lambda: np.random.uniform(0.0, 10.0)"
   ]
  },
  {
   "cell_type": "markdown",
   "id": "5304ee70",
   "metadata": {},
   "source": [
    "Here we set the GA parameters, such as number of genes, number of chromosomes, etc. Note that in this case each gene has different random() function, because they are valid in different ranges according to the \n",
    "problem definition."
   ]
  },
  {
   "cell_type": "code",
   "execution_count": 9,
   "id": "57fb9f33",
   "metadata": {},
   "outputs": [],
   "source": [
    "# Define the number of chromosomes.\n",
    "N = 400\n",
    "\n",
    "# Initial population.\n",
    "population = [Chromosome([Gene(np.random.uniform(0.0, 10.0), rand_fx1),\n",
    "                          Gene(np.random.uniform(0.0, 10.0), rand_fx2),\n",
    "                          Gene(np.random.uniform(1.0,  5.0), rand_fx3),\n",
    "                          Gene(np.random.uniform(0.0,  6.0), rand_fx4),\n",
    "                          Gene(np.random.uniform(1.0,  5.0), rand_fx5),\n",
    "                          Gene(np.random.uniform(0.0, 10.0), rand_fx6)], np.nan, True)\n",
    "              for _ in range(N)]\n",
    "\n",
    "# Create the IslandModelGA object that will carry on the optimization.\n",
    "test_GA = IslandModelGA(initial_pop=population,\n",
    "                        fit_func=fun_OSY, num_islands=4,\n",
    "                        select_op=LinearRankSelector(),\n",
    "                        mutate_op=RandomMutator(0.10),\n",
    "                        crossx_op=UniformCrossover(0.8),\n",
    "                        migrate_op=ClockwiseMigration())"
   ]
  },
  {
   "cell_type": "markdown",
   "id": "517084eb",
   "metadata": {},
   "source": [
    "### Optimization process.\n",
    "\n",
    "Here we call the GA object (either directly, or through the method run()). We set a number of parameter, such as the maximum iterations (i.e. epochs), tolerance for the fitness convergences, etc."
   ]
  },
  {
   "cell_type": "code",
   "execution_count": 11,
   "id": "828f50a3",
   "metadata": {},
   "outputs": [
    {
     "name": "stdout",
     "output_type": "stream",
     "text": [
      "\n",
      "Current period 1 / 10:\n",
      "\n",
      "Best Fitness in island 0 is:= 455.27007.\n",
      "Best Fitness in island 1 is:= 449.50585.\n",
      "Best Fitness in island 2 is:= 454.22688.\n",
      "Best Fitness in island 3 is:= 453.81357.\n",
      "\n",
      "Current period 2 / 10:\n",
      "\n",
      "Best Fitness in island 0 is:= 455.38295.\n",
      "Best Fitness in island 1 is:= 455.41824.\n",
      "Best Fitness in island 2 is:= 454.44032.\n",
      "Best Fitness in island 3 is:= 454.44055.\n",
      "\n",
      "Current period 3 / 10:\n",
      "\n",
      "Best Fitness in island 0 is:= 455.40365.\n",
      "Best Fitness in island 1 is:= 455.80687.\n",
      "Best Fitness in island 2 is:= 455.49225.\n",
      "Best Fitness in island 3 is:= 456.56091.\n",
      "\n",
      "Current period 4 / 10:\n",
      "\n",
      "Best Fitness in island 0 is:= 456.71694.\n",
      "Best Fitness in island 1 is:= 455.80687.\n",
      "Best Fitness in island 2 is:= 455.81403.\n",
      "Best Fitness in island 3 is:= 456.71535.\n",
      "\n",
      "Current period 5 / 10:\n",
      "\n",
      "Best Fitness in island 0 is:= 456.72918.\n",
      "Best Fitness in island 1 is:= 456.76264.\n",
      "Best Fitness in island 2 is:= 455.82630.\n",
      "Best Fitness in island 3 is:= 456.76606.\n",
      "\n",
      "Current period 6 / 10:\n",
      "\n",
      "Best Fitness in island 0 is:= 456.77325.\n",
      "Best Fitness in island 1 is:= 456.76364.\n",
      "Best Fitness in island 2 is:= 456.77412.\n",
      "Best Fitness in island 3 is:= 456.76606.\n",
      "\n",
      "Current period 7 / 10:\n",
      "\n",
      "Best Fitness in island 0 is:= 456.77560.\n",
      "Best Fitness in island 1 is:= 456.78394.\n",
      "Best Fitness in island 2 is:= 456.77501.\n",
      "Best Fitness in island 3 is:= 456.77919.\n",
      "\n",
      "Current period 8 / 10:\n",
      "\n",
      "Best Fitness in island 0 is:= 456.78331.\n",
      "Best Fitness in island 1 is:= 456.78394.\n",
      "Best Fitness in island 2 is:= 456.78414.\n",
      "Best Fitness in island 3 is:= 456.77919.\n",
      "\n",
      "Current period 9 / 10:\n",
      "\n",
      "Best Fitness in island 0 is:= 456.78331.\n",
      "Best Fitness in island 1 is:= 456.78533.\n",
      "Best Fitness in island 2 is:= 456.78414.\n",
      "Best Fitness in island 3 is:= 456.78414.\n",
      "\n",
      "Current period 10 / 10:\n",
      "\n",
      "Best Fitness in island 0 is:= 456.78331.\n",
      "Best Fitness in island 1 is:= 456.78533.\n",
      "Best Fitness in island 2 is:= 456.78553.\n",
      "Best Fitness in island 3 is:= 456.78414.\n",
      "Final Avg. Fitness = 433.8399, Spread = 72.6390.\n",
      "Elapsed time: 4.145 seconds.\n"
     ]
    }
   ],
   "source": [
    "test_GA(epochs=1000, elitism=True, f_tol=1.0e-8, allow_migration=True, verbose=True)"
   ]
  },
  {
   "cell_type": "code",
   "execution_count": 12,
   "id": "b04ddaf2",
   "metadata": {},
   "outputs": [
    {
     "name": "stdout",
     "output_type": "stream",
     "text": [
      "x1=9.99931\n",
      "x2=1.87338\n",
      "x3=1.00022\n",
      "x4=0.00040\n",
      "x5=1.00070\n",
      "x6=0.00385\n",
      " \n",
      "f1(x) = -1615.73693\n",
      "f2(x) = 105.49761\n"
     ]
    }
   ],
   "source": [
    "x = [gene.value for gene in test_GA.best_chromosome().genome]\n",
    "\n",
    "f1 = -(25.0*(x[0] - 2.0)**2 +\n",
    "            (x[1] - 2.0)**2 +\n",
    "            (x[2] - 1.0)**2 +\n",
    "            (x[3] - 4.0)**2 +\n",
    "            (x[4] - 1.0)**2)\n",
    "\n",
    "f2 = fsum([i**2 for i in x])\n",
    "\n",
    "for i, xi in enumerate(x, start=1):\n",
    "    print(f\"x{i}={xi:.5f}\")\n",
    "\n",
    "print(\" \")\n",
    "print(f\"f1(x) = {f1:.5f}\")\n",
    "print(f\"f2(x) = {f2:.5f}\")"
   ]
  },
  {
   "cell_type": "markdown",
   "id": "c73558d0",
   "metadata": {},
   "source": [
    "### End of file"
   ]
  },
  {
   "cell_type": "code",
   "execution_count": null,
   "id": "926a11c9-7c5c-4605-925a-0057b6ff8704",
   "metadata": {},
   "outputs": [],
   "source": []
  }
 ],
 "metadata": {
  "kernelspec": {
   "display_name": "venv_tf",
   "language": "python",
   "name": "venv_tf"
  },
  "language_info": {
   "codemirror_mode": {
    "name": "ipython",
    "version": 3
   },
   "file_extension": ".py",
   "mimetype": "text/x-python",
   "name": "python",
   "nbconvert_exporter": "python",
   "pygments_lexer": "ipython3",
   "version": "3.10.13"
  }
 },
 "nbformat": 4,
 "nbformat_minor": 5
}
