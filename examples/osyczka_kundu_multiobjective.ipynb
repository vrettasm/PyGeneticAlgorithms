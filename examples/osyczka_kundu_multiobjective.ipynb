{
 "cells": [
  {
   "cell_type": "markdown",
   "id": "31c2cfee",
   "metadata": {},
   "source": [
    "# Osyczka and Kundu function multi-objective optimization (min).\n",
    "---\n",
    "Description:\n",
    "\n",
    "- Optimization (min)\n",
    "- Multi-objective (2)\n",
    "- Constraints (6)\n",
    "---\n",
    "\n",
    "Minimize the equations given by:\n",
    "\n",
    "\\begin{cases}\n",
    "      f_{1}\\left(\\mathbf{x}\\right) = -(25(x_1 - 2)^2 + (x_2 - 2)^2 + (x_3 - 1)^2 + (x_4 - 4)^2 + (x_5 - 1)^2), \\\\\n",
    "      f_{2}\\left(\\mathbf{x}\\right) = x_1^2 + x_2^2 + x_3^2 + x_4^2 + x_5^2 + x_6^2, \\\\\n",
    "\\end{cases}\n",
    "\n",
    "subject to:\n",
    "\n",
    "\\begin{cases}\n",
    "      C_{1}\\left(\\mathbf{x}\\right) = (x_1 + x_2 − 2) \\geq 0, \\\\\n",
    "      C_{2}\\left(\\mathbf{x}\\right) = (6 - x_1 − x_2) \\geq 0, \\\\\n",
    "      C_{3}\\left(\\mathbf{x}\\right) = (2 - x_2 + x_1) \\geq 0, \\\\\n",
    "      C_{4}\\left(\\mathbf{x}\\right) = (2 − x_1 + 3x_2) \\geq 0, \\\\\n",
    "      C_{5}\\left(\\mathbf{x}\\right) = (4 − (x_3 − 3)2 − x_4) \\geq 0, \\\\\n",
    "      C_{6}\\left(\\mathbf{x}\\right) = ((x_5 − 3)^2 + x_6−4) \\geq 0, \\\\\n",
    "\\end{cases}\n",
    "\n",
    "where:\n",
    "\n",
    "\\begin{cases}\n",
    "      0\\le x_1, x_2, x_6 \\le 10, \\\\\n",
    "      1\\le x_3, x_5 \\le 5, \\\\\n",
    "      0\\le x_4 \\le 6. \\\\\n",
    "\\end{cases}\n",
    "\n",
    "The Pareto-optimal region is a concatenation of five regions. Every region lies on some of the constraints. However, for the entire Pareto-optimal region, $\\hat{x}_4=\\hat{x}_6=0$."
   ]
  },
  {
   "cell_type": "markdown",
   "id": "968cfe7c",
   "metadata": {},
   "source": [
    "### First we import python libraries and set up the directory of our code."
   ]
  },
  {
   "cell_type": "code",
   "execution_count": 2,
   "id": "bc3e3db8",
   "metadata": {},
   "outputs": [],
   "source": [
    "import os, sys\n",
    "import numpy as np\n",
    "from math import fsum\n",
    "from matplotlib import pyplot as plt\n",
    "\n",
    "PROJECT_DIR = os.path.abspath('..')\n",
    "sys.path.append(PROJECT_DIR)"
   ]
  },
  {
   "cell_type": "markdown",
   "id": "5127446b",
   "metadata": {},
   "source": [
    "### Here we import all our custom GA code."
   ]
  },
  {
   "cell_type": "code",
   "execution_count": 3,
   "id": "928384b4",
   "metadata": {},
   "outputs": [],
   "source": [
    "# Import main classes.\n",
    "from pygenalgo.genome.gene import Gene\n",
    "from pygenalgo.genome.chromosome import Chromosome\n",
    "from pygenalgo.engines.auxiliary import pareto_front\n",
    "from pygenalgo.engines.island_model_ga import IslandModelGA\n",
    "\n",
    "# Import Selection Operator(s).\n",
    "from pygenalgo.operators.selection.tournament_selector import TournamentSelector\n",
    "\n",
    "# Import Crossover Operator(s).\n",
    "from pygenalgo.operators.crossover.uniform_crossover import UniformCrossover\n",
    "\n",
    "# Import Mutation Operator(s).\n",
    "from pygenalgo.operators.mutation.random_mutator import RandomMutator\n",
    "\n",
    "# Import Migration Operator(s).\n",
    "from pygenalgo.operators.migration.clockwise_migration import ClockwiseMigration"
   ]
  },
  {
   "cell_type": "markdown",
   "id": "9f335229",
   "metadata": {},
   "source": [
    "### Define the multi-objective function, which plays also the role of the 'fitness' function.\n",
    "\n",
    "In addition, we define a 'boundary_x', for each variable, which takes the role of the 'random()' method\n",
    "of the Genes, using the required range."
   ]
  },
  {
   "cell_type": "code",
   "execution_count": 4,
   "id": "b94fb589",
   "metadata": {},
   "outputs": [],
   "source": [
    "# Multi-objective function.\n",
    "def fun_OSY(individual: Chromosome, f_min: bool = True):\n",
    "    \n",
    "    # Set the penalty coefficient.\n",
    "    rho = 80.0\n",
    "    \n",
    "    # Extract the gene values.\n",
    "    x1, x2, x3, x4, x5, x6 = individual.values()\n",
    "        \n",
    "    # Compute each objective function.\n",
    "    f1 = -(25.0*(x1 - 2.0)**2 +\n",
    "                (x2 - 2.0)**2 +\n",
    "                (x3 - 1.0)**2 +\n",
    "                (x4 - 4.0)**2 +\n",
    "                (x5 - 1.0)**2)\n",
    "    \n",
    "    f2 = fsum(([x1**2, x2**2, x3**2, x4**2, x5**2, x6**2]))\n",
    "    \n",
    "    # Compute the constraints.\n",
    "    C1 = min(0.0, (x1 + x2 - 2.0))**2\n",
    "    C2 = min(0.0, (6.0 - x1 - x2))**2\n",
    "    C3 = min(0.0, (2.0 + x1 - x2))**2\n",
    "    C4 = min(0.0, (2.0 - x1 + 3.0*x2))**2\n",
    "    C5 = min(0.0, (4.0 - (x3 - 3.0)**2 - x4))**2\n",
    "    C6 = min(0.0, ((x5 - 3.0)**2 + x6 - 4.0))**2\n",
    "    \n",
    "    # Compute the final value.\n",
    "    f_val = fsum([0.1*f1, 0.9*f2, rho*(C1 + C2 + C3 + C4 + C5 + C6)])\n",
    "\n",
    "    # Condition for termination.\n",
    "    solution_found = False\n",
    "\n",
    "    # Assign the fitness value (check for minimization).\n",
    "    fit_value = -f_val if f_min else f_val\n",
    "    \n",
    "    # Return the solution tuple.\n",
    "    return fit_value, solution_found\n",
    "# _end_def_\n",
    "\n",
    "# Random number generator.\n",
    "rng = np.random.default_rng()\n",
    "\n",
    "# Random boundary functions (one for each variable):\n",
    "boundary_x1 = lambda: rng.uniform(0.0, 10.0)\n",
    "boundary_x2 = lambda: rng.uniform(0.0, 10.0)\n",
    "boundary_x3 = lambda: rng.uniform(1.0,  5.0)\n",
    "boundary_x4 = lambda: rng.uniform(0.0,  6.0)\n",
    "boundary_x5 = lambda: rng.uniform(1.0,  5.0)\n",
    "boundary_x6 = lambda: rng.uniform(0.0, 10.0)"
   ]
  },
  {
   "cell_type": "markdown",
   "id": "ab05db6d",
   "metadata": {},
   "source": [
    "Here we set the GA parameters, such as number of genes, number of chromosomes, etc. Note that in this case each gene has different random() function, because they are valid in different ranges according to the \n",
    "problem definition."
   ]
  },
  {
   "cell_type": "code",
   "execution_count": 5,
   "id": "aa879ca9",
   "metadata": {},
   "outputs": [],
   "source": [
    "# Define the number of chromosomes.\n",
    "N = 200\n",
    "\n",
    "# Initial population.\n",
    "population = [Chromosome([Gene(rng.uniform(0.0, 10.0), boundary_x1),\n",
    "                          Gene(rng.uniform(0.0, 10.0), boundary_x2),\n",
    "                          Gene(rng.uniform(1.0,  5.0), boundary_x3),\n",
    "                          Gene(rng.uniform(0.0,  6.0), boundary_x4),\n",
    "                          Gene(rng.uniform(1.0,  5.0), boundary_x5),\n",
    "                          Gene(rng.uniform(0.0, 10.0), boundary_x6)], np.nan, True)\n",
    "              for _ in range(N)]\n",
    "\n",
    "# Create the IslandModelGA object that will carry on the optimization.\n",
    "test_GA = IslandModelGA(initial_pop=population,\n",
    "                        fit_func=fun_OSY, num_islands=4,\n",
    "                        select_op=TournamentSelector(),\n",
    "                        mutate_op=RandomMutator(),\n",
    "                        crossx_op=UniformCrossover(),\n",
    "                        migrate_op=ClockwiseMigration())"
   ]
  },
  {
   "cell_type": "markdown",
   "id": "6f19b90d",
   "metadata": {},
   "source": [
    "### Optimization process.\n",
    "\n",
    "Here we call the GA object (either directly, or through the method run()). We set a number of parameter, such as the maximum iterations (i.e. epochs), tolerance for the fitness convergences, etc."
   ]
  },
  {
   "cell_type": "code",
   "execution_count": 6,
   "id": "cdde0c72",
   "metadata": {},
   "outputs": [
    {
     "name": "stdout",
     "output_type": "stream",
     "text": [
      "Parallel evolution in progress with 4 islands ...\n",
      "Final Avg. Fitness = -319.1843.\n",
      "Elapsed time: 20.091 seconds.\n"
     ]
    }
   ],
   "source": [
    "test_GA(epochs=2500, elitism=True, f_tol=1.0e-8, allow_migration=True, adapt_probs=True)"
   ]
  },
  {
   "cell_type": "code",
   "execution_count": 7,
   "id": "3fbf1202",
   "metadata": {},
   "outputs": [
    {
     "name": "stdout",
     "output_type": "stream",
     "text": [
      "x1=0.00034\n",
      "x2=1.97730\n",
      "x3=1.00014\n",
      "x4=0.00028\n",
      "x5=1.00002\n",
      "x6=0.00034\n",
      " \n",
      "f1(x) = -115.96422\n",
      "f2(x) = 5.91003\n"
     ]
    }
   ],
   "source": [
    "# Extract the gene values.\n",
    "x = test_GA.best_chromosome().values()\n",
    "\n",
    "# Compute each objective function.\n",
    "f1_opt = -(25.0*(x[0] - 2.0)**2 +\n",
    "                (x[1] - 2.0)**2 +\n",
    "                (x[2] - 1.0)**2 +\n",
    "                (x[3] - 4.0)**2 +\n",
    "                (x[4] - 1.0)**2)\n",
    "\n",
    "f2_opt = fsum([i**2 for i in x])\n",
    "\n",
    "for i, xi in enumerate(x, start=1):\n",
    "    print(f\"x{i}={xi:.5f}\")\n",
    "\n",
    "print(\" \")\n",
    "print(f\"f1(x) = {f1_opt:.5f}\")\n",
    "print(f\"f2(x) = {f2_opt:.5f}\")"
   ]
  },
  {
   "cell_type": "markdown",
   "id": "775549f2",
   "metadata": {},
   "source": [
    "### Compute the Pareto Frontier (solutions)."
   ]
  },
  {
   "cell_type": "code",
   "execution_count": 8,
   "id": "acfb82bb",
   "metadata": {},
   "outputs": [],
   "source": [
    "# Create a list that will hold points that satisfy both constraints.\n",
    "points = []\n",
    "\n",
    "L = 30\n",
    "\n",
    "x4, x6 = 0.0, 0.0\n",
    "\n",
    "# Test some grid points.\n",
    "for x1 in np.linspace(0.0, 10.0, L):\n",
    "    \n",
    "    for x2 in np.linspace(0.0, 10.0, L):\n",
    "        \n",
    "        for x3 in np.linspace(1.0, 5.0, L):\n",
    "            \n",
    "            for x5 in np.linspace(1.0, 5.0, L):\n",
    "                \n",
    "                # Compute the constraints.\n",
    "                C1 = (x1 + x2 - 2.0) >= 0.0\n",
    "                C2 = (6.0 - x1 - x2) >= 0.0\n",
    "                C3 = (2.0 - x2 + x1) >= 0.0\n",
    "                C4 = (2.0 - x1 + 3.0*x2) >= 0.0\n",
    "                C5 = (4.0 - (x3 - 3.0)**2 - x4) >= 0.0\n",
    "                C6 = ((x5 - 3.0)**2 + x6 - 4.0) >= 0.0\n",
    "                \n",
    "                # If all constraints are satisfied.\n",
    "                if all([C1, C2, C3, C4, C5, C6]):\n",
    "                    \n",
    "                    # Evaluate both functions.\n",
    "                    f1 = -(25.0*(x1 - 2.0)**2 +\\\n",
    "                                (x2 - 2.0)**2 +\\\n",
    "                                (x3 - 1.0)**2 +\\\n",
    "                                (x4 - 4.0)**2 +\\\n",
    "                                (x5 - 1.0)**2)\n",
    "\n",
    "                    f2 = fsum([i**2 for i in (x1, x2, x3, x4, x5, x6)])\n",
    "\n",
    "                    # Keep the point in the list.\n",
    "                    points.append((f1, f2))\n",
    "                # _end_if_\n",
    "# _end_for_\n",
    "\n",
    "# Estimate the pareto front points.\n",
    "pareto_points = pareto_front(points)\n",
    "\n",
    "# Convert list to numpy.\n",
    "pareto_points = np.array(pareto_points)"
   ]
  },
  {
   "cell_type": "markdown",
   "id": "a9166673",
   "metadata": {},
   "source": [
    "### Visualize the solution on the Pareto plot."
   ]
  },
  {
   "cell_type": "code",
   "execution_count": 9,
   "id": "44049a8f",
   "metadata": {},
   "outputs": [
    {
     "data": {
      "image/png": "[encoded data removed]",
      "text/plain": [
       "<Figure size 1000x600 with 1 Axes>"
      ]
     },
     "metadata": {},
     "output_type": "display_data"
    }
   ],
   "source": [
    "# Create a new figure.\n",
    "plt.figure(figsize=(10, 6))\n",
    "\n",
    "# Plot the Pareto front.\n",
    "plt.scatter(x=pareto_points[:, 0],\n",
    "            y=pareto_points[:, 1],\n",
    "            s=20, marker='s', color='red', alpha=0.5, label=\"Pareto Frontier\")\n",
    "\n",
    "# Plot the optimal solution from the GA.\n",
    "plt.plot(f1_opt, f2_opt,\n",
    "         'k*', markersize=10, alpha=0.8, label=\"PyGenAlgo optimal\")\n",
    "\n",
    "# Tidy up the plot.\n",
    "plt.title(\"Osyczka and Kundu\")\n",
    "plt.xlabel(r\"$\\mathbf{f1(x,y)}$\")\n",
    "plt.ylabel(r\"$\\mathbf{f2(x,y)}$\")\n",
    "plt.legend()\n",
    "plt.grid(True)\n",
    "\n",
    "plt.savefig(\"Osyczka_and_Kundu_optimal.pdf\", format=\"pdf\", dpi=300)"
   ]
  },
  {
   "cell_type": "markdown",
   "id": "1c1ef0f9",
   "metadata": {},
   "source": [
    "### End of file"
   ]
  },
  {
   "cell_type": "code",
   "execution_count": null,
   "id": "e7555f09",
   "metadata": {},
   "outputs": [],
   "source": []
  }
 ],
 "metadata": {
  "kernelspec": {
   "display_name": "venv_tf",
   "language": "python",
   "name": "venv_tf"
  },
  "language_info": {
   "codemirror_mode": {
    "name": "ipython",
    "version": 3
   },
   "file_extension": ".py",
   "mimetype": "text/x-python",
   "name": "python",
   "nbconvert_exporter": "python",
   "pygments_lexer": "ipython3",
   "version": "3.10.13"
  }
 },
 "nbformat": 4,
 "nbformat_minor": 5
}
