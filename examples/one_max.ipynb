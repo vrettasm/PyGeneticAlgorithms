{
 "cells": [
  {
   "cell_type": "markdown",
   "id": "2a871b92",
   "metadata": {},
   "source": [
    "# OneMax function\n",
    "---\n",
    "Description:\n",
    "\n",
    "- Optimization (max)\n",
    "- Single-objective\n",
    "- Constraints (no)\n",
    "---\n",
    "\n",
    "The general problem statement is given by:\n",
    "\n",
    "We have a genome that is an array of 'M', bits e.g. [0, 0, 1, 1, 0, ..., 1]. The optimal solution is the one where each gene has the value of '1'.\n",
    "\n",
    "- $f(\\mathbf{x}) = \\sum_{i=1}^{M} x_i$\n",
    "\n",
    "Global maximum found at: $f(1, 1, ..., 1) = M$."
   ]
  },
  {
   "cell_type": "markdown",
   "id": "5314f4cb",
   "metadata": {},
   "source": [
    "### First we import python libraries and set up the directory of our code."
   ]
  },
  {
   "cell_type": "code",
   "execution_count": 1,
   "id": "e3e288b8",
   "metadata": {},
   "outputs": [],
   "source": [
    "import os, sys\n",
    "import numpy as np\n",
    "from math import fsum\n",
    "\n",
    "PROJECT_DIR = os.path.abspath('..')\n",
    "sys.path.append(PROJECT_DIR)"
   ]
  },
  {
   "cell_type": "markdown",
   "id": "a0ca56c0",
   "metadata": {},
   "source": [
    "### Here we import all our custom GA code."
   ]
  },
  {
   "cell_type": "code",
   "execution_count": 2,
   "id": "73015625",
   "metadata": {},
   "outputs": [],
   "source": [
    "# Import main classes.\n",
    "from pygenalgo.genome.gene import Gene\n",
    "from pygenalgo.genome.chromosome import Chromosome\n",
    "from pygenalgo.engines.standard_ga import StandardGA\n",
    "\n",
    "# Import Selection Operator(s).\n",
    "from pygenalgo.operators.selection.linear_rank_selector import LinearRankSelector\n",
    "\n",
    "# Import Crossover Operator(s).\n",
    "from pygenalgo.operators.crossover.meta_crossover import MetaCrossover\n",
    "\n",
    "# Import Mutation Operator(s).\n",
    "from pygenalgo.operators.mutation.flip_mutator import FlipMutator"
   ]
  },
  {
   "cell_type": "markdown",
   "id": "fd95b659",
   "metadata": {},
   "source": [
    "### Define the OneMax fitness function."
   ]
  },
  {
   "cell_type": "code",
   "execution_count": 3,
   "id": "5a2d2bc4",
   "metadata": {},
   "outputs": [],
   "source": [
    "# OneMax function.\n",
    "def fun_OneMax(individual: Chromosome, f_min: bool = False):\n",
    "    \n",
    "    # Compute the function value.\n",
    "    f_val = fsum([xi.value for xi in individual])\n",
    "\n",
    "    # Condition for termination.\n",
    "    solution_found = f_val == len(individual)\n",
    "\n",
    "    # Assign the fitness value (check for minimization).\n",
    "    fit_value = -f_val if f_min else f_val\n",
    "    \n",
    "    # Return the solution tuple.\n",
    "    return fit_value, solution_found\n",
    "# _end_def_"
   ]
  },
  {
   "cell_type": "markdown",
   "id": "bdadd046",
   "metadata": {},
   "source": [
    "Here we set the GA parameters, such as number of genes, number of chromosomes, etc."
   ]
  },
  {
   "cell_type": "code",
   "execution_count": 4,
   "id": "091152b6",
   "metadata": {},
   "outputs": [],
   "source": [
    "# Random number generator.\n",
    "rng = np.random.default_rng()\n",
    "\n",
    "# Random function: It is used only for compatibility.\n",
    "boundary_x = lambda: rng.integers(2)\n",
    "\n",
    "# Define the number of genes.\n",
    "M = 50\n",
    "\n",
    "# Define the number of chromosomes.\n",
    "N = 100\n",
    "\n",
    "# Draw random samples for the initial points.\n",
    "x_init = rng.integers(low=0, high=2, size=(N, M))\n",
    "\n",
    "# Initial population.\n",
    "population = [Chromosome([Gene(x_init[i, j], boundary_x)\n",
    "                          for j in range(M)], np.nan, True)\n",
    "              for i in range(N)]\n",
    "\n",
    "# Create the StandardGA object that will carry on the optimization.\n",
    "test_GA = StandardGA(initial_pop=population,\n",
    "                     fit_func=fun_OneMax,\n",
    "                     select_op=LinearRankSelector(),\n",
    "                     mutate_op=FlipMutator(),\n",
    "                     crossx_op=MetaCrossover())"
   ]
  },
  {
   "cell_type": "markdown",
   "id": "d0712daf",
   "metadata": {},
   "source": [
    "### Optimization process.\n",
    "\n",
    "Here we call the GA object. We set a number of parameters, such as the maximum iterations (i.e. epochs), tolerance for the fitness convergence, etc."
   ]
  },
  {
   "cell_type": "code",
   "execution_count": 5,
   "id": "b3502a18",
   "metadata": {},
   "outputs": [
    {
     "name": "stdout",
     "output_type": "stream",
     "text": [
      "Initial Avg. Fitness = 24.9800.\n",
      "StandardGA finished in 24 iterations.\n",
      "Final   Avg. Fitness = 45.7300.\n",
      "Elapsed time: 1.957 seconds.\n"
     ]
    }
   ],
   "source": [
    "test_GA(epochs=200, elitism=True, f_tol=1.0e-6, verbose=False)"
   ]
  },
  {
   "cell_type": "code",
   "execution_count": 6,
   "id": "2523fc1f",
   "metadata": {},
   "outputs": [
    {
     "name": "stdout",
     "output_type": "stream",
     "text": [
      "Optimum Found: 50.00000\n",
      "\n",
      "x1 =   1.000000\n",
      "x2 =   1.000000\n",
      "x3 =   1.000000\n",
      "x4 =   1.000000\n",
      "x5 =   1.000000\n",
      "x6 =   1.000000\n",
      "x7 =   1.000000\n",
      "x8 =   1.000000\n",
      "x9 =   1.000000\n",
      "x10 =   1.000000\n",
      "x11 =   1.000000\n",
      "x12 =   1.000000\n",
      "x13 =   1.000000\n",
      "x14 =   1.000000\n",
      "x15 =   1.000000\n",
      "x16 =   1.000000\n",
      "x17 =   1.000000\n",
      "x18 =   1.000000\n",
      "x19 =   1.000000\n",
      "x20 =   1.000000\n",
      "x21 =   1.000000\n",
      "x22 =   1.000000\n",
      "x23 =   1.000000\n",
      "x24 =   1.000000\n",
      "x25 =   1.000000\n",
      "x26 =   1.000000\n",
      "x27 =   1.000000\n",
      "x28 =   1.000000\n",
      "x29 =   1.000000\n",
      "x30 =   1.000000\n",
      "x31 =   1.000000\n",
      "x32 =   1.000000\n",
      "x33 =   1.000000\n",
      "x34 =   1.000000\n",
      "x35 =   1.000000\n",
      "x36 =   1.000000\n",
      "x37 =   1.000000\n",
      "x38 =   1.000000\n",
      "x39 =   1.000000\n",
      "x40 =   1.000000\n",
      "x41 =   1.000000\n",
      "x42 =   1.000000\n",
      "x43 =   1.000000\n",
      "x44 =   1.000000\n",
      "x45 =   1.000000\n",
      "x46 =   1.000000\n",
      "x47 =   1.000000\n",
      "x48 =   1.000000\n",
      "x49 =   1.000000\n",
      "x50 =   1.000000\n"
     ]
    }
   ],
   "source": [
    "# Extract the optimal solution from the GA.\n",
    "optimal_solution = test_GA.best_chromosome()\n",
    "\n",
    "# Extract the fitness value from the optimal solution.\n",
    "optimal_fit, _ = fun_OneMax(optimal_solution)\n",
    "\n",
    "# Display the (final) optimal value.\n",
    "print(f\"Optimum Found: {optimal_fit:.5f}\\n\")\n",
    "\n",
    "# Display each gene value separately.\n",
    "for i, xi in enumerate(optimal_solution.genome, start=1):\n",
    "    print(f\"x{i} = {xi.value:>10.6f}\")\n",
    "# _end_for_\n",
    "\n",
    "# True maximum: f(1.0, 1.0, ..., 1.0) = M"
   ]
  },
  {
   "cell_type": "markdown",
   "id": "e3193c7f",
   "metadata": {},
   "source": [
    "### End of file"
   ]
  },
  {
   "cell_type": "code",
   "execution_count": null,
   "id": "d7b1f97e",
   "metadata": {},
   "outputs": [],
   "source": []
  }
 ],
 "metadata": {
  "kernelspec": {
   "display_name": "venv_tf",
   "language": "python",
   "name": "venv_tf"
  },
  "language_info": {
   "codemirror_mode": {
    "name": "ipython",
    "version": 3
   },
   "file_extension": ".py",
   "mimetype": "text/x-python",
   "name": "python",
   "nbconvert_exporter": "python",
   "pygments_lexer": "ipython3",
   "version": "3.10.13"
  }
 },
 "nbformat": 4,
 "nbformat_minor": 5
}
